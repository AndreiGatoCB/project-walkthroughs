{
 "cells": [
  {
   "cell_type": "code",
   "execution_count": 194,
   "id": "82dc37e0-ec11-4616-90d9-132ba8932d6d",
   "metadata": {},
   "outputs": [],
   "source": [
    "import mwclient\n",
    "import json\n",
    "import time\n",
    "\n",
    "DIR = \"wiki_history\"\n",
    "site = mwclient.Site('en.wikipedia.org')\n",
    "page = site.pages['Bitcoin']"
   ]
  },
  {
   "cell_type": "code",
   "execution_count": 195,
   "id": "e2444104-73ac-45fe-85ff-fff2c3b10c38",
   "metadata": {},
   "outputs": [],
   "source": [
    "revs = list(page.revisions())"
   ]
  },
  {
   "cell_type": "code",
   "execution_count": 196,
   "id": "e1072d34-8a28-4c15-8011-56cc189685ff",
   "metadata": {},
   "outputs": [
    {
     "data": {
      "text/plain": [
       "OrderedDict([('revid', 1108886469),\n",
       "             ('parentid', 1108063744),\n",
       "             ('minor', ''),\n",
       "             ('user', 'Keith D'),\n",
       "             ('timestamp',\n",
       "              time.struct_time(tm_year=2022, tm_mon=9, tm_mday=6, tm_hour=20, tm_min=6, tm_sec=58, tm_wday=1, tm_yday=249, tm_isdst=-1)),\n",
       "             ('comment', 'BBC news -> BBC News')])"
      ]
     },
     "execution_count": 196,
     "metadata": {},
     "output_type": "execute_result"
    }
   ],
   "source": [
    "revs[0]"
   ]
  },
  {
   "cell_type": "code",
   "execution_count": null,
   "id": "9487a722-c17c-4902-88d1-babfe60c8f9e",
   "metadata": {},
   "outputs": [],
   "source": [
    "contents = list(page.revisions(prop=\"content\"))"
   ]
  },
  {
   "cell_type": "code",
   "execution_count": null,
   "id": "e07ea1dc-ce4f-4834-9209-15e0a50c4dbe",
   "metadata": {},
   "outputs": [],
   "source": [
    "contents[0].keys()"
   ]
  },
  {
   "cell_type": "code",
   "execution_count": null,
   "id": "897273fc-9634-41ef-bb9a-53464ed11bcd",
   "metadata": {},
   "outputs": [],
   "source": [
    "comments = list(page.revisions(prop=\"comment\"))"
   ]
  },
  {
   "cell_type": "code",
   "execution_count": null,
   "id": "22e254e6-0140-4f36-86f5-46849d1bfb94",
   "metadata": {},
   "outputs": [],
   "source": [
    "comments[0]"
   ]
  },
  {
   "cell_type": "code",
   "execution_count": 42,
   "id": "56bc3e1c-83e9-4e91-b8e7-2e64a99e3ea1",
   "metadata": {},
   "outputs": [],
   "source": [
    "for (rev, content) in zip(revs, contents):\n",
    "    if isinstance(rev['timestamp'], time.struct_time):\n",
    "        rev['timestamp'] = time.strftime(\"%Y-%m-%dT%H:%M:%S\", rev['timestamp'])\n",
    "    with open(f\"{DIR}/{rev['timestamp']}.json\", \"w+\") as f:\n",
    "        data = json.dumps({'info': rev, 'content': content, 'comment': comment}, indent=4)\n",
    "        f.write(data)"
   ]
  },
  {
   "cell_type": "code",
   "execution_count": 169,
   "id": "aa14067d-ae9b-4324-aba3-0368eccf1e7f",
   "metadata": {},
   "outputs": [],
   "source": [
    "import os\n",
    "\n",
    "files = sorted([f for f in os.listdir(DIR) if f.endswith(\"json\")])"
   ]
  },
  {
   "cell_type": "code",
   "execution_count": 170,
   "id": "9cfed188-7b82-4992-bac0-ae915aa19f44",
   "metadata": {},
   "outputs": [
    {
     "data": {
      "text/plain": [
       "'2009-03-08T16:41:07.json'"
      ]
     },
     "execution_count": 170,
     "metadata": {},
     "output_type": "execute_result"
    }
   ],
   "source": [
    "files[0]"
   ]
  },
  {
   "cell_type": "code",
   "execution_count": 171,
   "id": "ff994163-f689-4bca-99f2-f5b20cefc006",
   "metadata": {},
   "outputs": [],
   "source": [
    "d = json.load(open(f\"{DIR}/{files[0]}\"))"
   ]
  },
  {
   "cell_type": "code",
   "execution_count": 172,
   "id": "82ad0f26-bf40-4132-bbb9-d61918e9726e",
   "metadata": {},
   "outputs": [
    {
     "data": {
      "text/plain": [
       "{'info': {'revid': 275832581,\n",
       "  'parentid': 0,\n",
       "  'user': 'Pratyeka',\n",
       "  'timestamp': '2009-03-08T16:41:07',\n",
       "  'comment': 'creation (stub)'},\n",
       " 'content': {'contentformat': 'text/x-wiki',\n",
       "  'contentmodel': 'wikitext',\n",
       "  '*': \"'''Bitcoin''' is an open source peer-to-peer electronic cash system developed by Satoshi Nakamoto that's completely [[P2P|decentralized\\\\\\\\, with no central server or trusted parties. Users hold the [[cryptography|crypto]] keys to their own money and transact directly with each other, with the help of the network to check for double-spending.\\n\\n==See also==\\n*[[Anonymous internet banking]]\\n*[[eCache]]\\n*[[Pecunix]]\\n*[[Ripple monetary system]]\\n*[[Yodelbank]]\\n\\n==External links==\\n*[http://www.bitcoin.org Official website]\\n\\n{{stub}}\"}}"
      ]
     },
     "execution_count": 172,
     "metadata": {},
     "output_type": "execute_result"
    }
   ],
   "source": [
    "d"
   ]
  },
  {
   "cell_type": "code",
   "execution_count": 188,
   "id": "f9217454-da89-4b3c-b584-efb382995089",
   "metadata": {},
   "outputs": [
    {
     "name": "stderr",
     "output_type": "stream",
     "text": [
      "No model was supplied, defaulted to distilbert-base-uncased-finetuned-sst-2-english (https://huggingface.co/distilbert-base-uncased-finetuned-sst-2-english)\n"
     ]
    }
   ],
   "source": [
    "from transformers import pipeline\n",
    "sentiment_pipeline = pipeline(\"sentiment-analysis\")\n",
    "\n",
    "def find_sentiment(text):\n",
    "    sent = sentiment_pipeline([text[:250]])[0]\n",
    "    score = sent[\"score\"]\n",
    "    if sent[\"label\"] == \"NEGATIVE\":\n",
    "        score *= -1\n",
    "    return score"
   ]
  },
  {
   "cell_type": "code",
   "execution_count": null,
   "id": "9bf3146d-25a5-4bf4-a20d-717f89c78251",
   "metadata": {},
   "outputs": [],
   "source": [
    "edits = {}\n",
    "prev_content = \"\"\n",
    "\n",
    "for fname in files:\n",
    "    with open(f\"{DIR}/{fname}\") as f:\n",
    "        data = json.load(f)\n",
    "        \n",
    "    if \"*\" not in data[\"content\"]:\n",
    "        continue\n",
    "        \n",
    "    date = data[\"info\"][\"timestamp\"].split(\"T\")[0]\n",
    "    if date not in edits:\n",
    "        edits[date] = dict(ratios=list(), differences=list(), editor_names=set(), sentiments=list())\n",
    "    \n",
    "    content = data[\"content\"][\"*\"]\n",
    "    \n",
    "    difference = abs(len(content) - len(prev_content))\n",
    "    ratio = difference / (len(prev_content) + 1)\n",
    "    \n",
    "    edits[date][\"differences\"].append(difference)\n",
    "    edits[date][\"ratios\"].append(ratio)\n",
    "    edits[date][\"editor_names\"].add(data[\"info\"][\"user\"])\n",
    "    \n",
    "    comment = data[\"info\"][\"comment\"]\n",
    "    if comment:\n",
    "        edits[date][\"sentiments\"].append(find_sentiment(comment))\n",
    "    \n",
    "    prev_content = content"
   ]
  },
  {
   "cell_type": "code",
   "execution_count": 156,
   "id": "3ea15f23-a3a1-4ed2-85b2-87844d9b1d02",
   "metadata": {},
   "outputs": [],
   "source": [
    "from statistics import mean\n",
    "\n",
    "for key in edits:\n",
    "    edits[key][\"edit_count\"] = len(edits[key][\"ratios\"])\n",
    "    edits[key][\"editor_count\"] = len(edits[key][\"editor_names\"])\n",
    "    \n",
    "    edits[key][\"ratio\"] = mean(edits[key][\"ratios\"])\n",
    "    edits[key][\"difference\"] = mean(edits[key][\"differences\"])\n",
    "    edits[key][\"sentiment\"] = mean(edits[key][\"sentiment\"])\n",
    "    edits[key][\"neg_sentiment\"] = len([s for s in edits[key][\"sentiment\"] if s < 0]) / len(edits[key][sentiment])\n",
    "    edits[key][\"total_difference\"] = sum(edits[key][\"differences\"])\n",
    "    \n",
    "    del edits[key][\"ratios\"]\n",
    "    del edits[key][\"differences\"]\n",
    "    del edits[key][\"editor_names\"]"
   ]
  },
  {
   "cell_type": "code",
   "execution_count": 157,
   "id": "86056936-1e5d-493f-b747-8c96d3fe9c09",
   "metadata": {},
   "outputs": [],
   "source": [
    "import pandas as pd\n",
    "\n",
    "edits_df = pd.DataFrame.from_dict(edits, orient=\"index\")"
   ]
  },
  {
   "cell_type": "code",
   "execution_count": 158,
   "id": "f58a9075-4802-40e8-802b-3a6d816dc068",
   "metadata": {},
   "outputs": [
    {
     "data": {
      "text/html": [
       "<div>\n",
       "<style scoped>\n",
       "    .dataframe tbody tr th:only-of-type {\n",
       "        vertical-align: middle;\n",
       "    }\n",
       "\n",
       "    .dataframe tbody tr th {\n",
       "        vertical-align: top;\n",
       "    }\n",
       "\n",
       "    .dataframe thead th {\n",
       "        text-align: right;\n",
       "    }\n",
       "</style>\n",
       "<table border=\"1\" class=\"dataframe\">\n",
       "  <thead>\n",
       "    <tr style=\"text-align: right;\">\n",
       "      <th></th>\n",
       "      <th>edit_count</th>\n",
       "      <th>editor_count</th>\n",
       "      <th>ratio</th>\n",
       "      <th>difference</th>\n",
       "      <th>total_difference</th>\n",
       "    </tr>\n",
       "  </thead>\n",
       "  <tbody>\n",
       "    <tr>\n",
       "      <th>2009-03-08</th>\n",
       "      <td>4</td>\n",
       "      <td>2</td>\n",
       "      <td>132.262639</td>\n",
       "      <td>139.000000</td>\n",
       "      <td>556</td>\n",
       "    </tr>\n",
       "    <tr>\n",
       "      <th>2009-08-05</th>\n",
       "      <td>1</td>\n",
       "      <td>1</td>\n",
       "      <td>2.502693</td>\n",
       "      <td>1394.000000</td>\n",
       "      <td>1394</td>\n",
       "    </tr>\n",
       "    <tr>\n",
       "      <th>2009-08-06</th>\n",
       "      <td>2</td>\n",
       "      <td>1</td>\n",
       "      <td>0.004619</td>\n",
       "      <td>9.000000</td>\n",
       "      <td>18</td>\n",
       "    </tr>\n",
       "    <tr>\n",
       "      <th>2009-08-14</th>\n",
       "      <td>1</td>\n",
       "      <td>1</td>\n",
       "      <td>0.004656</td>\n",
       "      <td>9.000000</td>\n",
       "      <td>9</td>\n",
       "    </tr>\n",
       "    <tr>\n",
       "      <th>2009-10-13</th>\n",
       "      <td>2</td>\n",
       "      <td>2</td>\n",
       "      <td>0.034921</td>\n",
       "      <td>69.000000</td>\n",
       "      <td>138</td>\n",
       "    </tr>\n",
       "    <tr>\n",
       "      <th>...</th>\n",
       "      <td>...</td>\n",
       "      <td>...</td>\n",
       "      <td>...</td>\n",
       "      <td>...</td>\n",
       "      <td>...</td>\n",
       "    </tr>\n",
       "    <tr>\n",
       "      <th>2022-08-02</th>\n",
       "      <td>1</td>\n",
       "      <td>1</td>\n",
       "      <td>0.000018</td>\n",
       "      <td>4.000000</td>\n",
       "      <td>4</td>\n",
       "    </tr>\n",
       "    <tr>\n",
       "      <th>2022-08-14</th>\n",
       "      <td>1</td>\n",
       "      <td>1</td>\n",
       "      <td>0.001101</td>\n",
       "      <td>246.000000</td>\n",
       "      <td>246</td>\n",
       "    </tr>\n",
       "    <tr>\n",
       "      <th>2022-08-17</th>\n",
       "      <td>3</td>\n",
       "      <td>2</td>\n",
       "      <td>0.000971</td>\n",
       "      <td>216.666667</td>\n",
       "      <td>650</td>\n",
       "    </tr>\n",
       "    <tr>\n",
       "      <th>2022-08-23</th>\n",
       "      <td>2</td>\n",
       "      <td>2</td>\n",
       "      <td>0.000161</td>\n",
       "      <td>36.000000</td>\n",
       "      <td>72</td>\n",
       "    </tr>\n",
       "    <tr>\n",
       "      <th>2022-08-29</th>\n",
       "      <td>2</td>\n",
       "      <td>1</td>\n",
       "      <td>0.000532</td>\n",
       "      <td>119.000000</td>\n",
       "      <td>238</td>\n",
       "    </tr>\n",
       "  </tbody>\n",
       "</table>\n",
       "<p>2513 rows × 5 columns</p>\n",
       "</div>"
      ],
      "text/plain": [
       "            edit_count  editor_count       ratio   difference  \\\n",
       "2009-03-08           4             2  132.262639   139.000000   \n",
       "2009-08-05           1             1    2.502693  1394.000000   \n",
       "2009-08-06           2             1    0.004619     9.000000   \n",
       "2009-08-14           1             1    0.004656     9.000000   \n",
       "2009-10-13           2             2    0.034921    69.000000   \n",
       "...                ...           ...         ...          ...   \n",
       "2022-08-02           1             1    0.000018     4.000000   \n",
       "2022-08-14           1             1    0.001101   246.000000   \n",
       "2022-08-17           3             2    0.000971   216.666667   \n",
       "2022-08-23           2             2    0.000161    36.000000   \n",
       "2022-08-29           2             1    0.000532   119.000000   \n",
       "\n",
       "            total_difference  \n",
       "2009-03-08               556  \n",
       "2009-08-05              1394  \n",
       "2009-08-06                18  \n",
       "2009-08-14                 9  \n",
       "2009-10-13               138  \n",
       "...                      ...  \n",
       "2022-08-02                 4  \n",
       "2022-08-14               246  \n",
       "2022-08-17               650  \n",
       "2022-08-23                72  \n",
       "2022-08-29               238  \n",
       "\n",
       "[2513 rows x 5 columns]"
      ]
     },
     "execution_count": 158,
     "metadata": {},
     "output_type": "execute_result"
    }
   ],
   "source": [
    "edits_df"
   ]
  },
  {
   "cell_type": "code",
   "execution_count": 159,
   "id": "108e42ed-0ecd-4108-9fa9-08399970a9cb",
   "metadata": {},
   "outputs": [],
   "source": [
    "edits_df.index = pd.to_datetime(edits_df.index)"
   ]
  },
  {
   "cell_type": "code",
   "execution_count": 160,
   "id": "7152e4ca-960b-4eca-a235-6f7865534b1f",
   "metadata": {},
   "outputs": [],
   "source": [
    "from datetime import datetime\n",
    "\n",
    "dates = pd.date_range(start=\"2009-03-08\",end=datetime.today())"
   ]
  },
  {
   "cell_type": "code",
   "execution_count": 161,
   "id": "e33c7ab4-9f85-4afd-8f6b-108bab4e51a0",
   "metadata": {},
   "outputs": [],
   "source": [
    "edits_df = edits_df.reindex(dates, fill_value=0)"
   ]
  },
  {
   "cell_type": "code",
   "execution_count": 162,
   "id": "58b56d2b-10e6-4f8c-b846-7d52fbff40f3",
   "metadata": {},
   "outputs": [
    {
     "data": {
      "text/html": [
       "<div>\n",
       "<style scoped>\n",
       "    .dataframe tbody tr th:only-of-type {\n",
       "        vertical-align: middle;\n",
       "    }\n",
       "\n",
       "    .dataframe tbody tr th {\n",
       "        vertical-align: top;\n",
       "    }\n",
       "\n",
       "    .dataframe thead th {\n",
       "        text-align: right;\n",
       "    }\n",
       "</style>\n",
       "<table border=\"1\" class=\"dataframe\">\n",
       "  <thead>\n",
       "    <tr style=\"text-align: right;\">\n",
       "      <th></th>\n",
       "      <th>edit_count</th>\n",
       "      <th>editor_count</th>\n",
       "      <th>ratio</th>\n",
       "      <th>difference</th>\n",
       "      <th>total_difference</th>\n",
       "    </tr>\n",
       "  </thead>\n",
       "  <tbody>\n",
       "    <tr>\n",
       "      <th>2009-03-08</th>\n",
       "      <td>4</td>\n",
       "      <td>2</td>\n",
       "      <td>132.262639</td>\n",
       "      <td>139.0</td>\n",
       "      <td>556</td>\n",
       "    </tr>\n",
       "    <tr>\n",
       "      <th>2009-03-09</th>\n",
       "      <td>0</td>\n",
       "      <td>0</td>\n",
       "      <td>0.000000</td>\n",
       "      <td>0.0</td>\n",
       "      <td>0</td>\n",
       "    </tr>\n",
       "    <tr>\n",
       "      <th>2009-03-10</th>\n",
       "      <td>0</td>\n",
       "      <td>0</td>\n",
       "      <td>0.000000</td>\n",
       "      <td>0.0</td>\n",
       "      <td>0</td>\n",
       "    </tr>\n",
       "    <tr>\n",
       "      <th>2009-03-11</th>\n",
       "      <td>0</td>\n",
       "      <td>0</td>\n",
       "      <td>0.000000</td>\n",
       "      <td>0.0</td>\n",
       "      <td>0</td>\n",
       "    </tr>\n",
       "    <tr>\n",
       "      <th>2009-03-12</th>\n",
       "      <td>0</td>\n",
       "      <td>0</td>\n",
       "      <td>0.000000</td>\n",
       "      <td>0.0</td>\n",
       "      <td>0</td>\n",
       "    </tr>\n",
       "    <tr>\n",
       "      <th>...</th>\n",
       "      <td>...</td>\n",
       "      <td>...</td>\n",
       "      <td>...</td>\n",
       "      <td>...</td>\n",
       "      <td>...</td>\n",
       "    </tr>\n",
       "    <tr>\n",
       "      <th>2022-08-27</th>\n",
       "      <td>0</td>\n",
       "      <td>0</td>\n",
       "      <td>0.000000</td>\n",
       "      <td>0.0</td>\n",
       "      <td>0</td>\n",
       "    </tr>\n",
       "    <tr>\n",
       "      <th>2022-08-28</th>\n",
       "      <td>0</td>\n",
       "      <td>0</td>\n",
       "      <td>0.000000</td>\n",
       "      <td>0.0</td>\n",
       "      <td>0</td>\n",
       "    </tr>\n",
       "    <tr>\n",
       "      <th>2022-08-29</th>\n",
       "      <td>2</td>\n",
       "      <td>1</td>\n",
       "      <td>0.000532</td>\n",
       "      <td>119.0</td>\n",
       "      <td>238</td>\n",
       "    </tr>\n",
       "    <tr>\n",
       "      <th>2022-08-30</th>\n",
       "      <td>0</td>\n",
       "      <td>0</td>\n",
       "      <td>0.000000</td>\n",
       "      <td>0.0</td>\n",
       "      <td>0</td>\n",
       "    </tr>\n",
       "    <tr>\n",
       "      <th>2022-08-31</th>\n",
       "      <td>0</td>\n",
       "      <td>0</td>\n",
       "      <td>0.000000</td>\n",
       "      <td>0.0</td>\n",
       "      <td>0</td>\n",
       "    </tr>\n",
       "  </tbody>\n",
       "</table>\n",
       "<p>4925 rows × 5 columns</p>\n",
       "</div>"
      ],
      "text/plain": [
       "            edit_count  editor_count       ratio  difference  total_difference\n",
       "2009-03-08           4             2  132.262639       139.0               556\n",
       "2009-03-09           0             0    0.000000         0.0                 0\n",
       "2009-03-10           0             0    0.000000         0.0                 0\n",
       "2009-03-11           0             0    0.000000         0.0                 0\n",
       "2009-03-12           0             0    0.000000         0.0                 0\n",
       "...                ...           ...         ...         ...               ...\n",
       "2022-08-27           0             0    0.000000         0.0                 0\n",
       "2022-08-28           0             0    0.000000         0.0                 0\n",
       "2022-08-29           2             1    0.000532       119.0               238\n",
       "2022-08-30           0             0    0.000000         0.0                 0\n",
       "2022-08-31           0             0    0.000000         0.0                 0\n",
       "\n",
       "[4925 rows x 5 columns]"
      ]
     },
     "execution_count": 162,
     "metadata": {},
     "output_type": "execute_result"
    }
   ],
   "source": [
    "edits_df"
   ]
  },
  {
   "cell_type": "code",
   "execution_count": 163,
   "id": "74ebbf3a-0dd3-4e8a-acaf-3e82428bdbba",
   "metadata": {},
   "outputs": [],
   "source": [
    "rolling_edits = edits_df.rolling(30, min_periods=30).mean()"
   ]
  },
  {
   "cell_type": "code",
   "execution_count": 164,
   "id": "d3118067-b5f7-4965-bcef-0632a164065e",
   "metadata": {},
   "outputs": [],
   "source": [
    "rolling_edits = rolling_edits.dropna()"
   ]
  },
  {
   "cell_type": "code",
   "execution_count": 165,
   "id": "da299928-ff9e-47df-82bd-e7f7ccda84a2",
   "metadata": {},
   "outputs": [
    {
     "data": {
      "text/html": [
       "<div>\n",
       "<style scoped>\n",
       "    .dataframe tbody tr th:only-of-type {\n",
       "        vertical-align: middle;\n",
       "    }\n",
       "\n",
       "    .dataframe tbody tr th {\n",
       "        vertical-align: top;\n",
       "    }\n",
       "\n",
       "    .dataframe thead th {\n",
       "        text-align: right;\n",
       "    }\n",
       "</style>\n",
       "<table border=\"1\" class=\"dataframe\">\n",
       "  <thead>\n",
       "    <tr style=\"text-align: right;\">\n",
       "      <th></th>\n",
       "      <th>edit_count</th>\n",
       "      <th>editor_count</th>\n",
       "      <th>ratio</th>\n",
       "      <th>difference</th>\n",
       "      <th>total_difference</th>\n",
       "    </tr>\n",
       "  </thead>\n",
       "  <tbody>\n",
       "    <tr>\n",
       "      <th>2009-04-06</th>\n",
       "      <td>0.133333</td>\n",
       "      <td>0.066667</td>\n",
       "      <td>4.408755</td>\n",
       "      <td>4.633333</td>\n",
       "      <td>18.533333</td>\n",
       "    </tr>\n",
       "    <tr>\n",
       "      <th>2009-04-07</th>\n",
       "      <td>0.000000</td>\n",
       "      <td>0.000000</td>\n",
       "      <td>0.000000</td>\n",
       "      <td>0.000000</td>\n",
       "      <td>0.000000</td>\n",
       "    </tr>\n",
       "    <tr>\n",
       "      <th>2009-04-08</th>\n",
       "      <td>0.000000</td>\n",
       "      <td>0.000000</td>\n",
       "      <td>0.000000</td>\n",
       "      <td>0.000000</td>\n",
       "      <td>0.000000</td>\n",
       "    </tr>\n",
       "    <tr>\n",
       "      <th>2009-04-09</th>\n",
       "      <td>0.000000</td>\n",
       "      <td>0.000000</td>\n",
       "      <td>0.000000</td>\n",
       "      <td>0.000000</td>\n",
       "      <td>0.000000</td>\n",
       "    </tr>\n",
       "    <tr>\n",
       "      <th>2009-04-10</th>\n",
       "      <td>0.000000</td>\n",
       "      <td>0.000000</td>\n",
       "      <td>0.000000</td>\n",
       "      <td>0.000000</td>\n",
       "      <td>0.000000</td>\n",
       "    </tr>\n",
       "    <tr>\n",
       "      <th>...</th>\n",
       "      <td>...</td>\n",
       "      <td>...</td>\n",
       "      <td>...</td>\n",
       "      <td>...</td>\n",
       "      <td>...</td>\n",
       "    </tr>\n",
       "    <tr>\n",
       "      <th>2022-08-27</th>\n",
       "      <td>0.300000</td>\n",
       "      <td>0.266667</td>\n",
       "      <td>0.000076</td>\n",
       "      <td>16.922222</td>\n",
       "      <td>32.733333</td>\n",
       "    </tr>\n",
       "    <tr>\n",
       "      <th>2022-08-28</th>\n",
       "      <td>0.233333</td>\n",
       "      <td>0.200000</td>\n",
       "      <td>0.000075</td>\n",
       "      <td>16.755556</td>\n",
       "      <td>32.400000</td>\n",
       "    </tr>\n",
       "    <tr>\n",
       "      <th>2022-08-29</th>\n",
       "      <td>0.300000</td>\n",
       "      <td>0.233333</td>\n",
       "      <td>0.000093</td>\n",
       "      <td>20.722222</td>\n",
       "      <td>40.333333</td>\n",
       "    </tr>\n",
       "    <tr>\n",
       "      <th>2022-08-30</th>\n",
       "      <td>0.300000</td>\n",
       "      <td>0.233333</td>\n",
       "      <td>0.000093</td>\n",
       "      <td>20.722222</td>\n",
       "      <td>40.333333</td>\n",
       "    </tr>\n",
       "    <tr>\n",
       "      <th>2022-08-31</th>\n",
       "      <td>0.300000</td>\n",
       "      <td>0.233333</td>\n",
       "      <td>0.000093</td>\n",
       "      <td>20.722222</td>\n",
       "      <td>40.333333</td>\n",
       "    </tr>\n",
       "  </tbody>\n",
       "</table>\n",
       "<p>4896 rows × 5 columns</p>\n",
       "</div>"
      ],
      "text/plain": [
       "            edit_count  editor_count     ratio  difference  total_difference\n",
       "2009-04-06    0.133333      0.066667  4.408755    4.633333         18.533333\n",
       "2009-04-07    0.000000      0.000000  0.000000    0.000000          0.000000\n",
       "2009-04-08    0.000000      0.000000  0.000000    0.000000          0.000000\n",
       "2009-04-09    0.000000      0.000000  0.000000    0.000000          0.000000\n",
       "2009-04-10    0.000000      0.000000  0.000000    0.000000          0.000000\n",
       "...                ...           ...       ...         ...               ...\n",
       "2022-08-27    0.300000      0.266667  0.000076   16.922222         32.733333\n",
       "2022-08-28    0.233333      0.200000  0.000075   16.755556         32.400000\n",
       "2022-08-29    0.300000      0.233333  0.000093   20.722222         40.333333\n",
       "2022-08-30    0.300000      0.233333  0.000093   20.722222         40.333333\n",
       "2022-08-31    0.300000      0.233333  0.000093   20.722222         40.333333\n",
       "\n",
       "[4896 rows x 5 columns]"
      ]
     },
     "execution_count": 165,
     "metadata": {},
     "output_type": "execute_result"
    }
   ],
   "source": [
    "rolling_edits"
   ]
  },
  {
   "cell_type": "code",
   "execution_count": 166,
   "id": "d713804f-4ebd-4dab-a575-8ffedc40529f",
   "metadata": {},
   "outputs": [],
   "source": [
    "rolling_edits.to_csv(\"wikipedia_edits.csv\")"
   ]
  },
  {
   "cell_type": "code",
   "execution_count": null,
   "id": "ebb493e1-d977-4773-9456-6135ccb0b307",
   "metadata": {},
   "outputs": [],
   "source": []
  }
 ],
 "metadata": {
  "kernelspec": {
   "display_name": "Python 3 (ipykernel)",
   "language": "python",
   "name": "python3"
  },
  "language_info": {
   "codemirror_mode": {
    "name": "ipython",
    "version": 3
   },
   "file_extension": ".py",
   "mimetype": "text/x-python",
   "name": "python",
   "nbconvert_exporter": "python",
   "pygments_lexer": "ipython3",
   "version": "3.9.13"
  }
 },
 "nbformat": 4,
 "nbformat_minor": 5
}
