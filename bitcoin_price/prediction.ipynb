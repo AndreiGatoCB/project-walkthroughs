{
 "cells": [
  {
   "cell_type": "code",
   "execution_count": 40,
   "id": "9925ad2f-9c50-45e5-8533-eebf1a5fd7d2",
   "metadata": {},
   "outputs": [],
   "source": [
    "import yfinance as yf"
   ]
  },
  {
   "cell_type": "code",
   "execution_count": 41,
   "id": "130eb0f5-a3ab-4b7a-a3aa-bb1c8437d6f2",
   "metadata": {},
   "outputs": [],
   "source": [
    "btc_ticker = yf.Ticker(\"BTC-USD\")"
   ]
  },
  {
   "cell_type": "code",
   "execution_count": 42,
   "id": "d71ca889-3406-4139-9da6-792dfc844e19",
   "metadata": {},
   "outputs": [],
   "source": [
    "btc = btc_ticker.history(period=\"max\")"
   ]
  },
  {
   "cell_type": "code",
   "execution_count": 43,
   "id": "fae85f03-d041-4cdd-832b-5a769e998236",
   "metadata": {},
   "outputs": [
    {
     "data": {
      "text/html": [
       "<div>\n",
       "<style scoped>\n",
       "    .dataframe tbody tr th:only-of-type {\n",
       "        vertical-align: middle;\n",
       "    }\n",
       "\n",
       "    .dataframe tbody tr th {\n",
       "        vertical-align: top;\n",
       "    }\n",
       "\n",
       "    .dataframe thead th {\n",
       "        text-align: right;\n",
       "    }\n",
       "</style>\n",
       "<table border=\"1\" class=\"dataframe\">\n",
       "  <thead>\n",
       "    <tr style=\"text-align: right;\">\n",
       "      <th></th>\n",
       "      <th>Open</th>\n",
       "      <th>High</th>\n",
       "      <th>Low</th>\n",
       "      <th>Close</th>\n",
       "      <th>Volume</th>\n",
       "      <th>Dividends</th>\n",
       "      <th>Stock Splits</th>\n",
       "    </tr>\n",
       "    <tr>\n",
       "      <th>Date</th>\n",
       "      <th></th>\n",
       "      <th></th>\n",
       "      <th></th>\n",
       "      <th></th>\n",
       "      <th></th>\n",
       "      <th></th>\n",
       "      <th></th>\n",
       "    </tr>\n",
       "  </thead>\n",
       "  <tbody>\n",
       "    <tr>\n",
       "      <th>2014-09-17</th>\n",
       "      <td>465.864014</td>\n",
       "      <td>468.174011</td>\n",
       "      <td>452.421997</td>\n",
       "      <td>457.334015</td>\n",
       "      <td>21056800</td>\n",
       "      <td>0</td>\n",
       "      <td>0</td>\n",
       "    </tr>\n",
       "    <tr>\n",
       "      <th>2014-09-18</th>\n",
       "      <td>456.859985</td>\n",
       "      <td>456.859985</td>\n",
       "      <td>413.104004</td>\n",
       "      <td>424.440002</td>\n",
       "      <td>34483200</td>\n",
       "      <td>0</td>\n",
       "      <td>0</td>\n",
       "    </tr>\n",
       "    <tr>\n",
       "      <th>2014-09-19</th>\n",
       "      <td>424.102997</td>\n",
       "      <td>427.834991</td>\n",
       "      <td>384.532013</td>\n",
       "      <td>394.795990</td>\n",
       "      <td>37919700</td>\n",
       "      <td>0</td>\n",
       "      <td>0</td>\n",
       "    </tr>\n",
       "    <tr>\n",
       "      <th>2014-09-20</th>\n",
       "      <td>394.673004</td>\n",
       "      <td>423.295990</td>\n",
       "      <td>389.882996</td>\n",
       "      <td>408.903992</td>\n",
       "      <td>36863600</td>\n",
       "      <td>0</td>\n",
       "      <td>0</td>\n",
       "    </tr>\n",
       "    <tr>\n",
       "      <th>2014-09-21</th>\n",
       "      <td>408.084991</td>\n",
       "      <td>412.425995</td>\n",
       "      <td>393.181000</td>\n",
       "      <td>398.821014</td>\n",
       "      <td>26580100</td>\n",
       "      <td>0</td>\n",
       "      <td>0</td>\n",
       "    </tr>\n",
       "    <tr>\n",
       "      <th>...</th>\n",
       "      <td>...</td>\n",
       "      <td>...</td>\n",
       "      <td>...</td>\n",
       "      <td>...</td>\n",
       "      <td>...</td>\n",
       "      <td>...</td>\n",
       "      <td>...</td>\n",
       "    </tr>\n",
       "    <tr>\n",
       "      <th>2022-08-27</th>\n",
       "      <td>20262.480469</td>\n",
       "      <td>20340.775391</td>\n",
       "      <td>19890.523438</td>\n",
       "      <td>20041.738281</td>\n",
       "      <td>30116729776</td>\n",
       "      <td>0</td>\n",
       "      <td>0</td>\n",
       "    </tr>\n",
       "    <tr>\n",
       "      <th>2022-08-28</th>\n",
       "      <td>20041.035156</td>\n",
       "      <td>20139.054688</td>\n",
       "      <td>19616.814453</td>\n",
       "      <td>19616.814453</td>\n",
       "      <td>24366810591</td>\n",
       "      <td>0</td>\n",
       "      <td>0</td>\n",
       "    </tr>\n",
       "    <tr>\n",
       "      <th>2022-08-29</th>\n",
       "      <td>19615.154297</td>\n",
       "      <td>20357.462891</td>\n",
       "      <td>19600.785156</td>\n",
       "      <td>20297.994141</td>\n",
       "      <td>32637854078</td>\n",
       "      <td>0</td>\n",
       "      <td>0</td>\n",
       "    </tr>\n",
       "    <tr>\n",
       "      <th>2022-08-30</th>\n",
       "      <td>20298.611328</td>\n",
       "      <td>20542.644531</td>\n",
       "      <td>19617.640625</td>\n",
       "      <td>19796.808594</td>\n",
       "      <td>34483360283</td>\n",
       "      <td>0</td>\n",
       "      <td>0</td>\n",
       "    </tr>\n",
       "    <tr>\n",
       "      <th>2022-08-31</th>\n",
       "      <td>19832.951172</td>\n",
       "      <td>20419.748047</td>\n",
       "      <td>19832.951172</td>\n",
       "      <td>20226.361328</td>\n",
       "      <td>34199814144</td>\n",
       "      <td>0</td>\n",
       "      <td>0</td>\n",
       "    </tr>\n",
       "  </tbody>\n",
       "</table>\n",
       "<p>2906 rows × 7 columns</p>\n",
       "</div>"
      ],
      "text/plain": [
       "                    Open          High           Low         Close  \\\n",
       "Date                                                                 \n",
       "2014-09-17    465.864014    468.174011    452.421997    457.334015   \n",
       "2014-09-18    456.859985    456.859985    413.104004    424.440002   \n",
       "2014-09-19    424.102997    427.834991    384.532013    394.795990   \n",
       "2014-09-20    394.673004    423.295990    389.882996    408.903992   \n",
       "2014-09-21    408.084991    412.425995    393.181000    398.821014   \n",
       "...                  ...           ...           ...           ...   \n",
       "2022-08-27  20262.480469  20340.775391  19890.523438  20041.738281   \n",
       "2022-08-28  20041.035156  20139.054688  19616.814453  19616.814453   \n",
       "2022-08-29  19615.154297  20357.462891  19600.785156  20297.994141   \n",
       "2022-08-30  20298.611328  20542.644531  19617.640625  19796.808594   \n",
       "2022-08-31  19832.951172  20419.748047  19832.951172  20226.361328   \n",
       "\n",
       "                 Volume  Dividends  Stock Splits  \n",
       "Date                                              \n",
       "2014-09-17     21056800          0             0  \n",
       "2014-09-18     34483200          0             0  \n",
       "2014-09-19     37919700          0             0  \n",
       "2014-09-20     36863600          0             0  \n",
       "2014-09-21     26580100          0             0  \n",
       "...                 ...        ...           ...  \n",
       "2022-08-27  30116729776          0             0  \n",
       "2022-08-28  24366810591          0             0  \n",
       "2022-08-29  32637854078          0             0  \n",
       "2022-08-30  34483360283          0             0  \n",
       "2022-08-31  34199814144          0             0  \n",
       "\n",
       "[2906 rows x 7 columns]"
      ]
     },
     "execution_count": 43,
     "metadata": {},
     "output_type": "execute_result"
    }
   ],
   "source": [
    "btc"
   ]
  },
  {
   "cell_type": "code",
   "execution_count": 44,
   "id": "086d0aef-f2e4-42eb-9e41-4e4bad1f13d1",
   "metadata": {},
   "outputs": [],
   "source": [
    "import pandas as pd\n",
    "\n",
    "btc.index = pd.to_datetime(btc.index)"
   ]
  },
  {
   "cell_type": "code",
   "execution_count": 45,
   "id": "1067f63d-91fd-425a-80a1-fccd1eba3612",
   "metadata": {},
   "outputs": [],
   "source": [
    "del btc[\"Dividends\"]\n",
    "del btc[\"Stock Splits\"]"
   ]
  },
  {
   "cell_type": "code",
   "execution_count": 46,
   "id": "1fd1a503-412e-419f-b3e0-e32bf829ed0d",
   "metadata": {},
   "outputs": [],
   "source": [
    "btc.columns = [c.lower() for c in btc.columns]"
   ]
  },
  {
   "cell_type": "code",
   "execution_count": 47,
   "id": "0f3d1839-bc67-45b7-b1a0-8d8f60c62b50",
   "metadata": {},
   "outputs": [
    {
     "data": {
      "text/plain": [
       "<AxesSubplot:xlabel='Date'>"
      ]
     },
     "execution_count": 47,
     "metadata": {},
     "output_type": "execute_result"
    },
    {
     "data": {
      "image/png": "[encoded data removed]",
      "text/plain": [
       "<Figure size 432x288 with 1 Axes>"
      ]
     },
     "metadata": {
      "needs_background": "light"
     },
     "output_type": "display_data"
    }
   ],
   "source": [
    "btc.plot.line(y=\"close\", use_index=True)"
   ]
  },
  {
   "cell_type": "code",
   "execution_count": 48,
   "id": "8767cdef-7b18-4902-ab92-e2f9d802f174",
   "metadata": {},
   "outputs": [],
   "source": [
    "btc[\"tomorrow\"] = btc[\"close\"].shift(-1)"
   ]
  },
  {
   "cell_type": "code",
   "execution_count": 49,
   "id": "bef1484f-353d-4bdf-afbf-9274b396d8a2",
   "metadata": {},
   "outputs": [],
   "source": [
    "btc[\"target\"] = (btc[\"tomorrow\"] > btc[\"close\"]).astype(int)"
   ]
  },
  {
   "cell_type": "code",
   "execution_count": 50,
   "id": "17bb4150-7dc3-4dcb-92ac-5b2149899563",
   "metadata": {},
   "outputs": [],
   "source": [
    "wiki = pd.read_csv(\"wikipedia_edits.csv\", index_col=0, parse_dates=True)"
   ]
  },
  {
   "cell_type": "code",
   "execution_count": 51,
   "id": "10685b74-a2fb-4399-9a50-83d1fb0a986a",
   "metadata": {},
   "outputs": [
    {
     "data": {
      "text/html": [
       "<div>\n",
       "<style scoped>\n",
       "    .dataframe tbody tr th:only-of-type {\n",
       "        vertical-align: middle;\n",
       "    }\n",
       "\n",
       "    .dataframe tbody tr th {\n",
       "        vertical-align: top;\n",
       "    }\n",
       "\n",
       "    .dataframe thead th {\n",
       "        text-align: right;\n",
       "    }\n",
       "</style>\n",
       "<table border=\"1\" class=\"dataframe\">\n",
       "  <thead>\n",
       "    <tr style=\"text-align: right;\">\n",
       "      <th></th>\n",
       "      <th>edit_count</th>\n",
       "      <th>editor_count</th>\n",
       "      <th>ratio</th>\n",
       "      <th>difference</th>\n",
       "      <th>total_difference</th>\n",
       "    </tr>\n",
       "  </thead>\n",
       "  <tbody>\n",
       "    <tr>\n",
       "      <th>2009-03-14</th>\n",
       "      <td>0.571429</td>\n",
       "      <td>0.285714</td>\n",
       "      <td>1.889466e+01</td>\n",
       "      <td>19.857143</td>\n",
       "      <td>79.428571</td>\n",
       "    </tr>\n",
       "    <tr>\n",
       "      <th>2009-03-15</th>\n",
       "      <td>0.000000</td>\n",
       "      <td>0.000000</td>\n",
       "      <td>0.000000e+00</td>\n",
       "      <td>0.000000</td>\n",
       "      <td>0.000000</td>\n",
       "    </tr>\n",
       "    <tr>\n",
       "      <th>2009-03-16</th>\n",
       "      <td>0.000000</td>\n",
       "      <td>0.000000</td>\n",
       "      <td>0.000000e+00</td>\n",
       "      <td>0.000000</td>\n",
       "      <td>0.000000</td>\n",
       "    </tr>\n",
       "    <tr>\n",
       "      <th>2009-03-17</th>\n",
       "      <td>0.000000</td>\n",
       "      <td>0.000000</td>\n",
       "      <td>0.000000e+00</td>\n",
       "      <td>0.000000</td>\n",
       "      <td>0.000000</td>\n",
       "    </tr>\n",
       "    <tr>\n",
       "      <th>2009-03-18</th>\n",
       "      <td>0.000000</td>\n",
       "      <td>0.000000</td>\n",
       "      <td>0.000000e+00</td>\n",
       "      <td>0.000000</td>\n",
       "      <td>0.000000</td>\n",
       "    </tr>\n",
       "    <tr>\n",
       "      <th>...</th>\n",
       "      <td>...</td>\n",
       "      <td>...</td>\n",
       "      <td>...</td>\n",
       "      <td>...</td>\n",
       "      <td>...</td>\n",
       "    </tr>\n",
       "    <tr>\n",
       "      <th>2022-08-27</th>\n",
       "      <td>0.285714</td>\n",
       "      <td>0.285714</td>\n",
       "      <td>1.851988e-09</td>\n",
       "      <td>0.000000</td>\n",
       "      <td>0.000000</td>\n",
       "    </tr>\n",
       "    <tr>\n",
       "      <th>2022-08-28</th>\n",
       "      <td>0.285714</td>\n",
       "      <td>0.285714</td>\n",
       "      <td>1.851988e-09</td>\n",
       "      <td>0.000000</td>\n",
       "      <td>0.000000</td>\n",
       "    </tr>\n",
       "    <tr>\n",
       "      <th>2022-08-29</th>\n",
       "      <td>0.571429</td>\n",
       "      <td>0.428571</td>\n",
       "      <td>7.602596e-05</td>\n",
       "      <td>17.000000</td>\n",
       "      <td>34.000000</td>\n",
       "    </tr>\n",
       "    <tr>\n",
       "      <th>2022-08-30</th>\n",
       "      <td>0.285714</td>\n",
       "      <td>0.142857</td>\n",
       "      <td>7.602411e-05</td>\n",
       "      <td>17.000000</td>\n",
       "      <td>34.000000</td>\n",
       "    </tr>\n",
       "    <tr>\n",
       "      <th>2022-08-31</th>\n",
       "      <td>0.285714</td>\n",
       "      <td>0.142857</td>\n",
       "      <td>7.602411e-05</td>\n",
       "      <td>17.000000</td>\n",
       "      <td>34.000000</td>\n",
       "    </tr>\n",
       "  </tbody>\n",
       "</table>\n",
       "<p>4919 rows × 5 columns</p>\n",
       "</div>"
      ],
      "text/plain": [
       "            edit_count  editor_count         ratio  difference  \\\n",
       "2009-03-14    0.571429      0.285714  1.889466e+01   19.857143   \n",
       "2009-03-15    0.000000      0.000000  0.000000e+00    0.000000   \n",
       "2009-03-16    0.000000      0.000000  0.000000e+00    0.000000   \n",
       "2009-03-17    0.000000      0.000000  0.000000e+00    0.000000   \n",
       "2009-03-18    0.000000      0.000000  0.000000e+00    0.000000   \n",
       "...                ...           ...           ...         ...   \n",
       "2022-08-27    0.285714      0.285714  1.851988e-09    0.000000   \n",
       "2022-08-28    0.285714      0.285714  1.851988e-09    0.000000   \n",
       "2022-08-29    0.571429      0.428571  7.602596e-05   17.000000   \n",
       "2022-08-30    0.285714      0.142857  7.602411e-05   17.000000   \n",
       "2022-08-31    0.285714      0.142857  7.602411e-05   17.000000   \n",
       "\n",
       "            total_difference  \n",
       "2009-03-14         79.428571  \n",
       "2009-03-15          0.000000  \n",
       "2009-03-16          0.000000  \n",
       "2009-03-17          0.000000  \n",
       "2009-03-18          0.000000  \n",
       "...                      ...  \n",
       "2022-08-27          0.000000  \n",
       "2022-08-28          0.000000  \n",
       "2022-08-29         34.000000  \n",
       "2022-08-30         34.000000  \n",
       "2022-08-31         34.000000  \n",
       "\n",
       "[4919 rows x 5 columns]"
      ]
     },
     "execution_count": 51,
     "metadata": {},
     "output_type": "execute_result"
    }
   ],
   "source": [
    "wiki"
   ]
  },
  {
   "cell_type": "code",
   "execution_count": 52,
   "id": "dbb1b8f3-2058-4e67-9b86-0aef8cfde65c",
   "metadata": {},
   "outputs": [],
   "source": [
    "btc = btc.merge(wiki, left_index=True, right_index=True)"
   ]
  },
  {
   "cell_type": "code",
   "execution_count": 53,
   "id": "c696cca8-ff0b-4735-b87d-5d41e6d8eccf",
   "metadata": {},
   "outputs": [
    {
     "data": {
      "text/plain": [
       "1    1559\n",
       "0    1347\n",
       "Name: target, dtype: int64"
      ]
     },
     "execution_count": 53,
     "metadata": {},
     "output_type": "execute_result"
    }
   ],
   "source": [
    "btc[\"target\"].value_counts()"
   ]
  },
  {
   "cell_type": "code",
   "execution_count": 74,
   "id": "4f781df2-f1a6-4499-ad69-8749daadc142",
   "metadata": {},
   "outputs": [
    {
     "data": {
      "text/plain": [
       "RandomForestClassifier(min_samples_split=100, random_state=1)"
      ]
     },
     "execution_count": 74,
     "metadata": {},
     "output_type": "execute_result"
    }
   ],
   "source": [
    "from sklearn.ensemble import RandomForestClassifier\n",
    "\n",
    "model = RandomForestClassifier(n_estimators=100, min_samples_split=100, random_state=1)\n",
    "\n",
    "train = btc.iloc[:-200]\n",
    "test = btc.iloc[-200:]\n",
    "\n",
    "predictors = [\"close\", \"volume\", \"open\", \"high\", \"low\", \"edit_count\", \"ratio\", \"difference\"]\n",
    "model.fit(train[predictors], train[\"target\"])"
   ]
  },
  {
   "cell_type": "code",
   "execution_count": 75,
   "id": "5db58bd9-009f-400c-9692-1d0787d40de8",
   "metadata": {},
   "outputs": [
    {
     "data": {
      "text/plain": [
       "0.4692737430167598"
      ]
     },
     "execution_count": 75,
     "metadata": {},
     "output_type": "execute_result"
    }
   ],
   "source": [
    "from sklearn.metrics import precision_score\n",
    "\n",
    "preds = model.predict(test[predictors])\n",
    "preds = pd.Series(preds, index=test.index)\n",
    "precision_score(test[\"target\"], preds)"
   ]
  },
  {
   "cell_type": "code",
   "execution_count": 86,
   "id": "bce7d7dd-4f0d-4405-ad17-42516045941f",
   "metadata": {},
   "outputs": [],
   "source": [
    "def predict(train, test, predictors, model):\n",
    "    model.fit(train[predictors], train[\"target\"])\n",
    "    preds = model.predict(test[predictors])\n",
    "    preds = pd.Series(preds, index=test.index, name=\"predictions\")\n",
    "    combined = pd.concat([test[\"target\"], preds], axis=1)\n",
    "    return combined"
   ]
  },
  {
   "cell_type": "code",
   "execution_count": 91,
   "id": "bec7bbe6-7c57-4ae9-82ca-404182d8218d",
   "metadata": {},
   "outputs": [],
   "source": [
    "def backtest(data, model, predictors, start=1095, step=150):\n",
    "    all_predictions = []\n",
    "\n",
    "    for i in range(start, data.shape[0], step):\n",
    "        train = data.iloc[0:i].copy()\n",
    "        test = data.iloc[i:(i+step)].copy()\n",
    "        predictions = predict(train, test, predictors, model)\n",
    "        all_predictions.append(predictions)\n",
    "    \n",
    "    return pd.concat(all_predictions)"
   ]
  },
  {
   "cell_type": "code",
   "execution_count": 92,
   "id": "0d70183c-1ee0-48e8-b012-16804463e6d0",
   "metadata": {},
   "outputs": [],
   "source": [
    "predictions = backtest(btc, model, predictors)"
   ]
  },
  {
   "cell_type": "code",
   "execution_count": 93,
   "id": "c363f4ad-68ae-4733-8cfa-fc61b1a15e6f",
   "metadata": {},
   "outputs": [
    {
     "data": {
      "text/plain": [
       "1    1087\n",
       "0     724\n",
       "Name: predictions, dtype: int64"
      ]
     },
     "execution_count": 93,
     "metadata": {},
     "output_type": "execute_result"
    }
   ],
   "source": [
    "predictions[\"predictions\"].value_counts()"
   ]
  },
  {
   "cell_type": "code",
   "execution_count": 94,
   "id": "ed54e2de-089d-450b-8a5e-88d4a2dbdfcd",
   "metadata": {},
   "outputs": [
    {
     "data": {
      "text/plain": [
       "0.5243790248390064"
      ]
     },
     "execution_count": 94,
     "metadata": {},
     "output_type": "execute_result"
    }
   ],
   "source": [
    "precision_score(predictions[\"target\"], predictions[\"predictions\"])"
   ]
  },
  {
   "cell_type": "code",
   "execution_count": null,
   "id": "ef3a6fd5-4e97-4011-be28-9fd115c8b004",
   "metadata": {},
   "outputs": [],
   "source": []
  }
 ],
 "metadata": {
  "kernelspec": {
   "display_name": "Python 3 (ipykernel)",
   "language": "python",
   "name": "python3"
  },
  "language_info": {
   "codemirror_mode": {
    "name": "ipython",
    "version": 3
   },
   "file_extension": ".py",
   "mimetype": "text/x-python",
   "name": "python",
   "nbconvert_exporter": "python",
   "pygments_lexer": "ipython3",
   "version": "3.9.13"
  }
 },
 "nbformat": 4,
 "nbformat_minor": 5
}
