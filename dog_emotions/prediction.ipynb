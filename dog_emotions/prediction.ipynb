{
 "cells": [
  {
   "cell_type": "code",
   "execution_count": 1,
   "id": "92b8a87a-3e82-46b5-b6d5-a85dd0ca1221",
   "metadata": {},
   "outputs": [],
   "source": [
    "import os\n",
    "import pandas as pd\n",
    "from settings import *"
   ]
  },
  {
   "cell_type": "code",
   "execution_count": 2,
   "id": "9ee01d72-792e-4126-808a-83880f423276",
   "metadata": {},
   "outputs": [],
   "source": [
    "img_files = []\n",
    "labels = []\n",
    "label_code = []\n",
    "\n",
    "for folder in [\"sad\", \"happy\", \"relaxed\"]:\n",
    "    fname = os.path.join(IMAGE_DIR, folder)\n",
    "    \n",
    "    for im in os.listdir(fname):\n",
    "        impath = os.path.join(fname, im)\n",
    "        \n",
    "        img_files.append(impath)\n",
    "        labels.append(folder)\n",
    "        label_code.append(FOLDERS.index(folder))"
   ]
  },
  {
   "cell_type": "code",
   "execution_count": 3,
   "id": "f63b1e82-f8ef-4d9c-9d03-5c6019dde2f4",
   "metadata": {},
   "outputs": [],
   "source": [
    "import pandas as pd\n",
    "\n",
    "dataset = pd.DataFrame(dict(filename=img_files, label=labels, code=label_code))"
   ]
  },
  {
   "cell_type": "code",
   "execution_count": 4,
   "id": "8495a2f9-b2ae-44e4-a8fc-2b209e7dbe8f",
   "metadata": {},
   "outputs": [
    {
     "data": {
      "text/html": [
       "<div>\n",
       "<style scoped>\n",
       "    .dataframe tbody tr th:only-of-type {\n",
       "        vertical-align: middle;\n",
       "    }\n",
       "\n",
       "    .dataframe tbody tr th {\n",
       "        vertical-align: top;\n",
       "    }\n",
       "\n",
       "    .dataframe thead th {\n",
       "        text-align: right;\n",
       "    }\n",
       "</style>\n",
       "<table border=\"1\" class=\"dataframe\">\n",
       "  <thead>\n",
       "    <tr style=\"text-align: right;\">\n",
       "      <th></th>\n",
       "      <th>filename</th>\n",
       "      <th>label</th>\n",
       "      <th>code</th>\n",
       "    </tr>\n",
       "  </thead>\n",
       "  <tbody>\n",
       "    <tr>\n",
       "      <th>0</th>\n",
       "      <td>images/sad/4618486329_c4dd489226_b.jpg</td>\n",
       "      <td>sad</td>\n",
       "      <td>1</td>\n",
       "    </tr>\n",
       "    <tr>\n",
       "      <th>1</th>\n",
       "      <td>images/sad/3921023490_d8e772150a_b.jpg</td>\n",
       "      <td>sad</td>\n",
       "      <td>1</td>\n",
       "    </tr>\n",
       "    <tr>\n",
       "      <th>2</th>\n",
       "      <td>images/sad/3429950849_2660a641d6_b.jpg</td>\n",
       "      <td>sad</td>\n",
       "      <td>1</td>\n",
       "    </tr>\n",
       "    <tr>\n",
       "      <th>3</th>\n",
       "      <td>images/sad/6957011199_2cf51d5464_b.jpg</td>\n",
       "      <td>sad</td>\n",
       "      <td>1</td>\n",
       "    </tr>\n",
       "    <tr>\n",
       "      <th>4</th>\n",
       "      <td>images/sad/8732538839_e9611eef88_b.jpg</td>\n",
       "      <td>sad</td>\n",
       "      <td>1</td>\n",
       "    </tr>\n",
       "    <tr>\n",
       "      <th>...</th>\n",
       "      <td>...</td>\n",
       "      <td>...</td>\n",
       "      <td>...</td>\n",
       "    </tr>\n",
       "    <tr>\n",
       "      <th>4692</th>\n",
       "      <td>images/relaxed/5515025332_4aeb4c7ed6_b.jpg</td>\n",
       "      <td>relaxed</td>\n",
       "      <td>2</td>\n",
       "    </tr>\n",
       "    <tr>\n",
       "      <th>4693</th>\n",
       "      <td>images/relaxed/34679620303_158a45a659_b.jpg</td>\n",
       "      <td>relaxed</td>\n",
       "      <td>2</td>\n",
       "    </tr>\n",
       "    <tr>\n",
       "      <th>4694</th>\n",
       "      <td>images/relaxed/3491188328_7162a9a7e4_b.jpg</td>\n",
       "      <td>relaxed</td>\n",
       "      <td>2</td>\n",
       "    </tr>\n",
       "    <tr>\n",
       "      <th>4695</th>\n",
       "      <td>images/relaxed/216405702_372588fa9d_b.jpg</td>\n",
       "      <td>relaxed</td>\n",
       "      <td>2</td>\n",
       "    </tr>\n",
       "    <tr>\n",
       "      <th>4696</th>\n",
       "      <td>images/relaxed/41738301434_3dcd69ef8c_b.jpg</td>\n",
       "      <td>relaxed</td>\n",
       "      <td>2</td>\n",
       "    </tr>\n",
       "  </tbody>\n",
       "</table>\n",
       "<p>4697 rows × 3 columns</p>\n",
       "</div>"
      ],
      "text/plain": [
       "                                         filename    label  code\n",
       "0          images/sad/4618486329_c4dd489226_b.jpg      sad     1\n",
       "1          images/sad/3921023490_d8e772150a_b.jpg      sad     1\n",
       "2          images/sad/3429950849_2660a641d6_b.jpg      sad     1\n",
       "3          images/sad/6957011199_2cf51d5464_b.jpg      sad     1\n",
       "4          images/sad/8732538839_e9611eef88_b.jpg      sad     1\n",
       "...                                           ...      ...   ...\n",
       "4692   images/relaxed/5515025332_4aeb4c7ed6_b.jpg  relaxed     2\n",
       "4693  images/relaxed/34679620303_158a45a659_b.jpg  relaxed     2\n",
       "4694   images/relaxed/3491188328_7162a9a7e4_b.jpg  relaxed     2\n",
       "4695    images/relaxed/216405702_372588fa9d_b.jpg  relaxed     2\n",
       "4696  images/relaxed/41738301434_3dcd69ef8c_b.jpg  relaxed     2\n",
       "\n",
       "[4697 rows x 3 columns]"
      ]
     },
     "execution_count": 4,
     "metadata": {},
     "output_type": "execute_result"
    }
   ],
   "source": [
    "dataset"
   ]
  },
  {
   "cell_type": "code",
   "execution_count": 5,
   "id": "df4c9da0-c143-4ea3-a4be-ace157b99a6b",
   "metadata": {},
   "outputs": [],
   "source": [
    "import torch"
   ]
  },
  {
   "cell_type": "code",
   "execution_count": 6,
   "id": "005d361d-0856-42a8-8d32-2e6c0673b1b0",
   "metadata": {},
   "outputs": [
    {
     "data": {
      "text/plain": [
       "<torch._C.Generator at 0x13a5b2750>"
      ]
     },
     "execution_count": 6,
     "metadata": {},
     "output_type": "execute_result"
    }
   ],
   "source": [
    "torch.manual_seed(0)"
   ]
  },
  {
   "cell_type": "code",
   "execution_count": 7,
   "id": "f544b1bb-3b3e-4031-9b23-55813bd7ec08",
   "metadata": {},
   "outputs": [
    {
     "data": {
      "text/plain": [
       "False"
      ]
     },
     "execution_count": 7,
     "metadata": {},
     "output_type": "execute_result"
    }
   ],
   "source": [
    "torch.cuda.is_available()"
   ]
  },
  {
   "cell_type": "code",
   "execution_count": 8,
   "id": "84d27771-7378-4ed0-8e5f-2105658fba26",
   "metadata": {},
   "outputs": [
    {
     "data": {
      "text/plain": [
       "True"
      ]
     },
     "execution_count": 8,
     "metadata": {},
     "output_type": "execute_result"
    }
   ],
   "source": [
    "torch.backends.mps.is_available()"
   ]
  },
  {
   "cell_type": "code",
   "execution_count": 9,
   "id": "23c34c6f-1aa2-453b-8c7a-02802447fee7",
   "metadata": {},
   "outputs": [],
   "source": [
    "device = torch.device(DEVICE)"
   ]
  },
  {
   "cell_type": "code",
   "execution_count": 10,
   "id": "ab30be71-cbf5-439f-8c76-0be314f9eca6",
   "metadata": {},
   "outputs": [],
   "source": [
    "from torchvision.io import read_image\n",
    "from torchvision.transforms import RandomHorizontalFlip, RandomVerticalFlip, RandomRotation, AutoAugment\n",
    "from torch.utils.data import Dataset\n",
    "import math\n",
    "\n",
    "class DogDataset(Dataset):\n",
    "    def __init__(self, dataset):\n",
    "        self.dataset = dataset\n",
    "        self.augments = [RandomHorizontalFlip(1), RandomRotation(90), RandomVerticalFlip(1)] + [AutoAugment()] * 4\n",
    "\n",
    "    def __len__(self):\n",
    "        return self.dataset.shape[0] * (len(self.augments) + 1)\n",
    "    \n",
    "    def classes(self):\n",
    "        return self.dataset[\"code\"].unique()\n",
    "\n",
    "    def __getitem__(self, idx):\n",
    "        augment = math.floor(idx / self.dataset.shape[0])\n",
    "        idx = idx % self.dataset.shape[0]\n",
    "        \n",
    "        row = self.dataset.iloc[idx,:]\n",
    "            \n",
    "        img_path = row[\"filename\"]\n",
    "        image = read_image(img_path)\n",
    "        \n",
    "        label = row[\"code\"]\n",
    "        \n",
    "        if augment > 0:\n",
    "            image = self.augments[augment - 1].forward(image)\n",
    "\n",
    "        return image, int(label), img_path"
   ]
  },
  {
   "cell_type": "code",
   "execution_count": 11,
   "id": "b6e97845-89e5-4df2-82cf-dde4cd7c116a",
   "metadata": {},
   "outputs": [],
   "source": [
    "data = DogDataset(dataset)"
   ]
  },
  {
   "cell_type": "code",
   "execution_count": 12,
   "id": "4b1ca0bb-ca7f-48d1-a8d9-50f9156cb8b3",
   "metadata": {},
   "outputs": [],
   "source": [
    "train_size = int(0.8 * len(data))\n",
    "test_size = len(data) - train_size\n",
    "train_data, test_data = torch.utils.data.random_split(data, [train_size, test_size], generator=torch.Generator().manual_seed(1))"
   ]
  },
  {
   "cell_type": "code",
   "execution_count": 13,
   "id": "b63da000-6c16-48a4-b800-5b50e649252e",
   "metadata": {},
   "outputs": [],
   "source": [
    "from torch.utils.data import DataLoader\n",
    "\n",
    "BATCH_SIZE = 64\n",
    "EPOCHS = 50\n",
    "\n",
    "train = DataLoader(train_data, batch_size=BATCH_SIZE, shuffle=True)\n",
    "test = DataLoader(test_data, batch_size=BATCH_SIZE, shuffle=True)"
   ]
  },
  {
   "cell_type": "code",
   "execution_count": 14,
   "id": "0a6abd70-8c15-4c37-82cf-bcc2ea89aa84",
   "metadata": {},
   "outputs": [],
   "source": [
    "from torch import nn\n",
    "\n",
    "class NeuralNetwork(nn.Module):\n",
    "    def __init__(self, classes):\n",
    "        super(NeuralNetwork, self).__init__()\n",
    "        \n",
    "        self.bn = nn.BatchNorm2d(64, eps=1e-05, momentum=0.1, affine=True, track_running_stats=True)\n",
    "        \n",
    "        self.cnn = nn.Sequential(\n",
    "            nn.Conv2d(3, 64, kernel_size=5, stride=2),\n",
    "            self.bn,\n",
    "            nn.ReLU(inplace=True),\n",
    "            nn.MaxPool2d(2, 2),\n",
    "            nn.Conv2d(64, 64, 1),\n",
    "            self.bn,\n",
    "            nn.Conv2d(64, 64, 3),\n",
    "            self.bn,\n",
    "            nn.Conv2d(64, 64, 1),\n",
    "            self.bn,\n",
    "            nn.ReLU(True),\n",
    "            nn.MaxPool2d(2, 2)\n",
    "        )\n",
    "        \n",
    "        self.dense = nn.Sequential(\n",
    "            nn.Linear(64 * 46 * 46, 64),\n",
    "            nn.Linear(64, len(classes))\n",
    "        )\n",
    "\n",
    "    def forward(self, x):\n",
    "        x = self.cnn(x)\n",
    "        x = torch.flatten(x, 1) \n",
    "        x = self.dense(x)\n",
    "        return x"
   ]
  },
  {
   "cell_type": "code",
   "execution_count": 15,
   "id": "be5c4143-e10c-4053-af13-235eb783c305",
   "metadata": {},
   "outputs": [],
   "source": [
    "labels = data.classes()"
   ]
  },
  {
   "cell_type": "code",
   "execution_count": 16,
   "id": "0b98b6b4-0604-46a4-bf52-134310278e7f",
   "metadata": {},
   "outputs": [],
   "source": [
    "model = NeuralNetwork(labels).to(device)"
   ]
  },
  {
   "cell_type": "code",
   "execution_count": 17,
   "id": "d878a4bc-6a4f-411a-8a6c-6ca018a0da65",
   "metadata": {},
   "outputs": [
    {
     "data": {
      "text/plain": [
       "NeuralNetwork(\n",
       "  (bn): BatchNorm2d(64, eps=1e-05, momentum=0.1, affine=True, track_running_stats=True)\n",
       "  (cnn): Sequential(\n",
       "    (0): Conv2d(3, 64, kernel_size=(5, 5), stride=(2, 2))\n",
       "    (1): BatchNorm2d(64, eps=1e-05, momentum=0.1, affine=True, track_running_stats=True)\n",
       "    (2): ReLU(inplace=True)\n",
       "    (3): MaxPool2d(kernel_size=2, stride=2, padding=0, dilation=1, ceil_mode=False)\n",
       "    (4): Conv2d(64, 64, kernel_size=(1, 1), stride=(1, 1))\n",
       "    (5): BatchNorm2d(64, eps=1e-05, momentum=0.1, affine=True, track_running_stats=True)\n",
       "    (6): Conv2d(64, 64, kernel_size=(3, 3), stride=(1, 1))\n",
       "    (7): BatchNorm2d(64, eps=1e-05, momentum=0.1, affine=True, track_running_stats=True)\n",
       "    (8): Conv2d(64, 64, kernel_size=(1, 1), stride=(1, 1))\n",
       "    (9): BatchNorm2d(64, eps=1e-05, momentum=0.1, affine=True, track_running_stats=True)\n",
       "    (10): ReLU(inplace=True)\n",
       "    (11): MaxPool2d(kernel_size=2, stride=2, padding=0, dilation=1, ceil_mode=False)\n",
       "  )\n",
       "  (dense): Sequential(\n",
       "    (0): Linear(in_features=135424, out_features=64, bias=True)\n",
       "    (1): Linear(in_features=64, out_features=3, bias=True)\n",
       "  )\n",
       ")"
      ]
     },
     "execution_count": 17,
     "metadata": {},
     "output_type": "execute_result"
    }
   ],
   "source": [
    "model"
   ]
  },
  {
   "cell_type": "code",
   "execution_count": 18,
   "id": "300f305d-40f7-4aab-b927-0ec19aa8bb1e",
   "metadata": {},
   "outputs": [],
   "source": [
    "loss_fn = nn.CrossEntropyLoss()\n",
    "optimizer = torch.optim.SGD(model.parameters(), lr=.001)"
   ]
  },
  {
   "cell_type": "code",
   "execution_count": 19,
   "id": "0c967766-4f87-4997-97d5-aa631927949f",
   "metadata": {},
   "outputs": [
    {
     "name": "stdout",
     "output_type": "stream",
     "text": [
      "loss: 1.037006  [0]\n"
     ]
    },
    {
     "ename": "KeyboardInterrupt",
     "evalue": "",
     "output_type": "error",
     "traceback": [
      "\u001b[0;31m---------------------------------------------------------------------------\u001b[0m",
      "\u001b[0;31mKeyboardInterrupt\u001b[0m                         Traceback (most recent call last)",
      "\u001b[0;32m/var/folders/xz/9z84c__j28g8tg28bmcthjj00000gn/T/ipykernel_37808/3805642240.py\u001b[0m in \u001b[0;36m<module>\u001b[0;34m\u001b[0m\n\u001b[1;32m     11\u001b[0m         \u001b[0mloss\u001b[0m \u001b[0;34m=\u001b[0m \u001b[0mloss_fn\u001b[0m\u001b[0;34m(\u001b[0m\u001b[0mpred\u001b[0m\u001b[0;34m,\u001b[0m \u001b[0mlabels\u001b[0m\u001b[0;34m)\u001b[0m\u001b[0;34m\u001b[0m\u001b[0;34m\u001b[0m\u001b[0m\n\u001b[1;32m     12\u001b[0m \u001b[0;34m\u001b[0m\u001b[0m\n\u001b[0;32m---> 13\u001b[0;31m         \u001b[0mloss\u001b[0m\u001b[0;34m.\u001b[0m\u001b[0mbackward\u001b[0m\u001b[0;34m(\u001b[0m\u001b[0;34m)\u001b[0m\u001b[0;34m\u001b[0m\u001b[0;34m\u001b[0m\u001b[0m\n\u001b[0m\u001b[1;32m     14\u001b[0m         \u001b[0moptimizer\u001b[0m\u001b[0;34m.\u001b[0m\u001b[0mstep\u001b[0m\u001b[0;34m(\u001b[0m\u001b[0;34m)\u001b[0m\u001b[0;34m\u001b[0m\u001b[0;34m\u001b[0m\u001b[0m\n\u001b[1;32m     15\u001b[0m \u001b[0;34m\u001b[0m\u001b[0m\n",
      "\u001b[0;32m/usr/local/lib/python3.9/site-packages/torch/_tensor.py\u001b[0m in \u001b[0;36mbackward\u001b[0;34m(self, gradient, retain_graph, create_graph, inputs)\u001b[0m\n\u001b[1;32m    394\u001b[0m                 \u001b[0mcreate_graph\u001b[0m\u001b[0;34m=\u001b[0m\u001b[0mcreate_graph\u001b[0m\u001b[0;34m,\u001b[0m\u001b[0;34m\u001b[0m\u001b[0;34m\u001b[0m\u001b[0m\n\u001b[1;32m    395\u001b[0m                 inputs=inputs)\n\u001b[0;32m--> 396\u001b[0;31m         \u001b[0mtorch\u001b[0m\u001b[0;34m.\u001b[0m\u001b[0mautograd\u001b[0m\u001b[0;34m.\u001b[0m\u001b[0mbackward\u001b[0m\u001b[0;34m(\u001b[0m\u001b[0mself\u001b[0m\u001b[0;34m,\u001b[0m \u001b[0mgradient\u001b[0m\u001b[0;34m,\u001b[0m \u001b[0mretain_graph\u001b[0m\u001b[0;34m,\u001b[0m \u001b[0mcreate_graph\u001b[0m\u001b[0;34m,\u001b[0m \u001b[0minputs\u001b[0m\u001b[0;34m=\u001b[0m\u001b[0minputs\u001b[0m\u001b[0;34m)\u001b[0m\u001b[0;34m\u001b[0m\u001b[0;34m\u001b[0m\u001b[0m\n\u001b[0m\u001b[1;32m    397\u001b[0m \u001b[0;34m\u001b[0m\u001b[0m\n\u001b[1;32m    398\u001b[0m     \u001b[0;32mdef\u001b[0m \u001b[0mregister_hook\u001b[0m\u001b[0;34m(\u001b[0m\u001b[0mself\u001b[0m\u001b[0;34m,\u001b[0m \u001b[0mhook\u001b[0m\u001b[0;34m)\u001b[0m\u001b[0;34m:\u001b[0m\u001b[0;34m\u001b[0m\u001b[0;34m\u001b[0m\u001b[0m\n",
      "\u001b[0;32m/usr/local/lib/python3.9/site-packages/torch/autograd/__init__.py\u001b[0m in \u001b[0;36mbackward\u001b[0;34m(tensors, grad_tensors, retain_graph, create_graph, grad_variables, inputs)\u001b[0m\n\u001b[1;32m    171\u001b[0m     \u001b[0;31m# some Python versions print out the first line of a multi-line function\u001b[0m\u001b[0;34m\u001b[0m\u001b[0;34m\u001b[0m\u001b[0m\n\u001b[1;32m    172\u001b[0m     \u001b[0;31m# calls in the traceback and some print out the last line\u001b[0m\u001b[0;34m\u001b[0m\u001b[0;34m\u001b[0m\u001b[0m\n\u001b[0;32m--> 173\u001b[0;31m     Variable._execution_engine.run_backward(  # Calls into the C++ engine to run the backward pass\n\u001b[0m\u001b[1;32m    174\u001b[0m         \u001b[0mtensors\u001b[0m\u001b[0;34m,\u001b[0m \u001b[0mgrad_tensors_\u001b[0m\u001b[0;34m,\u001b[0m \u001b[0mretain_graph\u001b[0m\u001b[0;34m,\u001b[0m \u001b[0mcreate_graph\u001b[0m\u001b[0;34m,\u001b[0m \u001b[0minputs\u001b[0m\u001b[0;34m,\u001b[0m\u001b[0;34m\u001b[0m\u001b[0;34m\u001b[0m\u001b[0m\n\u001b[1;32m    175\u001b[0m         allow_unreachable=True, accumulate_grad=True)  # Calls into the C++ engine to run the backward pass\n",
      "\u001b[0;31mKeyboardInterrupt\u001b[0m: "
     ]
    }
   ],
   "source": [
    "size = len(train.dataset)\n",
    "\n",
    "for epoch in range(EPOCHS):\n",
    "    for batch, (images, labels, img_paths) in enumerate(train): \n",
    "        optimizer.zero_grad()\n",
    "        \n",
    "        images = images.to(device)\n",
    "        pred = model(images.float())\n",
    "        \n",
    "        labels = labels.to(device)\n",
    "        loss = loss_fn(pred, labels)\n",
    "\n",
    "        loss.backward()\n",
    "        optimizer.step()\n",
    "\n",
    "    loss, current = loss.item(), batch * len(images)\n",
    "    print(f\"loss: {loss:>7f}  [{epoch}]\")"
   ]
  },
  {
   "cell_type": "code",
   "execution_count": null,
   "id": "473c1400-ce05-4b24-bd5b-0ae2f0270063",
   "metadata": {},
   "outputs": [],
   "source": [
    "#torch.save(model, 'dog_model.pth')"
   ]
  },
  {
   "cell_type": "code",
   "execution_count": null,
   "id": "89d740ed-3f60-4428-a118-fcbd58c4d543",
   "metadata": {},
   "outputs": [],
   "source": [
    "#model = torch.load('dog_model.pth')"
   ]
  },
  {
   "cell_type": "code",
   "execution_count": null,
   "id": "535ff2b4-ea72-4447-bad4-e8be2d0aeea7",
   "metadata": {},
   "outputs": [],
   "source": [
    "all_preds = list()\n",
    "all_labels = list()\n",
    "all_paths = list()\n",
    "\n",
    "with torch.no_grad():\n",
    "    for batch, (images, labels, img_paths) in enumerate(test):\n",
    "        \n",
    "        images = images.to(device)\n",
    "        outputs = model(images.float())\n",
    "        \n",
    "        _, preds = torch.max(outputs.data, 1)\n",
    "        \n",
    "        all_labels.append(labels)\n",
    "        all_preds.append(preds)\n",
    "        all_paths.append(img_paths)"
   ]
  },
  {
   "cell_type": "code",
   "execution_count": null,
   "id": "8ff78ee9-ac16-4cc5-842c-252392adf6d4",
   "metadata": {},
   "outputs": [],
   "source": [
    "import numpy as np\n",
    "\n",
    "preds = np.concatenate([p.cpu().numpy() for p in all_preds])\n",
    "labels = np.concatenate([p.cpu().numpy() for p in all_labels])\n",
    "paths = np.concatenate([p for p in all_paths])"
   ]
  },
  {
   "cell_type": "code",
   "execution_count": null,
   "id": "af6c9232-a9bf-4e88-b1ea-d691b0e99ea8",
   "metadata": {},
   "outputs": [],
   "source": [
    "((preds == labels).sum()) / len(labels)"
   ]
  },
  {
   "cell_type": "code",
   "execution_count": null,
   "id": "c1f16dff-7eb2-4d5f-bf54-d12783e98ea8",
   "metadata": {},
   "outputs": [],
   "source": [
    "predictions = pd.DataFrame(dict(pred=preds, label=labels, path=paths))\n",
    "predictions[\"correct\"] = (predictions[\"pred\"] == predictions[\"label\"])"
   ]
  },
  {
   "cell_type": "code",
   "execution_count": null,
   "id": "1a8876a1-e6b2-4f52-99ef-7b402461fd03",
   "metadata": {},
   "outputs": [],
   "source": [
    "predictions[\"emotion\"] = predictions[\"pred\"].apply(lambda x: FOLDERS[int(x)])"
   ]
  },
  {
   "cell_type": "code",
   "execution_count": null,
   "id": "a9baefd3-8baa-4245-a256-b0d920e07a81",
   "metadata": {},
   "outputs": [],
   "source": [
    "predictions.groupby(\"emotion\").apply(lambda x: x[\"correct\"].sum() / x.shape[0])"
   ]
  },
  {
   "cell_type": "code",
   "execution_count": null,
   "id": "d2c987de-6f67-4abe-85a3-3946745950e0",
   "metadata": {},
   "outputs": [],
   "source": [
    "disp = predictions.iloc[:50,:].copy()"
   ]
  },
  {
   "cell_type": "code",
   "execution_count": null,
   "id": "269ead8b-4e34-49a7-bad4-da6226c087c8",
   "metadata": {},
   "outputs": [],
   "source": [
    "def image_formatter(img):\n",
    "    return f'<img src=\"{path}\">'"
   ]
  },
  {
   "cell_type": "code",
   "execution_count": null,
   "id": "bf26cbc7-93d5-4159-9017-fb7e6aea96e5",
   "metadata": {},
   "outputs": [],
   "source": [
    "disp.style.format({'path': image_formatter})"
   ]
  },
  {
   "cell_type": "code",
   "execution_count": null,
   "id": "6bdcc79b-1ab1-44a7-b531-f03c1c0f9655",
   "metadata": {},
   "outputs": [],
   "source": []
  }
 ],
 "metadata": {
  "kernelspec": {
   "display_name": "Python 3 (ipykernel)",
   "language": "python",
   "name": "python3"
  },
  "language_info": {
   "codemirror_mode": {
    "name": "ipython",
    "version": 3
   },
   "file_extension": ".py",
   "mimetype": "text/x-python",
   "name": "python",
   "nbconvert_exporter": "python",
   "pygments_lexer": "ipython3",
   "version": "3.9.13"
  }
 },
 "nbformat": 4,
 "nbformat_minor": 5
}
