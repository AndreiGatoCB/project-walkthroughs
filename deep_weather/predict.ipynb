{
 "cells": [
  {
   "cell_type": "code",
   "execution_count": 1,
   "id": "e1777894-d4b2-4133-8369-b35b76346d3e",
   "metadata": {},
   "outputs": [],
   "source": [
    "import pandas as pd\n",
    "import numpy as np\n",
    "\n",
    "weather = pd.read_csv(\"weather.csv\", index_col=\"DATE\")"
   ]
  },
  {
   "cell_type": "code",
   "execution_count": 2,
   "id": "28d5c892-d748-43d9-8f13-d46237d0ac95",
   "metadata": {},
   "outputs": [],
   "source": [
    "null_pct = weather.apply(pd.isnull).sum()/weather.shape[0]\n",
    "valid_columns = weather.columns[null_pct < .05]"
   ]
  },
  {
   "cell_type": "code",
   "execution_count": 3,
   "id": "713ecc37-ecd5-4df4-aca8-fc5a3cf21730",
   "metadata": {},
   "outputs": [],
   "source": [
    "weather = weather[valid_columns].copy()\n",
    "weather.columns = weather.columns.str.lower()"
   ]
  },
  {
   "cell_type": "code",
   "execution_count": 4,
   "id": "61835826-4168-4c5b-b10b-617aebb742ff",
   "metadata": {},
   "outputs": [],
   "source": [
    "weather = weather.ffill()"
   ]
  },
  {
   "cell_type": "code",
   "execution_count": 5,
   "id": "9ade9935-d5b1-4322-86cd-54e96292da0f",
   "metadata": {},
   "outputs": [],
   "source": [
    "weather.index = pd.to_datetime(weather.index)"
   ]
  },
  {
   "cell_type": "code",
   "execution_count": 6,
   "id": "64e3c9e2-c023-491b-8128-7fd95b3391ee",
   "metadata": {},
   "outputs": [],
   "source": [
    "weather = weather[(weather.index.month != 2) | (weather.index.day != 28)]"
   ]
  },
  {
   "cell_type": "code",
   "execution_count": 7,
   "id": "0167ec3f-00c4-42d3-9237-c51f545ba946",
   "metadata": {},
   "outputs": [],
   "source": [
    "weather = weather.ffill()"
   ]
  },
  {
   "cell_type": "code",
   "execution_count": 8,
   "id": "6b5c9457-f595-4392-ac63-a0c681fc819c",
   "metadata": {},
   "outputs": [
    {
     "data": {
      "text/plain": [
       "(19234, 7)"
      ]
     },
     "execution_count": 8,
     "metadata": {},
     "output_type": "execute_result"
    }
   ],
   "source": [
    "weather.shape"
   ]
  },
  {
   "cell_type": "code",
   "execution_count": 9,
   "id": "92c4c22c-c37b-44e8-8bbf-81fc1ca4f9f2",
   "metadata": {},
   "outputs": [],
   "source": [
    "predictors = weather.columns[~weather.columns.isin([\"name\", \"station\"])]"
   ]
  },
  {
   "cell_type": "code",
   "execution_count": 10,
   "id": "95f51801-bfaf-4609-9ee4-9e5b1b42c390",
   "metadata": {},
   "outputs": [],
   "source": [
    "import torch\n",
    "torch.manual_seed(0)\n",
    "\n",
    "DEVICE = \"mps\"\n",
    "device = torch.device(DEVICE)"
   ]
  },
  {
   "cell_type": "code",
   "execution_count": 11,
   "id": "9b42b24d-10d5-4257-8b9d-997b92676f04",
   "metadata": {},
   "outputs": [],
   "source": [
    "from torch.utils.data import Dataset\n",
    "import math\n",
    "from statistics import mean\n",
    "\n",
    "SEQ_LEN = 365 * 2\n",
    "\n",
    "class WeatherDataset(Dataset):\n",
    "    def __init__(self, dataset, predictors):\n",
    "        self.dataset = dataset.copy()\n",
    "        self.width = SEQ_LEN\n",
    "        self.predictors = predictors\n",
    "\n",
    "    def __len__(self):\n",
    "        return self.dataset.shape[0] - self.width\n",
    "    \n",
    "    def column_to_mat(self, col):\n",
    "        return col.values.reshape((self.rows, self.columns))\n",
    "        \n",
    "    def __getitem__(self, idx):\n",
    "        history = self.dataset.iloc[idx:(idx+self.width),:]\n",
    "        target = history.iloc[-1][\"tmax\"]\n",
    "        history = history[:-1][self.predictors]\n",
    "        \n",
    "        mats = torch.tensor(history.T.to_numpy(), dtype=torch.float32)\n",
    "        return mats, target, idx + self.width - 1"
   ]
  },
  {
   "cell_type": "code",
   "execution_count": 12,
   "id": "3f230228-1782-4d7b-8fc1-e0d2c35f2599",
   "metadata": {},
   "outputs": [],
   "source": [
    "data = WeatherDataset(weather, predictors)\n",
    "train_size = int(0.7 * len(data))\n",
    "valid_size = int(0.1 * len(data))\n",
    "test_size = len(data) - (train_size + valid_size)\n",
    "train_data, valid_data, test_data = torch.utils.data.random_split(data, [train_size, valid_size, test_size], generator=torch.Generator().manual_seed(1))"
   ]
  },
  {
   "cell_type": "code",
   "execution_count": 13,
   "id": "abb6a3d4-86eb-467f-b34d-7a2eec7fb009",
   "metadata": {},
   "outputs": [],
   "source": [
    "from torch.utils.data import DataLoader\n",
    "\n",
    "BATCH_SIZE = 512\n",
    "EPOCHS = 25"
   ]
  },
  {
   "cell_type": "code",
   "execution_count": 14,
   "id": "d0e70f80-0ffc-4eec-800f-8b328a98d39f",
   "metadata": {},
   "outputs": [],
   "source": [
    "train = DataLoader(train_data, batch_size=BATCH_SIZE, shuffle=True)\n",
    "valid = DataLoader(valid_data, batch_size=BATCH_SIZE, shuffle=True)\n",
    "test = DataLoader(test_data, batch_size=BATCH_SIZE, shuffle=True)"
   ]
  },
  {
   "cell_type": "code",
   "execution_count": 16,
   "id": "73aa93bf-740e-47a8-bf71-07186fe9e2aa",
   "metadata": {},
   "outputs": [],
   "source": [
    "from torch import nn\n",
    "\n",
    "class NeuralNetwork(nn.Module):\n",
    "    def __init__(self, seq_len):\n",
    "        super(NeuralNetwork, self).__init__()\n",
    "        \n",
    "        self.hidden_layer = 256\n",
    "        \n",
    "        self.lstm = nn.Sequential(\n",
    "            nn.LSTM(seq_len, self.hidden_layer, 1)\n",
    "        )\n",
    "        \n",
    "        self.dense = nn.Sequential(\n",
    "            nn.Linear(self.hidden_layer * len(predictors), 64),\n",
    "            nn.Linear(64, 1),\n",
    "        )\n",
    "\n",
    "    def forward(self, x):\n",
    "        batch_size = x.shape[0]\n",
    "        x, _ = self.lstm(x)\n",
    "        x = x.view(batch_size, -1)\n",
    "        x = self.dense(x)\n",
    "        return x"
   ]
  },
  {
   "cell_type": "code",
   "execution_count": 17,
   "id": "df955788-302c-4b46-b792-8410fd21af19",
   "metadata": {},
   "outputs": [],
   "source": [
    "model = NeuralNetwork(SEQ_LEN - 1).to(device)\n",
    "loss_fn = torch.nn.MSELoss(reduction='sum')\n",
    "optimizer = torch.optim.SGD(model.parameters(), lr=1e-7)"
   ]
  },
  {
   "cell_type": "code",
   "execution_count": null,
   "id": "3452b3d1-ed62-436e-b76a-11aba604adb0",
   "metadata": {},
   "outputs": [
    {
     "name": "stdout",
     "output_type": "stream",
     "text": [
      "loss: 621765.156250  [0]\n",
      "loss: 86471.001953  [1]\n",
      "loss: 42469.603516  [2]\n",
      "loss: 36846.265625  [3]\n",
      "loss: 34507.838379  [4]\n",
      "loss: 32460.539551  [5]\n",
      "loss: 30683.089844  [6]\n",
      "loss: 30081.360352  [7]\n",
      "loss: 29648.869141  [8]\n",
      "loss: 28867.395508  [9]\n",
      "loss: 28875.926758  [10]\n",
      "loss: 27989.248047  [11]\n",
      "loss: 27857.603027  [12]\n",
      "loss: 27452.366699  [13]\n",
      "loss: 27604.967773  [14]\n",
      "loss: 26981.446777  [15]\n",
      "loss: 27087.321289  [16]\n",
      "loss: 27017.665039  [17]\n",
      "loss: 26929.313965  [18]\n",
      "loss: 27013.280273  [19]\n",
      "loss: 27029.138672  [20]\n",
      "loss: 26658.986328  [21]\n"
     ]
    }
   ],
   "source": [
    "size = len(train.dataset)\n",
    "\n",
    "for epoch in range(EPOCHS):\n",
    "    for batch, (tensors, targets, _) in enumerate(train): \n",
    "        optimizer.zero_grad()\n",
    "        \n",
    "        tensors = tensors.to(device)\n",
    "        pred = model(tensors).squeeze(1)\n",
    "        \n",
    "        targets = targets.float().to(device)\n",
    "        \n",
    "        loss = loss_fn(pred, targets)\n",
    "\n",
    "        loss.backward()\n",
    "        optimizer.step()\n",
    "    \n",
    "    losses = []\n",
    "    with torch.no_grad():\n",
    "        for batch, (tensors, targets, _) in enumerate(valid):\n",
    "\n",
    "            tensors = tensors.to(device)\n",
    "            pred = model(tensors).squeeze(1)\n",
    "            \n",
    "            targets = targets.float().to(device)\n",
    "            loss = loss_fn(pred, targets)\n",
    "            losses.append(loss.item())\n",
    "    \n",
    "    print(f\"loss: {mean(losses):>7f}  [{epoch}]\")"
   ]
  },
  {
   "cell_type": "code",
   "execution_count": null,
   "id": "bf55ec0f-a60e-4877-b140-548817df5461",
   "metadata": {},
   "outputs": [],
   "source": [
    "preds = []\n",
    "targets = []\n",
    "idxs = []\n",
    "\n",
    "with torch.no_grad():\n",
    "    for batch, (tensors, target, idx) in enumerate(test):\n",
    "        \n",
    "        tensors = tensors.to(device)\n",
    "        pred = model(tensors).squeeze(1)\n",
    "        \n",
    "        targets.append(target)\n",
    "        preds.append(pred)\n",
    "        idxs.append(idx)"
   ]
  },
  {
   "cell_type": "code",
   "execution_count": null,
   "id": "cbee9b7d-f96e-4095-b35c-a85578848bca",
   "metadata": {},
   "outputs": [],
   "source": [
    "import numpy as np\n",
    "\n",
    "preds = np.concatenate([p.cpu().numpy() for p in preds])\n",
    "targets = np.concatenate([p.cpu().numpy() for p in targets])\n",
    "idxs = np.concatenate([p.cpu().numpy() for p in idxs])\n",
    "\n",
    "rows = weather.iloc[idxs,:]"
   ]
  },
  {
   "cell_type": "code",
   "execution_count": null,
   "id": "7acd08d1-c4e6-4762-b40f-a3d079b608a7",
   "metadata": {},
   "outputs": [],
   "source": [
    "preds"
   ]
  },
  {
   "cell_type": "code",
   "execution_count": null,
   "id": "d347d2c6-4423-4ff0-b6f6-650c9096f8e9",
   "metadata": {},
   "outputs": [],
   "source": [
    "predictions = pd.DataFrame(dict(pred=preds, actual=targets), index=rows.index)\n",
    "predictions = pd.concat([predictions, rows], axis=1)"
   ]
  },
  {
   "cell_type": "code",
   "execution_count": null,
   "id": "52888622-55c7-4f8b-934b-aa87532450a0",
   "metadata": {},
   "outputs": [],
   "source": [
    "predictions[\"se\"] = ((preds - targets) ** 2)\n",
    "print(predictions[\"se\"].mean())"
   ]
  },
  {
   "cell_type": "code",
   "execution_count": null,
   "id": "7f7fe4c1-9490-4ef9-ba1c-a64febcb455d",
   "metadata": {},
   "outputs": [],
   "source": [
    "predictions"
   ]
  },
  {
   "cell_type": "code",
   "execution_count": null,
   "id": "a6aa38cc-314d-4b12-96af-d7a232682aff",
   "metadata": {},
   "outputs": [],
   "source": []
  }
 ],
 "metadata": {
  "kernelspec": {
   "display_name": "Python 3 (ipykernel)",
   "language": "python",
   "name": "python3"
  },
  "language_info": {
   "codemirror_mode": {
    "name": "ipython",
    "version": 3
   },
   "file_extension": ".py",
   "mimetype": "text/x-python",
   "name": "python",
   "nbconvert_exporter": "python",
   "pygments_lexer": "ipython3",
   "version": "3.9.15"
  }
 },
 "nbformat": 4,
 "nbformat_minor": 5
}
