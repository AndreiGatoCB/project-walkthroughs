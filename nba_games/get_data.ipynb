{
 "cells": [
  {
   "cell_type": "code",
   "execution_count": 17,
   "id": "d69014c0-9266-4c89-867b-29eefec97a98",
   "metadata": {},
   "outputs": [],
   "source": [
    "import os\n",
    "\n",
    "SEASONS = list(range(2016,2023))\n",
    "DATA_DIR = \"data\"\n",
    "STANDINGS_DIR = os.path.join(DATA_DIR, \"standings\")\n",
    "SCORES_DIR = os.path.join(DATA_DIR, \"scores\")"
   ]
  },
  {
   "cell_type": "code",
   "execution_count": 18,
   "id": "945b9b93-a0b0-474a-8e4a-1b613983c2b8",
   "metadata": {},
   "outputs": [
    {
     "data": {
      "text/plain": [
       "[2016, 2017, 2018, 2019, 2020, 2021, 2022]"
      ]
     },
     "execution_count": 18,
     "metadata": {},
     "output_type": "execute_result"
    }
   ],
   "source": [
    "SEASONS"
   ]
  },
  {
   "cell_type": "code",
   "execution_count": 32,
   "id": "ded5e28c-c7df-418e-8b15-a169a2f02111",
   "metadata": {},
   "outputs": [],
   "source": [
    "from bs4 import BeautifulSoup\n",
    "from playwright.async_api import async_playwright, TimeoutError as PlaywrightTimeout\n",
    "import time"
   ]
  },
  {
   "cell_type": "code",
   "execution_count": 33,
   "id": "fb125fef-268f-4d50-a3db-ed798fe90369",
   "metadata": {},
   "outputs": [],
   "source": [
    "async def get_html(url, selector, sleep=5, retries=3):\n",
    "    for i in range(1, retries+1):\n",
    "        time.sleep(sleep * i)\n",
    "        try:\n",
    "            async with async_playwright() as p:\n",
    "                browser = await p.chromium.launch()\n",
    "                page = await browser.new_page()\n",
    "                await page.goto(url)\n",
    "                print(await page.title())\n",
    "                html = await page.inner_html(selector)\n",
    "        except PlaywrightTimeout:\n",
    "            print(f\"Timeout error on {url}\")\n",
    "            continue\n",
    "        else:\n",
    "            break\n",
    "    return html"
   ]
  },
  {
   "cell_type": "code",
   "execution_count": 35,
   "id": "5b810f31-5713-4d60-94b5-be2fbd0e0338",
   "metadata": {},
   "outputs": [],
   "source": [
    "async def scrape_season(season):\n",
    "    url = f\"https://www.basketball-reference.com/leagues/NBA_{season}_games.html\"\n",
    "    html = await get_html(url, \"#content .filter\")\n",
    "    \n",
    "    soup = BeautifulSoup(html)\n",
    "    links = soup.find_all(\"a\")\n",
    "    standings_pages = [f\"https://www.basketball-reference.com{l['href']}\" for l in links]\n",
    "    \n",
    "    for url in standings_pages:\n",
    "        save_path = os.path.join(STANDINGS_DIR, url.split(\"/\")[-1])\n",
    "        if os.path.exists(save_path):\n",
    "            continue\n",
    "        \n",
    "        html = await get_html(url, \"#all_schedule\")\n",
    "        with open(save_path, \"w+\") as f:\n",
    "            f.write(html)"
   ]
  },
  {
   "cell_type": "code",
   "execution_count": 9,
   "id": "fc42da87-4b10-4331-9fa0-aa2c29827289",
   "metadata": {},
   "outputs": [
    {
     "name": "stdout",
     "output_type": "stream",
     "text": [
      "2015-16 NBA Schedule | Basketball-Reference.com\n",
      "2016-17 NBA Schedule | Basketball-Reference.com\n",
      "2017-18 NBA Schedule | Basketball-Reference.com\n",
      "2018-19 NBA Schedule | Basketball-Reference.com\n",
      "2019-20 NBA Schedule | Basketball-Reference.com\n",
      "2019-20 NBA Schedule | Basketball-Reference.com\n",
      "2020-21 NBA Schedule | Basketball-Reference.com\n",
      "2020-21 NBA Schedule | Basketball-Reference.com\n",
      "2020-21 NBA Schedule | Basketball-Reference.com\n",
      "2020-21 NBA Schedule | Basketball-Reference.com\n",
      "2020-21 NBA Schedule | Basketball-Reference.com\n",
      "2020-21 NBA Schedule | Basketball-Reference.com\n",
      "2020-21 NBA Schedule | Basketball-Reference.com\n",
      "2020-21 NBA Schedule | Basketball-Reference.com\n",
      "2020-21 NBA Schedule | Basketball-Reference.com\n",
      "2021-22 NBA Schedule | Basketball-Reference.com\n",
      "2021-22 NBA Schedule | Basketball-Reference.com\n",
      "2021-22 NBA Schedule | Basketball-Reference.com\n",
      "2021-22 NBA Schedule | Basketball-Reference.com\n",
      "2021-22 NBA Schedule | Basketball-Reference.com\n",
      "2021-22 NBA Schedule | Basketball-Reference.com\n",
      "2021-22 NBA Schedule | Basketball-Reference.com\n",
      "2021-22 NBA Schedule | Basketball-Reference.com\n",
      "2021-22 NBA Schedule | Basketball-Reference.com\n",
      "2021-22 NBA Schedule | Basketball-Reference.com\n"
     ]
    }
   ],
   "source": [
    "for season in SEASONS:\n",
    "    await scrape_season(season)"
   ]
  },
  {
   "cell_type": "code",
   "execution_count": 30,
   "id": "3baa481a-38fa-4045-a679-b02b1d92ef0a",
   "metadata": {},
   "outputs": [],
   "source": [
    "standings_files = os.listdir(STANDINGS_DIR)"
   ]
  },
  {
   "cell_type": "code",
   "execution_count": null,
   "id": "8948c800-acbe-43c8-b213-f348eb11d4c7",
   "metadata": {},
   "outputs": [],
   "source": [
    "async def scrape_game(standings_file):\n",
    "    with open(standings_file, 'r') as f:\n",
    "        html = f.read()\n",
    "\n",
    "    soup = BeautifulSoup(html)\n",
    "    links = soup.find_all(\"a\")\n",
    "    hrefs = [l.get('href') for l in links]\n",
    "    box_scores = [f\"https://www.basketball-reference.com{l}\" for l in hrefs if l and \"boxscore\" in l and '.html' in l]\n",
    "\n",
    "    for url in box_scores:\n",
    "        save_path = os.path.join(SCORES_DIR, url.split(\"/\")[-1])\n",
    "        if os.path.exists(save_path):\n",
    "            continue\n",
    "\n",
    "        html = await get_html(url, \"#content\")\n",
    "        if not html:\n",
    "            continue\n",
    "        with open(save_path, \"w+\") as f:\n",
    "            f.write(html)"
   ]
  },
  {
   "cell_type": "code",
   "execution_count": null,
   "id": "c6c23fb4-88af-4d34-87fd-8753e43fb4fe",
   "metadata": {},
   "outputs": [
    {
     "name": "stdout",
     "output_type": "stream",
     "text": [
      "Wizards vs Timberwolves, March 13, 2017 | Basketball-Reference.com\n",
      "Hawks vs Spurs, March 13, 2017 | Basketball-Reference.com\n",
      "Clippers vs Jazz, March 13, 2017 | Basketball-Reference.com\n",
      "Lakers vs Nuggets, March 13, 2017 | Basketball-Reference.com\n",
      "Magic vs Kings, March 13, 2017 | Basketball-Reference.com\n",
      "Pistons vs Cavaliers, March 14, 2017 | Basketball-Reference.com\n",
      "Thunder vs Nets, March 14, 2017 | Basketball-Reference.com\n",
      "Pacers vs Knicks, March 14, 2017 | Basketball-Reference.com\n",
      "Trail Blazers vs Pelicans, March 14, 2017 | Basketball-Reference.com\n",
      "76ers vs Warriors, March 14, 2017 | Basketball-Reference.com\n",
      "Hornets vs Pacers, March 15, 2017 | Basketball-Reference.com\n",
      "Mavericks vs Wizards, March 15, 2017 | Basketball-Reference.com\n",
      "Timberwolves vs Celtics, March 15, 2017 | Basketball-Reference.com\n",
      "Jazz vs Pistons, March 15, 2017 | Basketball-Reference.com\n",
      "Pelicans vs Heat, March 15, 2017 | Basketball-Reference.com\n",
      "Grizzlies vs Bulls, March 15, 2017 | Basketball-Reference.com\n",
      "Lakers vs Rockets, March 15, 2017 | Basketball-Reference.com\n",
      "Trail Blazers vs Spurs, March 15, 2017 | Basketball-Reference.com\n",
      "Kings vs Suns, March 15, 2017 | Basketball-Reference.com\n",
      "Bucks vs Clippers, March 15, 2017 | Basketball-Reference.com\n",
      "Jazz vs Cavaliers, March 16, 2017 | Basketball-Reference.com\n",
      "Thunder vs Raptors, March 16, 2017 | Basketball-Reference.com\n",
      "Grizzlies vs Hawks, March 16, 2017 | Basketball-Reference.com\n",
      "Nets vs Knicks, March 16, 2017 | Basketball-Reference.com\n",
      "Timeout error on https://www.basketball-reference.com/boxscores/201703160DEN.html\n",
      "Clippers vs Nuggets, March 16, 2017 | Basketball-Reference.com\n",
      "Magic vs Warriors, March 16, 2017 | Basketball-Reference.com\n",
      "Mavericks vs 76ers, March 17, 2017 | Basketball-Reference.com\n",
      "Bulls vs Wizards, March 17, 2017 | Basketball-Reference.com\n",
      "Celtics vs Nets, March 17, 2017 | Basketball-Reference.com\n",
      "Raptors vs Pistons, March 17, 2017 | Basketball-Reference.com\n",
      "Timberwolves vs Heat, March 17, 2017 | Basketball-Reference.com\n",
      "Rockets vs Pelicans, March 17, 2017 | Basketball-Reference.com\n",
      "Magic vs Suns, March 17, 2017 | Basketball-Reference.com\n",
      "Bucks vs Lakers, March 17, 2017 | Basketball-Reference.com\n",
      "Timeout error on https://www.basketball-reference.com/boxscores/201703180OKC.html\n",
      "Kings vs Thunder, March 18, 2017 | Basketball-Reference.com\n",
      "Trail Blazers vs Hawks, March 18, 2017 | Basketball-Reference.com\n",
      "Wizards vs Hornets, March 18, 2017 | Basketball-Reference.com\n",
      "Cavaliers vs Clippers, March 18, 2017 | Basketball-Reference.com\n",
      "Jazz vs Bulls, March 18, 2017 | Basketball-Reference.com\n",
      "Spurs vs Grizzlies, March 18, 2017 | Basketball-Reference.com\n",
      "Rockets vs Nuggets, March 18, 2017 | Basketball-Reference.com\n",
      "Bucks vs Warriors, March 18, 2017 | Basketball-Reference.com\n",
      "Mavericks vs Nets, March 19, 2017 | Basketball-Reference.com\n",
      "Celtics vs 76ers, March 19, 2017 | Basketball-Reference.com\n",
      "Suns vs Pistons, March 19, 2017 | Basketball-Reference.com\n",
      "Trail Blazers vs Heat, March 19, 2017 | Basketball-Reference.com\n",
      "Timberwolves vs Pelicans, March 19, 2017 | Basketball-Reference.com\n",
      "Pacers vs Raptors, March 19, 2017 | Basketball-Reference.com\n",
      "Kings vs Spurs, March 19, 2017 | Basketball-Reference.com\n",
      "Cavaliers vs Lakers, March 19, 2017 | Basketball-Reference.com\n",
      "Hawks vs Hornets, March 20, 2017 | Basketball-Reference.com\n",
      "Jazz vs Pacers, March 20, 2017 | Basketball-Reference.com\n",
      "76ers vs Magic, March 20, 2017 | Basketball-Reference.com\n",
      "Wizards vs Celtics, March 20, 2017 | Basketball-Reference.com\n",
      "Nuggets vs Rockets, March 20, 2017 | Basketball-Reference.com\n",
      "Warriors vs Thunder, March 20, 2017 | Basketball-Reference.com\n",
      "Knicks vs Clippers, March 20, 2017 | Basketball-Reference.com\n",
      "Bulls vs Raptors, March 21, 2017 | Basketball-Reference.com\n",
      "Pistons vs Nets, March 21, 2017 | Basketball-Reference.com\n",
      "Suns vs Heat, March 21, 2017 | Basketball-Reference.com\n",
      "Grizzlies vs Pelicans, March 21, 2017 | Basketball-Reference.com\n",
      "Warriors vs Mavericks, March 21, 2017 | Basketball-Reference.com\n",
      "Spurs vs Timberwolves, March 21, 2017 | Basketball-Reference.com\n",
      "Bucks vs Trail Blazers, March 21, 2017 | Basketball-Reference.com\n",
      "Clippers vs Lakers, March 21, 2017 | Basketball-Reference.com\n",
      "Hornets vs Magic, March 22, 2017 | Basketball-Reference.com\n",
      "Pacers vs Celtics, March 22, 2017 | Basketball-Reference.com\n",
      "Pistons vs Bulls, March 22, 2017 | Basketball-Reference.com\n",
      "76ers vs Thunder, March 22, 2017 | Basketball-Reference.com\n",
      "Hawks vs Wizards, March 22, 2017 | Basketball-Reference.com\n",
      "Cavaliers vs Nuggets, March 22, 2017 | Basketball-Reference.com\n",
      "Bucks vs Kings, March 22, 2017 | Basketball-Reference.com\n",
      "Knicks vs Jazz, March 22, 2017 | Basketball-Reference.com\n",
      "Suns vs Nets, March 23, 2017 | Basketball-Reference.com\n",
      "Raptors vs Heat, March 23, 2017 | Basketball-Reference.com\n",
      "Clippers vs Mavericks, March 23, 2017 | Basketball-Reference.com\n",
      "Grizzlies vs Spurs, March 23, 2017 | Basketball-Reference.com\n",
      "Knicks vs Trail Blazers, March 23, 2017 | Basketball-Reference.com\n",
      "Cavaliers vs Hornets, March 24, 2017 | Basketball-Reference.com\n",
      "Nuggets vs Pacers, March 24, 2017 | Basketball-Reference.com\n",
      "Pistons vs Magic, March 24, 2017 | Basketball-Reference.com\n",
      "Nets vs Wizards, March 24, 2017 | Basketball-Reference.com\n",
      "Timeout error on https://www.basketball-reference.com/boxscores/201703240BOS.html\n",
      "Suns vs Celtics, March 24, 2017 | Basketball-Reference.com\n",
      "76ers vs Bulls, March 24, 2017 | Basketball-Reference.com\n",
      "Pelicans vs Rockets, March 24, 2017 | Basketball-Reference.com\n",
      "Hawks vs Bucks, March 24, 2017 | Basketball-Reference.com\n",
      "Kings vs Warriors, March 24, 2017 | Basketball-Reference.com\n",
      "Timberwolves vs Lakers, March 24, 2017 | Basketball-Reference.com\n",
      "Jazz vs Clippers, March 25, 2017 | Basketball-Reference.com\n",
      "Wizards vs Cavaliers, March 25, 2017 | Basketball-Reference.com\n",
      "Raptors vs Mavericks, March 25, 2017 | Basketball-Reference.com\n",
      "Knicks vs Spurs, March 25, 2017 | Basketball-Reference.com\n",
      "Timeout error on https://www.basketball-reference.com/boxscores/201703250POR.html\n",
      "Timberwolves vs Trail Blazers, March 25, 2017 | Basketball-Reference.com\n",
      "Nets vs Hawks, March 26, 2017 | Basketball-Reference.com\n",
      "Suns vs Hornets, March 26, 2017 | Basketball-Reference.com\n",
      "Thunder vs Rockets, March 26, 2017 | Basketball-Reference.com\n",
      "Kings vs Clippers, March 26, 2017 | Basketball-Reference.com\n",
      "Bulls vs Bucks, March 26, 2017 | Basketball-Reference.com\n",
      "Heat vs Celtics, March 26, 2017 | Basketball-Reference.com\n",
      "76ers vs Pacers, March 26, 2017 | Basketball-Reference.com\n",
      "Pelicans vs Nuggets, March 26, 2017 | Basketball-Reference.com\n",
      "Grizzlies vs Warriors, March 26, 2017 | Basketball-Reference.com\n",
      "Trail Blazers vs Lakers, March 26, 2017 | Basketball-Reference.com\n"
     ]
    }
   ],
   "source": [
    "import pandas as pd\n",
    "\n",
    "for season in SEASONS:\n",
    "    files = [s for s in standings_files if str(season) in s]\n",
    "    \n",
    "    for f in files:\n",
    "        filepath = os.path.join(STANDINGS_DIR, f)\n",
    "        \n",
    "        await scrape_game(filepath)"
   ]
  },
  {
   "cell_type": "code",
   "execution_count": null,
   "id": "65c9c3fd-21a4-4f88-a207-e3ed5bd751ca",
   "metadata": {},
   "outputs": [],
   "source": [
    "import pandas as pd\n",
    "\n",
    "stats = pd.read_html(html)"
   ]
  },
  {
   "cell_type": "code",
   "execution_count": null,
   "id": "286af6dd-64b2-4b24-8f03-082eeb2578a7",
   "metadata": {},
   "outputs": [],
   "source": [
    "players = stats[0]"
   ]
  },
  {
   "cell_type": "code",
   "execution_count": null,
   "id": "8dbc6603-0805-4d7e-a63d-ca4a77d16715",
   "metadata": {},
   "outputs": [],
   "source": [
    "summary = players[[\"Player\", \"Age\", \"Tm\"]].groupby(\"Player\", group_keys=False).agg(['count', 'min'])"
   ]
  },
  {
   "cell_type": "code",
   "execution_count": null,
   "id": "abae9ebd-7435-42e8-a97e-29ab308490cd",
   "metadata": {},
   "outputs": [],
   "source": [
    "summary.columns = [\"team_count\", \"age\", \"tc\", \"team\"]"
   ]
  }
 ],
 "metadata": {
  "kernelspec": {
   "display_name": "Python 3 (ipykernel)",
   "language": "python",
   "name": "python3"
  },
  "language_info": {
   "codemirror_mode": {
    "name": "ipython",
    "version": 3
   },
   "file_extension": ".py",
   "mimetype": "text/x-python",
   "name": "python",
   "nbconvert_exporter": "python",
   "pygments_lexer": "ipython3",
   "version": "3.9.13"
  }
 },
 "nbformat": 4,
 "nbformat_minor": 5
}
