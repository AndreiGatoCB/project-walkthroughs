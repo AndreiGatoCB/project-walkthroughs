{
 "cells": [
  {
   "cell_type": "code",
   "execution_count": 152,
   "id": "f11822b1-a697-4711-973b-c55f1c982f99",
   "metadata": {},
   "outputs": [],
   "source": [
    "import os\n",
    "import pandas as pd\n",
    "\n",
    "SCORE_DIR = \"data/scores\""
   ]
  },
  {
   "cell_type": "code",
   "execution_count": 153,
   "id": "1659c028-02e4-4e56-b6dc-82efa70cc5ca",
   "metadata": {},
   "outputs": [],
   "source": [
    "box_scores = os.listdir(SCORE_DIR)\n",
    "box_scores = [os.path.join(SCORE_DIR, f) for f in box_scores if f.endswith(\".html\")]"
   ]
  },
  {
   "cell_type": "code",
   "execution_count": 106,
   "id": "50fe65c4-47df-432f-8a14-f8717e575074",
   "metadata": {},
   "outputs": [],
   "source": [
    "from bs4 import BeautifulSoup\n",
    "\n",
    "def parse_html(box_score):\n",
    "    with open(bs) as f:\n",
    "        html = f.read()\n",
    "\n",
    "    soup = BeautifulSoup(html)\n",
    "    [s.decompose() for s in soup.select(\"tr.over_header\")]\n",
    "    [s.decompose() for s in soup.select(\"tr.thead\")]\n",
    "    return soup"
   ]
  },
  {
   "cell_type": "code",
   "execution_count": 133,
   "id": "085f57bf-91d8-462a-9997-6cf73a045058",
   "metadata": {},
   "outputs": [],
   "source": [
    "def read_season_info(soup):\n",
    "    nav = soup.select(\"#bottom_nav_container\")[0]\n",
    "    hrefs = [a[\"href\"] for a in nav.find_all('a')]\n",
    "    season = os.path.basename(hrefs[1]).split(\"_\")[0]\n",
    "    return season"
   ]
  },
  {
   "cell_type": "code",
   "execution_count": 107,
   "id": "48003645-4bbc-49d7-b30a-5747e751052d",
   "metadata": {},
   "outputs": [],
   "source": [
    "def read_line_score(soup):\n",
    "    line_score = pd.read_html(str(soup), attrs = {'id': 'line_score'})[0]\n",
    "    line_score.columns = [\"team\", \"q1\", \"q2\", \"q3\", \"q4\", \"total\"]\n",
    "    return line_score"
   ]
  },
  {
   "cell_type": "code",
   "execution_count": 108,
   "id": "4d8574e0-9703-4d10-9ca3-d56c1249b651",
   "metadata": {},
   "outputs": [],
   "source": [
    "def read_stats(soup, team, stat):\n",
    "    df = pd.read_html(str(soup), attrs = {'id': f'box-{team}-game-{stat}'}, index_col=0)[0]\n",
    "    df = df.apply(pd.to_numeric, errors=\"coerce\")\n",
    "    return df"
   ]
  },
  {
   "cell_type": "code",
   "execution_count": null,
   "id": "256f1eab-22d4-4396-8e4f-b7fb1ed10b5e",
   "metadata": {},
   "outputs": [],
   "source": [
    "games = []\n",
    "for box_score in box_scores:\n",
    "    soup = parse_html(box_score)\n",
    "\n",
    "    line_score = read_line_score(soup)\n",
    "    teams = list(line_score[\"team\"])\n",
    "\n",
    "    summaries = []\n",
    "    for team in teams:\n",
    "        basic = read_stats(soup, team, \"basic\")\n",
    "        advanced = read_stats(soup, team, \"advanced\")\n",
    "\n",
    "        totals = pd.concat([basic.iloc[-1,:], advanced.iloc[-1,:]])\n",
    "        totals.index = totals.index.str.lower()\n",
    "\n",
    "        maxes = pd.concat([basic.iloc[:-1].max(), advanced.iloc[:-1].max()])\n",
    "        maxes.index = maxes.index.str.lower() + \"_max\"\n",
    "\n",
    "        summary = pd.concat([totals, maxes])\n",
    "\n",
    "        summaries.append(summary)\n",
    "    summary = pd.concat(summaries, axis=1).T\n",
    "\n",
    "    game = pd.concat([summary, line_score], axis=1)\n",
    "\n",
    "    away_winner = game.loc[0, \"total\"] > game.loc[1, \"total\"]\n",
    "    game[\"won\"] = [away_winner, not away_winner]\n",
    "    game[\"home\"] = [0,1]\n",
    "\n",
    "    game_opp = game.iloc[::-1].reset_index()\n",
    "    game_opp.columns += \"_opp\"\n",
    "\n",
    "    full_game = pd.concat([game, game_opp], axis=1)\n",
    "    full_game[\"season\"] = read_season_info(soup)\n",
    "    \n",
    "    full_game[\"date\"] = os.path.basename(box_score)[:8]\n",
    "    full_game[\"date\"] = pd.to_datetime(full_game[\"date\"], format=\"%Y%m%d\")\n",
    "    games.append(full_game)"
   ]
  },
  {
   "cell_type": "code",
   "execution_count": null,
   "id": "7e3a6bc3-764c-4839-92f9-92049bac9147",
   "metadata": {},
   "outputs": [],
   "source": [
    "games_df = pd.concat(games, axis=1)"
   ]
  },
  {
   "cell_type": "code",
   "execution_count": null,
   "id": "3fbf90f0-ba16-451b-b8cc-84408d47900b",
   "metadata": {},
   "outputs": [],
   "source": [
    "games_df"
   ]
  },
  {
   "cell_type": "code",
   "execution_count": null,
   "id": "706eecfc-b899-44fd-aea0-a74ab35c29de",
   "metadata": {},
   "outputs": [],
   "source": []
  }
 ],
 "metadata": {
  "kernelspec": {
   "display_name": "Python 3 (ipykernel)",
   "language": "python",
   "name": "python3"
  },
  "language_info": {
   "codemirror_mode": {
    "name": "ipython",
    "version": 3
   },
   "file_extension": ".py",
   "mimetype": "text/x-python",
   "name": "python",
   "nbconvert_exporter": "python",
   "pygments_lexer": "ipython3",
   "version": "3.9.13"
  }
 },
 "nbformat": 4,
 "nbformat_minor": 5
}
