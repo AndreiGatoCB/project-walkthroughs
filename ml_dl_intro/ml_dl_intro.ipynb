{
 "cells": [
  {
   "cell_type": "markdown",
   "id": "ccb889b5",
   "metadata": {
    "slideshow": {
     "slide_type": "slide"
    }
   },
   "source": [
    "## Intro to ML and ML\n",
    "\n",
    "- Machine learning (ML) and deep learning (DL) are both forms of **artificial intelligence (AI)**.\n",
    "- AI arose in the 1950s and 60s to simulate human judgement."
   ]
  },
  {
   "cell_type": "markdown",
   "id": "b76a3bc0-50dc-4b95-8afe-c44dae5418df",
   "metadata": {
    "slideshow": {
     "slide_type": "fragment"
    },
    "tags": []
   },
   "source": [
    "![ELIZA](img/eliza.jpeg)"
   ]
  },
  {
   "cell_type": "markdown",
   "id": "a5901623-1502-4710-857b-11928a34213e",
   "metadata": {
    "slideshow": {
     "slide_type": "slide"
    },
    "tags": []
   },
   "source": [
    "## AI Overview\n",
    "\n",
    "- AI is about building programs that can make decisions like a human.\n",
    "- You'll hear a lot of hype about AI, but it's just code and data!  There's no magic."
   ]
  },
  {
   "cell_type": "code",
   "execution_count": 109,
   "id": "9876bac1-22e1-478a-add4-042ef2e17eb0",
   "metadata": {
    "slideshow": {
     "slide_type": "fragment"
    },
    "tags": []
   },
   "outputs": [
    {
     "name": "stdout",
     "output_type": "stream",
     "text": [
      " AI is a computer program that processes data and makes decisions based on that data.</s>\n"
     ]
    }
   ],
   "source": [
    "from transformers import AutoModelForCausalLM, AutoTokenizer\n",
    "\n",
    "tokenizer = AutoTokenizer.from_pretrained(\"bigscience/bloomz-560m\")\n",
    "model = AutoModelForCausalLM.from_pretrained(\"bigscience/bloomz-560m\")\n",
    "\n",
    "prompt = \"Explain what AI is. Explanation:\"\n",
    "inputs = tokenizer.encode(prompt, return_tensors=\"pt\")\n",
    "output = tokenizer.decode(model.generate(inputs, max_new_tokens=128)[0])\n",
    "print(output.replace(prompt, \"\"))"
   ]
  },
  {
   "cell_type": "markdown",
   "id": "88e1ac32-6ff0-4b05-bedb-18c64314d71f",
   "metadata": {
    "slideshow": {
     "slide_type": "slide"
    },
    "tags": []
   },
   "source": [
    "## Human Predictions\n",
    "\n",
    "- Let's say we want to predict tomorrow's temperature\n",
    "- We might look outside, and decide that tomorrow will be the same temperature as today"
   ]
  },
  {
   "cell_type": "code",
   "execution_count": 119,
   "id": "42f16810-60f9-40b3-b315-d3ee0cb1f2a2",
   "metadata": {
    "slideshow": {
     "slide_type": "fragment"
    },
    "tags": []
   },
   "outputs": [
    {
     "data": {
      "text/html": [
       "<div>\n",
       "<style scoped>\n",
       "    .dataframe tbody tr th:only-of-type {\n",
       "        vertical-align: middle;\n",
       "    }\n",
       "\n",
       "    .dataframe tbody tr th {\n",
       "        vertical-align: top;\n",
       "    }\n",
       "\n",
       "    .dataframe thead th {\n",
       "        text-align: right;\n",
       "    }\n",
       "</style>\n",
       "<table border=\"1\" class=\"dataframe\">\n",
       "  <thead>\n",
       "    <tr style=\"text-align: right;\">\n",
       "      <th></th>\n",
       "      <th>tmax</th>\n",
       "      <th>prediction</th>\n",
       "    </tr>\n",
       "  </thead>\n",
       "  <tbody>\n",
       "    <tr>\n",
       "      <th>2022-11-20</th>\n",
       "      <td>61.0</td>\n",
       "      <td>61.0</td>\n",
       "    </tr>\n",
       "    <tr>\n",
       "      <th>2022-11-21</th>\n",
       "      <td>60.0</td>\n",
       "      <td>60.0</td>\n",
       "    </tr>\n",
       "    <tr>\n",
       "      <th>2022-11-22</th>\n",
       "      <td>62.0</td>\n",
       "      <td>62.0</td>\n",
       "    </tr>\n",
       "    <tr>\n",
       "      <th>2022-11-23</th>\n",
       "      <td>67.0</td>\n",
       "      <td>67.0</td>\n",
       "    </tr>\n",
       "    <tr>\n",
       "      <th>2022-11-24</th>\n",
       "      <td>66.0</td>\n",
       "      <td>66.0</td>\n",
       "    </tr>\n",
       "    <tr>\n",
       "      <th>2022-11-25</th>\n",
       "      <td>70.0</td>\n",
       "      <td>70.0</td>\n",
       "    </tr>\n",
       "    <tr>\n",
       "      <th>2022-11-26</th>\n",
       "      <td>62.0</td>\n",
       "      <td>62.0</td>\n",
       "    </tr>\n",
       "  </tbody>\n",
       "</table>\n",
       "</div>"
      ],
      "text/plain": [
       "            tmax  prediction\n",
       "2022-11-20  61.0        61.0\n",
       "2022-11-21  60.0        60.0\n",
       "2022-11-22  62.0        62.0\n",
       "2022-11-23  67.0        67.0\n",
       "2022-11-24  66.0        66.0\n",
       "2022-11-25  70.0        70.0\n",
       "2022-11-26  62.0        62.0"
      ]
     },
     "execution_count": 119,
     "metadata": {},
     "output_type": "execute_result"
    }
   ],
   "source": [
    "import pandas as pd\n",
    "pd.read_csv(\"observations.csv\", index_col=0)"
   ]
  },
  {
   "cell_type": "markdown",
   "id": "4c186f04-2ece-47d5-9870-ab6ea7d03949",
   "metadata": {
    "slideshow": {
     "slide_type": "slide"
    },
    "tags": []
   },
   "source": [
    "## Testing Predictions\n",
    "\n",
    "- Now, we want to know how good our predictions are\n",
    "- We calculate the error of our predictions by taking the difference from the actuals"
   ]
  },
  {
   "cell_type": "code",
   "execution_count": 131,
   "id": "a03e8bfb-c440-438f-9d98-49908e10801a",
   "metadata": {
    "slideshow": {
     "slide_type": "fragment"
    },
    "tags": []
   },
   "outputs": [
    {
     "data": {
      "text/html": [
       "<div>\n",
       "<style scoped>\n",
       "    .dataframe tbody tr th:only-of-type {\n",
       "        vertical-align: middle;\n",
       "    }\n",
       "\n",
       "    .dataframe tbody tr th {\n",
       "        vertical-align: top;\n",
       "    }\n",
       "\n",
       "    .dataframe thead th {\n",
       "        text-align: right;\n",
       "    }\n",
       "</style>\n",
       "<table border=\"1\" class=\"dataframe\">\n",
       "  <thead>\n",
       "    <tr style=\"text-align: right;\">\n",
       "      <th></th>\n",
       "      <th>tmax</th>\n",
       "      <th>prediction</th>\n",
       "      <th>tmax_tomorrow</th>\n",
       "      <th>error</th>\n",
       "    </tr>\n",
       "  </thead>\n",
       "  <tbody>\n",
       "    <tr>\n",
       "      <th>2022-11-20</th>\n",
       "      <td>61.0</td>\n",
       "      <td>61.0</td>\n",
       "      <td>60.0</td>\n",
       "      <td>1.0</td>\n",
       "    </tr>\n",
       "    <tr>\n",
       "      <th>2022-11-21</th>\n",
       "      <td>60.0</td>\n",
       "      <td>60.0</td>\n",
       "      <td>62.0</td>\n",
       "      <td>2.0</td>\n",
       "    </tr>\n",
       "    <tr>\n",
       "      <th>2022-11-22</th>\n",
       "      <td>62.0</td>\n",
       "      <td>62.0</td>\n",
       "      <td>67.0</td>\n",
       "      <td>5.0</td>\n",
       "    </tr>\n",
       "    <tr>\n",
       "      <th>2022-11-23</th>\n",
       "      <td>67.0</td>\n",
       "      <td>67.0</td>\n",
       "      <td>66.0</td>\n",
       "      <td>1.0</td>\n",
       "    </tr>\n",
       "    <tr>\n",
       "      <th>2022-11-24</th>\n",
       "      <td>66.0</td>\n",
       "      <td>66.0</td>\n",
       "      <td>70.0</td>\n",
       "      <td>4.0</td>\n",
       "    </tr>\n",
       "    <tr>\n",
       "      <th>2022-11-25</th>\n",
       "      <td>70.0</td>\n",
       "      <td>70.0</td>\n",
       "      <td>62.0</td>\n",
       "      <td>8.0</td>\n",
       "    </tr>\n",
       "    <tr>\n",
       "      <th>2022-11-26</th>\n",
       "      <td>62.0</td>\n",
       "      <td>62.0</td>\n",
       "      <td>64.0</td>\n",
       "      <td>2.0</td>\n",
       "    </tr>\n",
       "  </tbody>\n",
       "</table>\n",
       "</div>"
      ],
      "text/plain": [
       "            tmax  prediction  tmax_tomorrow  error\n",
       "2022-11-20  61.0        61.0           60.0    1.0\n",
       "2022-11-21  60.0        60.0           62.0    2.0\n",
       "2022-11-22  62.0        62.0           67.0    5.0\n",
       "2022-11-23  67.0        67.0           66.0    1.0\n",
       "2022-11-24  66.0        66.0           70.0    4.0\n",
       "2022-11-25  70.0        70.0           62.0    8.0\n",
       "2022-11-26  62.0        62.0           64.0    2.0"
      ]
     },
     "execution_count": 131,
     "metadata": {},
     "output_type": "execute_result"
    }
   ],
   "source": [
    "observations[\"error\"] = (observations[\"tmax_tomorrow\"] - observations[\"prediction\"]).abs()\n",
    "observations"
   ]
  },
  {
   "cell_type": "markdown",
   "id": "eae8b38c-2100-43ca-b768-d80e7b3dcd8e",
   "metadata": {
    "slideshow": {
     "slide_type": "slide"
    },
    "tags": []
   },
   "source": [
    "## Error Metric\n",
    "\n",
    "- It can be hard to interpret several individual error metrics\n",
    "- We usually average the errors to create a single error number\n",
    "- This metric is called mean absolute error, and we want it to be as low as possible"
   ]
  },
  {
   "cell_type": "code",
   "execution_count": 121,
   "id": "d58e467f-bad9-4256-9b16-951795a9b2fe",
   "metadata": {
    "slideshow": {
     "slide_type": "fragment"
    },
    "tags": []
   },
   "outputs": [
    {
     "data": {
      "text/plain": [
       "3.2857142857142856"
      ]
     },
     "execution_count": 121,
     "metadata": {},
     "output_type": "execute_result"
    }
   ],
   "source": [
    "observations[\"error\"].mean()"
   ]
  },
  {
   "cell_type": "markdown",
   "id": "b86e08aa-9b2e-4d0d-b6e5-668a18a9d32a",
   "metadata": {
    "slideshow": {
     "slide_type": "slide"
    },
    "tags": []
   },
   "source": [
    "## Expert Systems\n",
    "\n",
    "- Computers run human-generated rules to make predictions\n",
    "- Temperature rules\n",
    "    - Tomorrow's temperature will be the average of the last 5 days\n",
    "    - If today is more than 5 degrees warmer then yesterday, add 2 to tomorrow's temperature"
   ]
  },
  {
   "cell_type": "code",
   "execution_count": 122,
   "id": "d5535501-513f-43d3-b01d-56109994c372",
   "metadata": {
    "slideshow": {
     "slide_type": "fragment"
    },
    "tags": []
   },
   "outputs": [
    {
     "data": {
      "text/plain": [
       "3.057142857142857"
      ]
     },
     "execution_count": 122,
     "metadata": {},
     "output_type": "execute_result"
    }
   ],
   "source": [
    "expert = pd.read_csv(\"expert_error.csv\", index_col=0)\n",
    "expert[\"error\"].mean()"
   ]
  },
  {
   "cell_type": "markdown",
   "id": "9a18e7c5-93e9-43a8-b2ea-196c6da24c98",
   "metadata": {
    "slideshow": {
     "slide_type": "slide"
    },
    "tags": []
   },
   "source": [
    "## Machine Learning\n",
    "\n",
    "- An algorithm automatically makes the rules for predictions\n",
    "- Much less effort than expert systems"
   ]
  },
  {
   "cell_type": "markdown",
   "id": "2428f32a-b517-4398-97f2-0f36ab161d8f",
   "metadata": {
    "slideshow": {
     "slide_type": "fragment"
    },
    "tags": []
   },
   "source": [
    "![tree](img/tree.svg)"
   ]
  },
  {
   "cell_type": "markdown",
   "id": "82a848ce-ad4e-49e2-bf90-e41aa835575a",
   "metadata": {
    "slideshow": {
     "slide_type": "slide"
    },
    "tags": []
   },
   "source": [
    "## Linear Regression\n",
    "\n",
    "- Learn a linear relationship between predictors $x$ and targets $y$\n",
    "- Equation is $y=mx+b$.  The model learns $m$ and $b$ automatically using either an equation or gradient descent."
   ]
  },
  {
   "cell_type": "code",
   "execution_count": 138,
   "id": "83f2a49b-302d-43b0-bc74-bbfa628255fb",
   "metadata": {
    "slideshow": {
     "slide_type": "fragment"
    },
    "tags": []
   },
   "outputs": [
    {
     "data": {
      "text/plain": [
       "<AxesSubplot: xlabel='tmax', ylabel='tmax_tomorrow'>"
      ]
     },
     "execution_count": 138,
     "metadata": {},
     "output_type": "execute_result"
    },
    {
     "data": {
      "image/png": "[encoded data removed]",
      "text/plain": [
       "<Figure size 600x300 with 1 Axes>"
      ]
     },
     "metadata": {},
     "output_type": "display_data"
    }
   ],
   "source": [
    "weather = pd.read_csv(\"clean_weather.csv\", index_col=0)\n",
    "\n",
    "weather.plot.scatter(\"tmax\", \"tmax_tomorrow\", figsize=(6,3))"
   ]
  },
  {
   "cell_type": "code",
   "execution_count": 124,
   "id": "ba936cf8-998a-40b7-bd81-57a3571f15b5",
   "metadata": {
    "slideshow": {
     "slide_type": "slide"
    },
    "tags": []
   },
   "outputs": [
    {
     "data": {
      "text/html": [
       "<style>#sk-container-id-11 {color: black;background-color: white;}#sk-container-id-11 pre{padding: 0;}#sk-container-id-11 div.sk-toggleable {background-color: white;}#sk-container-id-11 label.sk-toggleable__label {cursor: pointer;display: block;width: 100%;margin-bottom: 0;padding: 0.3em;box-sizing: border-box;text-align: center;}#sk-container-id-11 label.sk-toggleable__label-arrow:before {content: \"▸\";float: left;margin-right: 0.25em;color: #696969;}#sk-container-id-11 label.sk-toggleable__label-arrow:hover:before {color: black;}#sk-container-id-11 div.sk-estimator:hover label.sk-toggleable__label-arrow:before {color: black;}#sk-container-id-11 div.sk-toggleable__content {max-height: 0;max-width: 0;overflow: hidden;text-align: left;background-color: #f0f8ff;}#sk-container-id-11 div.sk-toggleable__content pre {margin: 0.2em;color: black;border-radius: 0.25em;background-color: #f0f8ff;}#sk-container-id-11 input.sk-toggleable__control:checked~div.sk-toggleable__content {max-height: 200px;max-width: 100%;overflow: auto;}#sk-container-id-11 input.sk-toggleable__control:checked~label.sk-toggleable__label-arrow:before {content: \"▾\";}#sk-container-id-11 div.sk-estimator input.sk-toggleable__control:checked~label.sk-toggleable__label {background-color: #d4ebff;}#sk-container-id-11 div.sk-label input.sk-toggleable__control:checked~label.sk-toggleable__label {background-color: #d4ebff;}#sk-container-id-11 input.sk-hidden--visually {border: 0;clip: rect(1px 1px 1px 1px);clip: rect(1px, 1px, 1px, 1px);height: 1px;margin: -1px;overflow: hidden;padding: 0;position: absolute;width: 1px;}#sk-container-id-11 div.sk-estimator {font-family: monospace;background-color: #f0f8ff;border: 1px dotted black;border-radius: 0.25em;box-sizing: border-box;margin-bottom: 0.5em;}#sk-container-id-11 div.sk-estimator:hover {background-color: #d4ebff;}#sk-container-id-11 div.sk-parallel-item::after {content: \"\";width: 100%;border-bottom: 1px solid gray;flex-grow: 1;}#sk-container-id-11 div.sk-label:hover label.sk-toggleable__label {background-color: #d4ebff;}#sk-container-id-11 div.sk-serial::before {content: \"\";position: absolute;border-left: 1px solid gray;box-sizing: border-box;top: 0;bottom: 0;left: 50%;z-index: 0;}#sk-container-id-11 div.sk-serial {display: flex;flex-direction: column;align-items: center;background-color: white;padding-right: 0.2em;padding-left: 0.2em;position: relative;}#sk-container-id-11 div.sk-item {position: relative;z-index: 1;}#sk-container-id-11 div.sk-parallel {display: flex;align-items: stretch;justify-content: center;background-color: white;position: relative;}#sk-container-id-11 div.sk-item::before, #sk-container-id-11 div.sk-parallel-item::before {content: \"\";position: absolute;border-left: 1px solid gray;box-sizing: border-box;top: 0;bottom: 0;left: 50%;z-index: -1;}#sk-container-id-11 div.sk-parallel-item {display: flex;flex-direction: column;z-index: 1;position: relative;background-color: white;}#sk-container-id-11 div.sk-parallel-item:first-child::after {align-self: flex-end;width: 50%;}#sk-container-id-11 div.sk-parallel-item:last-child::after {align-self: flex-start;width: 50%;}#sk-container-id-11 div.sk-parallel-item:only-child::after {width: 0;}#sk-container-id-11 div.sk-dashed-wrapped {border: 1px dashed gray;margin: 0 0.4em 0.5em 0.4em;box-sizing: border-box;padding-bottom: 0.4em;background-color: white;}#sk-container-id-11 div.sk-label label {font-family: monospace;font-weight: bold;display: inline-block;line-height: 1.2em;}#sk-container-id-11 div.sk-label-container {text-align: center;}#sk-container-id-11 div.sk-container {/* jupyter's `normalize.less` sets `[hidden] { display: none; }` but bootstrap.min.css set `[hidden] { display: none !important; }` so we also need the `!important` here to be able to override the default hidden behavior on the sphinx rendered scikit-learn.org. See: https://github.com/scikit-learn/scikit-learn/issues/21755 */display: inline-block !important;position: relative;}#sk-container-id-11 div.sk-text-repr-fallback {display: none;}</style><div id=\"sk-container-id-11\" class=\"sk-top-container\"><div class=\"sk-text-repr-fallback\"><pre>LinearRegression()</pre><b>In a Jupyter environment, please rerun this cell to show the HTML representation or trust the notebook. <br />On GitHub, the HTML representation is unable to render, please try loading this page with nbviewer.org.</b></div><div class=\"sk-container\" hidden><div class=\"sk-item\"><div class=\"sk-estimator sk-toggleable\"><input class=\"sk-toggleable__control sk-hidden--visually\" id=\"sk-estimator-id-11\" type=\"checkbox\" checked><label for=\"sk-estimator-id-11\" class=\"sk-toggleable__label sk-toggleable__label-arrow\">LinearRegression</label><div class=\"sk-toggleable__content\"><pre>LinearRegression()</pre></div></div></div></div></div>"
      ],
      "text/plain": [
       "LinearRegression()"
      ]
     },
     "execution_count": 124,
     "metadata": {},
     "output_type": "execute_result"
    }
   ],
   "source": [
    "from sklearn.linear_model import LinearRegression\n",
    "\n",
    "lr = LinearRegression()\n",
    "train = weather[:\"2022-11-20\"]\n",
    "\n",
    "lr.fit(train[[\"tmax\"]], train[\"tmax_tomorrow\"])"
   ]
  },
  {
   "cell_type": "code",
   "execution_count": 125,
   "id": "6c5c1ece-4d99-44c2-864e-b5c5b235f574",
   "metadata": {
    "slideshow": {
     "slide_type": "fragment"
    },
    "tags": []
   },
   "outputs": [
    {
     "data": {
      "text/plain": [
       "array([61.91743649, 61.09882817, 62.73604481, 66.8290864 , 66.01047808,\n",
       "       69.28491135, 62.73604481])"
      ]
     },
     "execution_count": 125,
     "metadata": {},
     "output_type": "execute_result"
    }
   ],
   "source": [
    "test = weather[\"2022-11-20\":]\n",
    "preds = lr.predict(test[[\"tmax\"]])\n",
    "\n",
    "preds"
   ]
  },
  {
   "cell_type": "code",
   "execution_count": 126,
   "id": "aea15bf9-caa9-412b-82c0-5ba15a1e94e6",
   "metadata": {
    "slideshow": {
     "slide_type": "fragment"
    },
    "tags": []
   },
   "outputs": [
    {
     "data": {
      "text/plain": [
       "2.921434054129171"
      ]
     },
     "execution_count": 126,
     "metadata": {},
     "output_type": "execute_result"
    }
   ],
   "source": [
    "(test[\"tmax_tomorrow\"] - preds).abs().mean()"
   ]
  },
  {
   "cell_type": "markdown",
   "id": "0f4aa71e-1ae9-400b-a621-63e27b2dd5dd",
   "metadata": {
    "slideshow": {
     "slide_type": "slide"
    },
    "tags": []
   },
   "source": [
    "## Multiple Predictors\n",
    "\n",
    "- Machine learning can also use multiple predictors\n",
    "- For linear regression, the equation would be $y = m1 * x1 + m2 * x2 + b$"
   ]
  },
  {
   "cell_type": "code",
   "execution_count": 127,
   "id": "a9ece190-c26a-4e0e-8494-4783974c53d9",
   "metadata": {
    "slideshow": {
     "slide_type": "fragment"
    },
    "tags": []
   },
   "outputs": [
    {
     "data": {
      "text/plain": [
       "2.896623574188308"
      ]
     },
     "execution_count": 127,
     "metadata": {},
     "output_type": "execute_result"
    }
   ],
   "source": [
    "lr.fit(train[[\"tmax\", \"rain\"]], train[\"tmax_tomorrow\"])\n",
    "preds = lr.predict(test[[\"tmax\", \"rain\"]])\n",
    "\n",
    "(test[\"tmax_tomorrow\"] - preds).abs().mean()"
   ]
  },
  {
   "cell_type": "markdown",
   "id": "55fa17d6-7b8e-4269-a1ec-126ed8bc2b38",
   "metadata": {
    "slideshow": {
     "slide_type": "slide"
    },
    "tags": []
   },
   "source": [
    "## Reduce Error\n",
    "\n",
    "- We reduce error by giving the model better features to make predictions with\n",
    "- For example, we can add columns with:\n",
    "    - The average temperature in the last 7 days\n",
    "    - The ratio between today's temperature and the average\n",
    "- All algorithms will eventually hit a point where error cannot be reduced more"
   ]
  },
  {
   "cell_type": "code",
   "execution_count": 128,
   "id": "abf5d74a-d86d-4ecb-b361-d63c5b99b151",
   "metadata": {
    "slideshow": {
     "slide_type": "fragment"
    },
    "tags": []
   },
   "outputs": [
    {
     "data": {
      "text/html": [
       "<style>#sk-container-id-12 {color: black;background-color: white;}#sk-container-id-12 pre{padding: 0;}#sk-container-id-12 div.sk-toggleable {background-color: white;}#sk-container-id-12 label.sk-toggleable__label {cursor: pointer;display: block;width: 100%;margin-bottom: 0;padding: 0.3em;box-sizing: border-box;text-align: center;}#sk-container-id-12 label.sk-toggleable__label-arrow:before {content: \"▸\";float: left;margin-right: 0.25em;color: #696969;}#sk-container-id-12 label.sk-toggleable__label-arrow:hover:before {color: black;}#sk-container-id-12 div.sk-estimator:hover label.sk-toggleable__label-arrow:before {color: black;}#sk-container-id-12 div.sk-toggleable__content {max-height: 0;max-width: 0;overflow: hidden;text-align: left;background-color: #f0f8ff;}#sk-container-id-12 div.sk-toggleable__content pre {margin: 0.2em;color: black;border-radius: 0.25em;background-color: #f0f8ff;}#sk-container-id-12 input.sk-toggleable__control:checked~div.sk-toggleable__content {max-height: 200px;max-width: 100%;overflow: auto;}#sk-container-id-12 input.sk-toggleable__control:checked~label.sk-toggleable__label-arrow:before {content: \"▾\";}#sk-container-id-12 div.sk-estimator input.sk-toggleable__control:checked~label.sk-toggleable__label {background-color: #d4ebff;}#sk-container-id-12 div.sk-label input.sk-toggleable__control:checked~label.sk-toggleable__label {background-color: #d4ebff;}#sk-container-id-12 input.sk-hidden--visually {border: 0;clip: rect(1px 1px 1px 1px);clip: rect(1px, 1px, 1px, 1px);height: 1px;margin: -1px;overflow: hidden;padding: 0;position: absolute;width: 1px;}#sk-container-id-12 div.sk-estimator {font-family: monospace;background-color: #f0f8ff;border: 1px dotted black;border-radius: 0.25em;box-sizing: border-box;margin-bottom: 0.5em;}#sk-container-id-12 div.sk-estimator:hover {background-color: #d4ebff;}#sk-container-id-12 div.sk-parallel-item::after {content: \"\";width: 100%;border-bottom: 1px solid gray;flex-grow: 1;}#sk-container-id-12 div.sk-label:hover label.sk-toggleable__label {background-color: #d4ebff;}#sk-container-id-12 div.sk-serial::before {content: \"\";position: absolute;border-left: 1px solid gray;box-sizing: border-box;top: 0;bottom: 0;left: 50%;z-index: 0;}#sk-container-id-12 div.sk-serial {display: flex;flex-direction: column;align-items: center;background-color: white;padding-right: 0.2em;padding-left: 0.2em;position: relative;}#sk-container-id-12 div.sk-item {position: relative;z-index: 1;}#sk-container-id-12 div.sk-parallel {display: flex;align-items: stretch;justify-content: center;background-color: white;position: relative;}#sk-container-id-12 div.sk-item::before, #sk-container-id-12 div.sk-parallel-item::before {content: \"\";position: absolute;border-left: 1px solid gray;box-sizing: border-box;top: 0;bottom: 0;left: 50%;z-index: -1;}#sk-container-id-12 div.sk-parallel-item {display: flex;flex-direction: column;z-index: 1;position: relative;background-color: white;}#sk-container-id-12 div.sk-parallel-item:first-child::after {align-self: flex-end;width: 50%;}#sk-container-id-12 div.sk-parallel-item:last-child::after {align-self: flex-start;width: 50%;}#sk-container-id-12 div.sk-parallel-item:only-child::after {width: 0;}#sk-container-id-12 div.sk-dashed-wrapped {border: 1px dashed gray;margin: 0 0.4em 0.5em 0.4em;box-sizing: border-box;padding-bottom: 0.4em;background-color: white;}#sk-container-id-12 div.sk-label label {font-family: monospace;font-weight: bold;display: inline-block;line-height: 1.2em;}#sk-container-id-12 div.sk-label-container {text-align: center;}#sk-container-id-12 div.sk-container {/* jupyter's `normalize.less` sets `[hidden] { display: none; }` but bootstrap.min.css set `[hidden] { display: none !important; }` so we also need the `!important` here to be able to override the default hidden behavior on the sphinx rendered scikit-learn.org. See: https://github.com/scikit-learn/scikit-learn/issues/21755 */display: inline-block !important;position: relative;}#sk-container-id-12 div.sk-text-repr-fallback {display: none;}</style><div id=\"sk-container-id-12\" class=\"sk-top-container\"><div class=\"sk-text-repr-fallback\"><pre>LinearRegression()</pre><b>In a Jupyter environment, please rerun this cell to show the HTML representation or trust the notebook. <br />On GitHub, the HTML representation is unable to render, please try loading this page with nbviewer.org.</b></div><div class=\"sk-container\" hidden><div class=\"sk-item\"><div class=\"sk-estimator sk-toggleable\"><input class=\"sk-toggleable__control sk-hidden--visually\" id=\"sk-estimator-id-12\" type=\"checkbox\" checked><label for=\"sk-estimator-id-12\" class=\"sk-toggleable__label sk-toggleable__label-arrow\">LinearRegression</label><div class=\"sk-toggleable__content\"><pre>LinearRegression()</pre></div></div></div></div></div>"
      ],
      "text/plain": [
       "LinearRegression()"
      ]
     },
     "execution_count": 128,
     "metadata": {},
     "output_type": "execute_result"
    }
   ],
   "source": [
    "weather[\"avg_temp\"] = weather[\"tmax\"].rolling(5).mean()\n",
    "weather[\"temp_ratio\"] = weather[\"tmax\"] / weather[\"avg_temp\"]\n",
    "weather = weather.dropna()\n",
    "\n",
    "train = weather[:\"2022-11-20\"]\n",
    "lr.fit(train[[\"tmax\", \"rain\", \"avg_temp\", \"temp_ratio\"]], train[\"tmax_tomorrow\"])"
   ]
  },
  {
   "cell_type": "code",
   "execution_count": 129,
   "id": "4badec28-47ca-4656-8776-0ae63ce12e09",
   "metadata": {
    "slideshow": {
     "slide_type": "slide"
    },
    "tags": []
   },
   "outputs": [
    {
     "data": {
      "text/plain": [
       "2.7303352088208217"
      ]
     },
     "execution_count": 129,
     "metadata": {},
     "output_type": "execute_result"
    }
   ],
   "source": [
    "test = weather[\"2022-11-20\":]\n",
    "preds = lr.predict(test[[\"tmax\", \"rain\", \"avg_temp\", \"temp_ratio\"]])\n",
    "(test[\"tmax_tomorrow\"] - preds).abs().mean()"
   ]
  },
  {
   "cell_type": "markdown",
   "id": "4f2e5e42-651b-4cf2-b952-a310ea09b3ba",
   "metadata": {
    "slideshow": {
     "slide_type": "slide"
    },
    "tags": []
   },
   "source": [
    "## Deep Learning\n",
    "\n",
    "- ML uses features to automatically make rules\n",
    "- If we want to reduce error with ML, we usually have to add more features\n",
    "- Deep learning automatically makes the features and the rules!"
   ]
  },
  {
   "cell_type": "markdown",
   "id": "dbe939c8-c098-46ff-9a5a-623792bf1048",
   "metadata": {
    "slideshow": {
     "slide_type": "fragment"
    },
    "tags": []
   },
   "source": [
    "![deep_learning](img/dl.svg)"
   ]
  },
  {
   "cell_type": "markdown",
   "id": "a951ab9e-4313-473c-a63a-260db5cb9c81",
   "metadata": {
    "slideshow": {
     "slide_type": "slide"
    },
    "tags": []
   },
   "source": [
    "## ML -> Deep Learning\n",
    "\n",
    "- Deep learning repeatedly applies linear functions and nonlinear functions to get a prediction\n",
    "- An example of a network is $y=relu(w2 * relu(w1 * x + b1) + b2$.\n",
    "- $w1 * x + b$ is the same equation as linear regression, and relu is a nonlinear activation function"
   ]
  },
  {
   "cell_type": "markdown",
   "id": "8d34de93-747c-49cc-a114-50efefc338a4",
   "metadata": {
    "slideshow": {
     "slide_type": "fragment"
    },
    "tags": []
   },
   "source": [
    "- The $w$ values are called weights, and the $b$ values are biases\n",
    "- We use gradient descent to find the correct values for the weights and biases\n",
    "\n",
    "![nn](img/nn.svg)"
   ]
  },
  {
   "cell_type": "code",
   "execution_count": 69,
   "id": "f0d6089d-acb1-4481-8ac5-57925fdaf7af",
   "metadata": {
    "slideshow": {
     "slide_type": "slide"
    },
    "tags": []
   },
   "outputs": [],
   "source": [
    "weather = pd.read_csv(\"dl_weather.csv\", index_col=0)\n",
    "\n",
    "train = weather[:\"2022-11-20\"]\n",
    "train_x, train_y = [train.loc[:,weather.columns != \"tmax_tomorrow\"].to_numpy(), train[[\"tmax_tomorrow\"]].to_numpy()]\n",
    "\n",
    "test = weather[\"2022-11-20\":]\n",
    "test_x, test_y = [test.loc[:,weather.columns!= \"tmax_tomorrow\"].to_numpy(), test[[\"tmax_tomorrow\"]].to_numpy()]"
   ]
  },
  {
   "cell_type": "code",
   "execution_count": 106,
   "id": "8df38bc8-d9b2-45d3-90a0-9f90255d937b",
   "metadata": {
    "slideshow": {
     "slide_type": "slide"
    },
    "tags": []
   },
   "outputs": [],
   "source": [
    "import net\n",
    "import numpy as np\n",
    "\n",
    "lr = 1e-7\n",
    "layer_conf = [train_x.shape[1],20,10,1]\n",
    "\n",
    "layers = net.init_layers(layer_conf)"
   ]
  },
  {
   "cell_type": "code",
   "execution_count": 107,
   "id": "85932ab9-ba8c-418b-b7a3-d2082f5deda1",
   "metadata": {
    "slideshow": {
     "slide_type": "fragment"
    },
    "tags": []
   },
   "outputs": [
    {
     "name": "stdout",
     "output_type": "stream",
     "text": [
      "2.750552\n"
     ]
    }
   ],
   "source": [
    "for i in range(0, train_x.shape[0] - 1):\n",
    "    layers = net.backward(layers, train_x[i:(i+1),:].copy(), train_y[i:(i+1),:], lr)\n",
    "\n",
    "preds = net.forward(layers, test_x)\n",
    "print(np.mean(np.abs(test_y - preds)))"
   ]
  },
  {
   "cell_type": "markdown",
   "id": "df5df4e8-0d5c-464b-a5e2-a186bde5cabf",
   "metadata": {
    "slideshow": {
     "slide_type": "slide"
    },
    "tags": []
   },
   "source": [
    "## ML vs DL\n",
    "\n",
    "- Both automatically learn prediction rules\n",
    "- ML requires feature engineering, DL automatically engineers features"
   ]
  },
  {
   "cell_type": "markdown",
   "id": "c976e27d-0dab-45a1-bac5-a2aa34ae14bf",
   "metadata": {
    "slideshow": {
     "slide_type": "fragment"
    },
    "tags": []
   },
   "source": [
    "### When to use ML vs DL\n",
    "\n",
    "- ML is usually better for tabular data (like an Excel sheet)\n",
    "- DL is better for unstructured data (like text and images)"
   ]
  },
  {
   "cell_type": "markdown",
   "id": "294d2c39-744a-4a81-9a7b-fcf6d95f34e4",
   "metadata": {
    "slideshow": {
     "slide_type": "fragment"
    },
    "tags": []
   },
   "source": [
    "- DL needs a lot more data, time, and parameter optimization\n",
    "- It's usually easier to understand why a model is making a prediction with ML"
   ]
  }
 ],
 "metadata": {
  "celltoolbar": "Slideshow",
  "kernelspec": {
   "display_name": "Python 3 (ipykernel)",
   "language": "python",
   "name": "python3"
  },
  "language_info": {
   "codemirror_mode": {
    "name": "ipython",
    "version": 3
   },
   "file_extension": ".py",
   "mimetype": "text/x-python",
   "name": "python",
   "nbconvert_exporter": "python",
   "pygments_lexer": "ipython3",
   "version": "3.10.8"
  },
  "rise": {
   "theme": "white"
  }
 },
 "nbformat": 4,
 "nbformat_minor": 5
}
