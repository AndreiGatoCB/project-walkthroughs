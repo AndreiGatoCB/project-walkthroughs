{
 "cells": [
  {
   "cell_type": "code",
   "execution_count": 29,
   "id": "8dce0353-f881-4e99-83bc-77d88854a7ec",
   "metadata": {},
   "outputs": [],
   "source": [
    "import pandas as pd\n",
    "\n",
    "summary = pd.read_csv(\"labels.csv\")\n",
    "\n",
    "valid_players = list(summary[\"folder_name\"])"
   ]
  },
  {
   "cell_type": "code",
   "execution_count": 11,
   "id": "d13d3a78-839b-4001-9189-046a2f5b2a47",
   "metadata": {},
   "outputs": [],
   "source": [
    "import os\n",
    "\n",
    "player_imgs = os.listdir(\"NBA Players\")"
   ]
  },
  {
   "cell_type": "code",
   "execution_count": 79,
   "id": "add7afb3-cb5e-43f0-b419-302695ac276c",
   "metadata": {},
   "outputs": [],
   "source": [
    "to_delete = [p for p in player_imgs if p not in valid_players]"
   ]
  },
  {
   "cell_type": "code",
   "execution_count": 74,
   "id": "8c2d7d78-7983-4a43-ba6f-0052697f0a78",
   "metadata": {},
   "outputs": [],
   "source": [
    "import shutil"
   ]
  },
  {
   "cell_type": "code",
   "execution_count": 84,
   "id": "bfbd3767-4309-4708-92e0-774257dd6838",
   "metadata": {},
   "outputs": [],
   "source": [
    "for f in to_delete:\n",
    "    shutil.rmtree(os.path.join(\"NBA Players\", f))"
   ]
  },
  {
   "cell_type": "code",
   "execution_count": 85,
   "id": "136455f4-d768-41f7-892d-60b4d3d77ebf",
   "metadata": {},
   "outputs": [],
   "source": [
    "player_imgs = os.listdir(\"NBA Players\")"
   ]
  },
  {
   "cell_type": "code",
   "execution_count": 4,
   "id": "9c528381-0b93-492d-b59b-e294475b7fdd",
   "metadata": {},
   "outputs": [],
   "source": [
    "from PIL import Image"
   ]
  },
  {
   "cell_type": "code",
   "execution_count": 36,
   "id": "b7727151-3993-443c-9c75-d7a0bdc8b709",
   "metadata": {},
   "outputs": [],
   "source": [
    "MIN_SIZE = 256\n",
    "invalid_images = []\n",
    "\n",
    "for player in player_imgs:\n",
    "    fname = os.path.join(\"NBA Players\", player)\n",
    "    if player not in valid_players:\n",
    "        continue\n",
    "    for im in os.listdir(fname):\n",
    "        if not im.endswith(\"jpg\"):\n",
    "            continue\n",
    "        impath = os.path.join(fname, im)\n",
    "        try:\n",
    "            img = Image.open(impath)\n",
    "            if (min(img.size)) < MIN_SIZE:\n",
    "                invalid_images.append(impath)\n",
    "        except Exception:\n",
    "            invalid_images.append(impath)"
   ]
  },
  {
   "cell_type": "code",
   "execution_count": 95,
   "id": "f95b1435-1e8a-49b6-8249-6eaa4e79de8d",
   "metadata": {},
   "outputs": [],
   "source": [
    "for img in invalid_images:\n",
    "    os.remove(img)"
   ]
  },
  {
   "cell_type": "code",
   "execution_count": 107,
   "id": "06d69004-63bb-42bd-9857-966e828a1667",
   "metadata": {},
   "outputs": [],
   "source": [
    "to_delete = []\n",
    "for player in player_imgs:\n",
    "    fname = os.path.join(\"NBA Players\", player)\n",
    "    if player not in valid_players:\n",
    "        continue\n",
    "    for im in os.listdir(fname):\n",
    "        if not im.endswith(\"jpg\"):\n",
    "            continue\n",
    "        impath = os.path.join(fname, im)\n",
    "        img = Image.open(impath)\n",
    "        if img.size[0] != img.size[1]:\n",
    "            img_min_size = min(img.size)\n",
    "            try:\n",
    "                img_resized = img.crop(((img.size[0] - img_min_size) // 2,\n",
    "                             (img.size[1] - img_min_size) // 2,\n",
    "                             (img.size[0] + img_min_size) // 2,\n",
    "                             (img.size[1] + img_min_size) // 2))\n",
    "                img_resized.convert(\"RGB\")\n",
    "                img_resized.save(impath)\n",
    "            except Exception:\n",
    "                to_delete.append(impath)"
   ]
  },
  {
   "cell_type": "code",
   "execution_count": 108,
   "id": "8a10d424-eccf-41d7-b691-41c6777b8617",
   "metadata": {},
   "outputs": [
    {
     "data": {
      "text/plain": [
       "['NBA Players/Korver, Kyle/kyle-korver-iso-looks-1112.jpg',\n",
       " 'NBA Players/Green, JaMychal/16314PNG.jpg',\n",
       " 'NBA Players/Irving, Kyrie/https3A2F2Fblogs-images.forbes.com2Fbrianmazique2Ffiles2F20172F102Fkyire.jpg',\n",
       " 'NBA Players/Millsap, Paul/paul-millsap-iso-road.jpg',\n",
       " 'NBA Players/Love, Kevin/https3A2F2Fcdn.cnn.com2Fcnnnext2Fdam2Fassets2F151023121707-kevin-love-nba-highest-paid-players.jpg',\n",
       " 'NBA Players/Love, Kevin/GettyImages-632731414.jpg',\n",
       " 'NBA Players/Love, Kevin/kevin-love-iso-pregame.jpg',\n",
       " 'NBA Players/Ross, Terrence/terrence-rossPNG.jpg',\n",
       " 'NBA Players/Muscala, Mike/AP_19029043634377.jpg',\n",
       " 'NBA Players/Lillard, Damian/960x0.jpg',\n",
       " 'NBA Players/Wright, Delon/16287PNG.jpg',\n",
       " 'NBA Players/Adams, Steven/ea9b8893-735a-450d-b5fc-61a746c35124-large16x9_CapturePNG.jpg',\n",
       " 'NBA Players/Jordan, DeAndre/deandre-jordan-mavs-media-day.jpg',\n",
       " 'NBA Players/Jordan, DeAndre/deandre-jordan-iso-clippers0.jpg',\n",
       " 'NBA Players/Jordan, DeAndre/dunk1strd_jordan.jpg',\n",
       " 'NBA Players/Bjelica, Nemanja/15499PNG.jpg',\n",
       " 'NBA Players/Harden, James/960x02.jpg',\n",
       " 'NBA Players/Roberson, Andre/harden-roberson.jpg',\n",
       " 'NBA Players/Roberson, Andre/GettyImages-868816614.jpg',\n",
       " 'NBA Players/Craig, Torrey/torrey-craig-20190808.jpg']"
      ]
     },
     "execution_count": 108,
     "metadata": {},
     "output_type": "execute_result"
    }
   ],
   "source": [
    "to_delete"
   ]
  },
  {
   "cell_type": "code",
   "execution_count": 110,
   "id": "c7173e93-2205-4bbb-889e-e527d9ef3dc3",
   "metadata": {},
   "outputs": [],
   "source": [
    "for img in to_delete:\n",
    "    os.remove(img)"
   ]
  },
  {
   "cell_type": "code",
   "execution_count": 37,
   "id": "169f462a-bcda-4f94-9676-a5e1b3184f8c",
   "metadata": {},
   "outputs": [],
   "source": [
    "for player in player_imgs:\n",
    "    fname = os.path.join(\"NBA Players\", player)\n",
    "    if player not in valid_players:\n",
    "        continue\n",
    "    for im in os.listdir(fname):\n",
    "        if not im.endswith(\"jpg\"):\n",
    "            continue\n",
    "        impath = os.path.join(fname, im)\n",
    "        img = Image.open(impath)\n",
    "        if img.size[0] > MIN_SIZE:\n",
    "            img.thumbnail((MIN_SIZE, MIN_SIZE), Image.Resampling.LANCZOS)\n",
    "            img.save(impath)"
   ]
  },
  {
   "cell_type": "code",
   "execution_count": 32,
   "id": "f694bd1b-8d26-4bb5-af25-9ea7129418b6",
   "metadata": {},
   "outputs": [],
   "source": [
    "to_delete = []\n",
    "\n",
    "for player in player_imgs:\n",
    "    fname = os.path.join(\"NBA Players\", player)\n",
    "    if player not in valid_players:\n",
    "        continue\n",
    "    for im in os.listdir(fname):\n",
    "        if not im.endswith(\"jpg\"):\n",
    "            continue\n",
    "        impath = os.path.join(fname, im)\n",
    "        \n",
    "        img = Image.open(impath)\n",
    "        \n",
    "        bands = img.getbands()\n",
    "        if len(bands) < 3:\n",
    "            to_delete.append(impath)"
   ]
  },
  {
   "cell_type": "code",
   "execution_count": 34,
   "id": "330c31a8-1f19-4c9c-a8b1-fec82f6e25a3",
   "metadata": {},
   "outputs": [],
   "source": [
    "for img in to_delete:\n",
    "    os.remove(img)"
   ]
  },
  {
   "cell_type": "code",
   "execution_count": null,
   "id": "808d8014-3ea4-403d-869b-114dc9479caa",
   "metadata": {},
   "outputs": [],
   "source": []
  }
 ],
 "metadata": {
  "kernelspec": {
   "display_name": "Python 3 (ipykernel)",
   "language": "python",
   "name": "python3"
  },
  "language_info": {
   "codemirror_mode": {
    "name": "ipython",
    "version": 3
   },
   "file_extension": ".py",
   "mimetype": "text/x-python",
   "name": "python",
   "nbconvert_exporter": "python",
   "pygments_lexer": "ipython3",
   "version": "3.9.13"
  }
 },
 "nbformat": 4,
 "nbformat_minor": 5
}
