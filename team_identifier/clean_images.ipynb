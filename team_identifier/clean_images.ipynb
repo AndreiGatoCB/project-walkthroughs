{
 "cells": [
  {
   "cell_type": "code",
   "execution_count": 56,
   "id": "8dce0353-f881-4e99-83bc-77d88854a7ec",
   "metadata": {},
   "outputs": [],
   "source": [
    "import pandas as pd\n",
    "import os\n",
    "import shutil\n",
    "from PIL import Image\n",
    "\n",
    "IMAGE_DIR = \"images\"\n",
    "MIN_SIZE = 256\n",
    "FOLDERS = [\"happy\", \"sad\", \"relaxed\", \"angry\"]\n",
    "VALID_EXTENSIONS = [\"jpg\", \"png\", \"gif\"]\n",
    "TARGET_EXTENSION = \"jpg\""
   ]
  },
  {
   "cell_type": "code",
   "execution_count": 57,
   "id": "b7727151-3993-443c-9c75-d7a0bdc8b709",
   "metadata": {},
   "outputs": [],
   "source": [
    "invalid_images = []\n",
    "\n",
    "for folder in os.listdir(IMAGE_DIR):\n",
    "    fname = os.path.join(IMAGE_DIR, folder)\n",
    "    \n",
    "    if folder not in FOLDERS:\n",
    "        invalid_images.append(fname)\n",
    "        continue\n",
    "    \n",
    "    for im in os.listdir(fname):\n",
    "        impath = os.path.join(fname, im)\n",
    "        \n",
    "        extension = im.split(\".\")[-1]\n",
    "        if extension not in VALID_EXTENSIONS:\n",
    "            invalid_images.append(impath)\n",
    "            continue\n",
    "            \n",
    "        try:\n",
    "            img = Image.open(impath)\n",
    "            if (min(img.size)) < MIN_SIZE:\n",
    "                invalid_images.append(impath)\n",
    "        except Exception:\n",
    "            invalid_images.append(impath)"
   ]
  },
  {
   "cell_type": "code",
   "execution_count": 58,
   "id": "2591fcde-c21f-499c-828b-dd2b9b0999c3",
   "metadata": {},
   "outputs": [
    {
     "data": {
      "text/plain": [
       "['images/angry/.ipynb_checkpoints']"
      ]
     },
     "execution_count": 58,
     "metadata": {},
     "output_type": "execute_result"
    }
   ],
   "source": [
    "invalid_images"
   ]
  },
  {
   "cell_type": "code",
   "execution_count": 59,
   "id": "f95b1435-1e8a-49b6-8249-6eaa4e79de8d",
   "metadata": {},
   "outputs": [],
   "source": [
    "def remove_items(items):\n",
    "    for item in invalid_images:\n",
    "        try:\n",
    "            os.remove(item)\n",
    "        except PermissionError:\n",
    "            shutil.rmtree(item)"
   ]
  },
  {
   "cell_type": "code",
   "execution_count": 60,
   "id": "c9f85000-7533-46a4-a113-be3246773da1",
   "metadata": {},
   "outputs": [],
   "source": [
    "remove_items(invalid_images)"
   ]
  },
  {
   "cell_type": "code",
   "execution_count": 53,
   "id": "06d69004-63bb-42bd-9857-966e828a1667",
   "metadata": {},
   "outputs": [],
   "source": [
    "to_delete = []\n",
    "\n",
    "for folder in FOLDERS:\n",
    "    fname = os.path.join(IMAGE_DIR, folder)\n",
    "    for im in os.listdir(fname):\n",
    "        impath = os.path.join(fname, im)\n",
    "        extension = im.split(\".\")[-1]\n",
    "        \n",
    "        new_path = impath\n",
    "        new_path = new_path.replace(f\".{extension}\", \".jpg\")\n",
    "        \n",
    "        img = Image.open(impath)\n",
    "        if img.size[0] != img.size[1]:\n",
    "            img_min_size = min(img.size)\n",
    "            try:\n",
    "                img_resized = img.crop(((img.size[0] - img_min_size) // 2,\n",
    "                             (img.size[1] - img_min_size) // 2,\n",
    "                             (img.size[0] + img_min_size) // 2,\n",
    "                             (img.size[1] + img_min_size) // 2))\n",
    "                img_resized = img_resized.convert(\"RGB\")\n",
    "                \n",
    "                if img_resized.size[0] > MIN_SIZE:\n",
    "                    img_resized.thumbnail((MIN_SIZE, MIN_SIZE), Image.Resampling.LANCZOS)\n",
    "                \n",
    "                img_resized.save(new_path)\n",
    "                if new_path != impath:\n",
    "                    to_delete.append(impath)\n",
    "                    \n",
    "            except Exception:\n",
    "                to_delete.append(impath)"
   ]
  },
  {
   "cell_type": "code",
   "execution_count": 55,
   "id": "8a10d424-eccf-41d7-b691-41c6777b8617",
   "metadata": {},
   "outputs": [
    {
     "data": {
      "text/plain": [
       "0"
      ]
     },
     "execution_count": 55,
     "metadata": {},
     "output_type": "execute_result"
    }
   ],
   "source": [
    "len(to_delete)"
   ]
  },
  {
   "cell_type": "code",
   "execution_count": 110,
   "id": "c7173e93-2205-4bbb-889e-e527d9ef3dc3",
   "metadata": {},
   "outputs": [],
   "source": [
    "remove_items(to_delete)"
   ]
  },
  {
   "cell_type": "code",
   "execution_count": 61,
   "id": "f694bd1b-8d26-4bb5-af25-9ea7129418b6",
   "metadata": {},
   "outputs": [],
   "source": [
    "to_delete = []\n",
    "\n",
    "for folder in FOLDERS:\n",
    "    fname = os.path.join(IMAGE_DIR, folder)\n",
    "    \n",
    "    for im in os.listdir(fname):\n",
    "        impath = os.path.join(fname, im)\n",
    "        if not im.endswith(\"jpg\"):\n",
    "            to_delete.append(impath)\n",
    "            continue\n",
    "        \n",
    "        img = Image.open(impath)\n",
    "        bands = img.getbands()\n",
    "        if img.size[1] > 256:\n",
    "            to_delete.append(impath)\n",
    "        if len(bands) != 3:\n",
    "            to_delete.append(impath)"
   ]
  },
  {
   "cell_type": "code",
   "execution_count": 64,
   "id": "330c31a8-1f19-4c9c-a8b1-fec82f6e25a3",
   "metadata": {},
   "outputs": [
    {
     "data": {
      "text/plain": [
       "415"
      ]
     },
     "execution_count": 64,
     "metadata": {},
     "output_type": "execute_result"
    }
   ],
   "source": [
    "len(to_delete)"
   ]
  },
  {
   "cell_type": "code",
   "execution_count": 65,
   "id": "dcfcf14f-0228-4755-9a72-4f1e8344ebeb",
   "metadata": {},
   "outputs": [
    {
     "ename": "FileNotFoundError",
     "evalue": "[Errno 2] No such file or directory: 'images/angry/.ipynb_checkpoints'",
     "output_type": "error",
     "traceback": [
      "\u001b[0;31m---------------------------------------------------------------------------\u001b[0m",
      "\u001b[0;31mFileNotFoundError\u001b[0m                         Traceback (most recent call last)",
      "\u001b[0;32m/var/folders/xz/9z84c__j28g8tg28bmcthjj00000gn/T/ipykernel_69696/41496556.py\u001b[0m in \u001b[0;36m<module>\u001b[0;34m\u001b[0m\n\u001b[0;32m----> 1\u001b[0;31m \u001b[0mremove_items\u001b[0m\u001b[0;34m(\u001b[0m\u001b[0mto_delete\u001b[0m\u001b[0;34m)\u001b[0m\u001b[0;34m\u001b[0m\u001b[0;34m\u001b[0m\u001b[0m\n\u001b[0m",
      "\u001b[0;32m/var/folders/xz/9z84c__j28g8tg28bmcthjj00000gn/T/ipykernel_69696/1982051642.py\u001b[0m in \u001b[0;36mremove_items\u001b[0;34m(items)\u001b[0m\n\u001b[1;32m      2\u001b[0m     \u001b[0;32mfor\u001b[0m \u001b[0mitem\u001b[0m \u001b[0;32min\u001b[0m \u001b[0minvalid_images\u001b[0m\u001b[0;34m:\u001b[0m\u001b[0;34m\u001b[0m\u001b[0;34m\u001b[0m\u001b[0m\n\u001b[1;32m      3\u001b[0m         \u001b[0;32mtry\u001b[0m\u001b[0;34m:\u001b[0m\u001b[0;34m\u001b[0m\u001b[0;34m\u001b[0m\u001b[0m\n\u001b[0;32m----> 4\u001b[0;31m             \u001b[0mos\u001b[0m\u001b[0;34m.\u001b[0m\u001b[0mremove\u001b[0m\u001b[0;34m(\u001b[0m\u001b[0mitem\u001b[0m\u001b[0;34m)\u001b[0m\u001b[0;34m\u001b[0m\u001b[0;34m\u001b[0m\u001b[0m\n\u001b[0m\u001b[1;32m      5\u001b[0m         \u001b[0;32mexcept\u001b[0m \u001b[0mPermissionError\u001b[0m\u001b[0;34m:\u001b[0m\u001b[0;34m\u001b[0m\u001b[0;34m\u001b[0m\u001b[0m\n\u001b[1;32m      6\u001b[0m             \u001b[0mshutil\u001b[0m\u001b[0;34m.\u001b[0m\u001b[0mrmtree\u001b[0m\u001b[0;34m(\u001b[0m\u001b[0mitem\u001b[0m\u001b[0;34m)\u001b[0m\u001b[0;34m\u001b[0m\u001b[0;34m\u001b[0m\u001b[0m\n",
      "\u001b[0;31mFileNotFoundError\u001b[0m: [Errno 2] No such file or directory: 'images/angry/.ipynb_checkpoints'"
     ]
    }
   ],
   "source": [
    "remove_items(to_delete)"
   ]
  },
  {
   "cell_type": "code",
   "execution_count": 33,
   "id": "72e4c41d-9466-49d1-a515-8f56289064af",
   "metadata": {},
   "outputs": [
    {
     "data": {
      "text/plain": [
       "array(['OKC', 'PHI', 'ORL', 'CLE', 'MIA', 'LAL', 'PHO', 'HOU', 'CHO',\n",
       "       'DET', 'DAL', 'SAC', 'UTA', 'BOS', 'WAS', 'MIL', 'SAS', 'POR',\n",
       "       'ATL', 'GSW', 'TOR', 'CHI', 'BRK', 'NOP', 'IND', 'MEM', 'LAC',\n",
       "       'NYK', 'DEN'], dtype=object)"
      ]
     },
     "execution_count": 33,
     "metadata": {},
     "output_type": "execute_result"
    }
   ],
   "source": [
    "summary[\"team\"].unique()"
   ]
  },
  {
   "cell_type": "code",
   "execution_count": null,
   "id": "3fb1b708-e772-4479-91db-0b539025ea53",
   "metadata": {},
   "outputs": [],
   "source": []
  }
 ],
 "metadata": {
  "kernelspec": {
   "display_name": "Python 3 (ipykernel)",
   "language": "python",
   "name": "python3"
  },
  "language_info": {
   "codemirror_mode": {
    "name": "ipython",
    "version": 3
   },
   "file_extension": ".py",
   "mimetype": "text/x-python",
   "name": "python",
   "nbconvert_exporter": "python",
   "pygments_lexer": "ipython3",
   "version": "3.9.13"
  }
 },
 "nbformat": 4,
 "nbformat_minor": 5
}
