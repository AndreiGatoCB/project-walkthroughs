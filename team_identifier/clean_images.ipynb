{
 "cells": [
  {
   "cell_type": "code",
   "execution_count": 92,
   "id": "8dce0353-f881-4e99-83bc-77d88854a7ec",
   "metadata": {},
   "outputs": [],
   "source": [
    "import pandas as pd\n",
    "import os\n",
    "import shutil\n",
    "from PIL import Image\n",
    "\n",
    "IMAGE_DIR = \"imagesorig\"\n",
    "MIN_SIZE = 256\n",
    "FOLDERS = [\"happy\", \"sad\", \"relaxed\", \"angry\"]\n",
    "VALID_EXTENSIONS = [\"jpg\", \"png\", \"gif\"]\n",
    "TARGET_EXTENSION = \"jpg\""
   ]
  },
  {
   "cell_type": "code",
   "execution_count": 95,
   "id": "b7727151-3993-443c-9c75-d7a0bdc8b709",
   "metadata": {},
   "outputs": [],
   "source": [
    "invalid_images = []\n",
    "\n",
    "for folder in FOLDERS:\n",
    "    fname = os.path.join(IMAGE_DIR, folder)\n",
    "    \n",
    "    for im in os.listdir(fname):\n",
    "        impath = os.path.join(fname, im)\n",
    "        \n",
    "        extension = im.split(\".\")[-1]\n",
    "        if extension not in VALID_EXTENSIONS:\n",
    "            invalid_images.append(impath)\n",
    "            continue\n",
    "            \n",
    "        try:\n",
    "            img = Image.open(impath)\n",
    "            bands = img.getbands()\n",
    "            if (min(img.size)) < MIN_SIZE or len(bands) != 3:\n",
    "                invalid_images.append(impath)\n",
    "            \n",
    "        except Exception:\n",
    "            invalid_images.append(impath)"
   ]
  },
  {
   "cell_type": "code",
   "execution_count": 96,
   "id": "2591fcde-c21f-499c-828b-dd2b9b0999c3",
   "metadata": {},
   "outputs": [
    {
     "data": {
      "text/plain": [
       "['imagesorig/happy/2788372463_2daa375cc8_b.jpg',\n",
       " 'imagesorig/happy/33378088884_cda0e08877_b.jpg',\n",
       " 'imagesorig/happy/4503012656_e232c980bc_b.jpg',\n",
       " 'imagesorig/happy/46028886485_d3a159ae18_b.jpg',\n",
       " 'imagesorig/sad/8115030896_8b5249f585_b.jpg',\n",
       " 'imagesorig/sad/3406988390_f1e7cb024a_b.jpg',\n",
       " 'imagesorig/sad/36081715960_7d4c40a24d_b.jpg',\n",
       " 'imagesorig/sad/7020697207_aab34aecba_b.jpg',\n",
       " 'imagesorig/sad/14573872817_5801754389_b.jpg',\n",
       " 'imagesorig/sad/45396884262_32c3416328_b.jpg',\n",
       " 'imagesorig/sad/5691449791_a2879b4662_b.jpg',\n",
       " 'imagesorig/sad/1538312484_47904347c3_b.jpg',\n",
       " 'imagesorig/sad/13301504003_a58072192c_b.jpg',\n",
       " 'imagesorig/sad/17907537739_6e1738f4ac_b.jpg',\n",
       " 'imagesorig/sad/2806366348_c98f67cbae_b.jpg',\n",
       " 'imagesorig/sad/32822834967_ee2f332119_b.jpg',\n",
       " 'imagesorig/sad/42709079890_f414c72de5_b.jpg',\n",
       " 'imagesorig/relaxed/43535780982_a09920a105_b.jpg',\n",
       " 'imagesorig/relaxed/13357865393_98e496a43d_b.jpg',\n",
       " 'imagesorig/relaxed/37344586465_6527d86d3b_b.jpg',\n",
       " 'imagesorig/relaxed/3502644041_5f4f771550_b.jpg',\n",
       " 'imagesorig/relaxed/33020331080_31a8340621_b.jpg',\n",
       " 'imagesorig/angry/7277981100_74b5187930_b.jpg',\n",
       " 'imagesorig/angry/13963607821_9bc333d9c2_b.jpg',\n",
       " 'imagesorig/angry/6722802191_0437c3119c_b.jpg',\n",
       " 'imagesorig/angry/16860727960_7b8cfe03f7_b.jpg',\n",
       " 'imagesorig/angry/4201022772_ddf9fdc07d_b.jpg',\n",
       " 'imagesorig/angry/41782836345_bc1c13394b_b.jpg',\n",
       " 'imagesorig/angry/8499134473_106586b95c_b.jpg',\n",
       " 'imagesorig/angry/4412467936_1e7454f678_b.jpg',\n",
       " 'imagesorig/angry/7429099244_1f9f6c101d_b.jpg',\n",
       " 'imagesorig/angry/26545086837_d41d494011_b.jpg']"
      ]
     },
     "execution_count": 96,
     "metadata": {},
     "output_type": "execute_result"
    }
   ],
   "source": [
    "invalid_images"
   ]
  },
  {
   "cell_type": "code",
   "execution_count": 97,
   "id": "f95b1435-1e8a-49b6-8249-6eaa4e79de8d",
   "metadata": {},
   "outputs": [],
   "source": [
    "def remove_items(items):\n",
    "    for item in items:\n",
    "        try:\n",
    "            os.remove(item)\n",
    "        except PermissionError:\n",
    "            shutil.rmtree(item)\n",
    "        except FileNotFoundError:\n",
    "            print(item)"
   ]
  },
  {
   "cell_type": "code",
   "execution_count": 98,
   "id": "c9f85000-7533-46a4-a113-be3246773da1",
   "metadata": {},
   "outputs": [],
   "source": [
    "remove_items(invalid_images)"
   ]
  },
  {
   "cell_type": "code",
   "execution_count": 53,
   "id": "06d69004-63bb-42bd-9857-966e828a1667",
   "metadata": {},
   "outputs": [],
   "source": [
    "to_delete = []\n",
    "\n",
    "for folder in FOLDERS:\n",
    "    fname = os.path.join(IMAGE_DIR, folder)\n",
    "    for im in os.listdir(fname):\n",
    "        impath = os.path.join(fname, im)\n",
    "        extension = im.split(\".\")[-1]\n",
    "        \n",
    "        new_path = impath.replace(f\".{extension}\", \".jpg\")\n",
    "        \n",
    "        img = Image.open(impath)\n",
    "        if img.size[0] != img.size[1]:\n",
    "            img_min_size = min(img.size)\n",
    "            try:\n",
    "                img_resized = img.crop(((img.size[0] - img_min_size) // 2,\n",
    "                             (img.size[1] - img_min_size) // 2,\n",
    "                             (img.size[0] + img_min_size) // 2,\n",
    "                             (img.size[1] + img_min_size) // 2))\n",
    "\n",
    "            except Exception:\n",
    "                to_delete.append(impath)\n",
    "        else:\n",
    "            img_resized = img\n",
    "        \n",
    "        img_resized = img_resized.convert(\"RGB\")\n",
    "        img_resized.thumbnail((MIN_SIZE, MIN_SIZE), Image.Resampling.LANCZOS)\n",
    "\n",
    "        img_resized.save(new_path)\n",
    "        if new_path != impath:\n",
    "            to_delete.append(impath)"
   ]
  },
  {
   "cell_type": "code",
   "execution_count": 55,
   "id": "8a10d424-eccf-41d7-b691-41c6777b8617",
   "metadata": {},
   "outputs": [
    {
     "data": {
      "text/plain": [
       "0"
      ]
     },
     "execution_count": 55,
     "metadata": {},
     "output_type": "execute_result"
    }
   ],
   "source": [
    "len(to_delete)"
   ]
  },
  {
   "cell_type": "code",
   "execution_count": 110,
   "id": "c7173e93-2205-4bbb-889e-e527d9ef3dc3",
   "metadata": {},
   "outputs": [],
   "source": [
    "remove_items(to_delete)"
   ]
  },
  {
   "cell_type": "code",
   "execution_count": null,
   "id": "7768a97a-ba14-4d25-a711-6efe8ba06ec1",
   "metadata": {},
   "outputs": [],
   "source": []
  }
 ],
 "metadata": {
  "kernelspec": {
   "display_name": "Python 3 (ipykernel)",
   "language": "python",
   "name": "python3"
  },
  "language_info": {
   "codemirror_mode": {
    "name": "ipython",
    "version": 3
   },
   "file_extension": ".py",
   "mimetype": "text/x-python",
   "name": "python",
   "nbconvert_exporter": "python",
   "pygments_lexer": "ipython3",
   "version": "3.9.13"
  }
 },
 "nbformat": 4,
 "nbformat_minor": 5
}
