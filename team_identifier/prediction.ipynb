{
 "cells": [
  {
   "cell_type": "code",
   "execution_count": 1,
   "id": "92b8a87a-3e82-46b5-b6d5-a85dd0ca1221",
   "metadata": {},
   "outputs": [],
   "source": [
    "import os\n",
    "import pandas as pd"
   ]
  },
  {
   "cell_type": "code",
   "execution_count": 2,
   "id": "4005d1c9-2788-4f01-a5c8-1250bc6fa2f1",
   "metadata": {},
   "outputs": [],
   "source": [
    "IMAGE_DIR = \"images\"\n",
    "FOLDERS = [\"happy\", \"sad\", \"relaxed\", \"angry\"]"
   ]
  },
  {
   "cell_type": "code",
   "execution_count": 3,
   "id": "9ee01d72-792e-4126-808a-83880f423276",
   "metadata": {},
   "outputs": [],
   "source": [
    "img_files = []\n",
    "labels = []\n",
    "label_code = []\n",
    "\n",
    "for folder in FOLDERS:\n",
    "    fname = os.path.join(IMAGE_DIR, folder)\n",
    "    \n",
    "    for im in os.listdir(fname):\n",
    "        impath = os.path.join(fname, im)\n",
    "        \n",
    "        img_files.append(impath)\n",
    "        labels.append(folder)\n",
    "        label_code.append(FOLDERS.index(folder))"
   ]
  },
  {
   "cell_type": "code",
   "execution_count": 4,
   "id": "f63b1e82-f8ef-4d9c-9d03-5c6019dde2f4",
   "metadata": {},
   "outputs": [],
   "source": [
    "import pandas as pd\n",
    "\n",
    "dataset = pd.DataFrame(dict(filename=img_files, label=labels, code=label_code))"
   ]
  },
  {
   "cell_type": "code",
   "execution_count": 5,
   "id": "8495a2f9-b2ae-44e4-a8fc-2b209e7dbe8f",
   "metadata": {},
   "outputs": [
    {
     "data": {
      "text/html": [
       "<div>\n",
       "<style scoped>\n",
       "    .dataframe tbody tr th:only-of-type {\n",
       "        vertical-align: middle;\n",
       "    }\n",
       "\n",
       "    .dataframe tbody tr th {\n",
       "        vertical-align: top;\n",
       "    }\n",
       "\n",
       "    .dataframe thead th {\n",
       "        text-align: right;\n",
       "    }\n",
       "</style>\n",
       "<table border=\"1\" class=\"dataframe\">\n",
       "  <thead>\n",
       "    <tr style=\"text-align: right;\">\n",
       "      <th></th>\n",
       "      <th>filename</th>\n",
       "      <th>label</th>\n",
       "      <th>code</th>\n",
       "    </tr>\n",
       "  </thead>\n",
       "  <tbody>\n",
       "    <tr>\n",
       "      <th>0</th>\n",
       "      <td>images/happy/814630827_5f07025901_b.jpg</td>\n",
       "      <td>happy</td>\n",
       "      <td>0</td>\n",
       "    </tr>\n",
       "    <tr>\n",
       "      <th>1</th>\n",
       "      <td>images/happy/3485251203_8c29906dfc_b.jpg</td>\n",
       "      <td>happy</td>\n",
       "      <td>0</td>\n",
       "    </tr>\n",
       "    <tr>\n",
       "      <th>2</th>\n",
       "      <td>images/happy/68064855_3acb7bdb2f_b.jpg</td>\n",
       "      <td>happy</td>\n",
       "      <td>0</td>\n",
       "    </tr>\n",
       "    <tr>\n",
       "      <th>3</th>\n",
       "      <td>images/happy/7292844552_a9ee901faa_b.jpg</td>\n",
       "      <td>happy</td>\n",
       "      <td>0</td>\n",
       "    </tr>\n",
       "    <tr>\n",
       "      <th>4</th>\n",
       "      <td>images/happy/14189841729_bafff6f76e_b.jpg</td>\n",
       "      <td>happy</td>\n",
       "      <td>0</td>\n",
       "    </tr>\n",
       "    <tr>\n",
       "      <th>...</th>\n",
       "      <td>...</td>\n",
       "      <td>...</td>\n",
       "      <td>...</td>\n",
       "    </tr>\n",
       "    <tr>\n",
       "      <th>6074</th>\n",
       "      <td>images/angry/26545086837_d41d494011_b.jpg</td>\n",
       "      <td>angry</td>\n",
       "      <td>3</td>\n",
       "    </tr>\n",
       "    <tr>\n",
       "      <th>6075</th>\n",
       "      <td>images/angry/4272821119_2fb5bda323_b.jpg</td>\n",
       "      <td>angry</td>\n",
       "      <td>3</td>\n",
       "    </tr>\n",
       "    <tr>\n",
       "      <th>6076</th>\n",
       "      <td>images/angry/9817465344_73a24fcb7e_b.jpg</td>\n",
       "      <td>angry</td>\n",
       "      <td>3</td>\n",
       "    </tr>\n",
       "    <tr>\n",
       "      <th>6077</th>\n",
       "      <td>images/angry/7015512467_6bd0e4e3b0_b.jpg</td>\n",
       "      <td>angry</td>\n",
       "      <td>3</td>\n",
       "    </tr>\n",
       "    <tr>\n",
       "      <th>6078</th>\n",
       "      <td>images/angry/5142499310_c54a82664a_b.jpg</td>\n",
       "      <td>angry</td>\n",
       "      <td>3</td>\n",
       "    </tr>\n",
       "  </tbody>\n",
       "</table>\n",
       "<p>6079 rows × 3 columns</p>\n",
       "</div>"
      ],
      "text/plain": [
       "                                       filename  label  code\n",
       "0       images/happy/814630827_5f07025901_b.jpg  happy     0\n",
       "1      images/happy/3485251203_8c29906dfc_b.jpg  happy     0\n",
       "2        images/happy/68064855_3acb7bdb2f_b.jpg  happy     0\n",
       "3      images/happy/7292844552_a9ee901faa_b.jpg  happy     0\n",
       "4     images/happy/14189841729_bafff6f76e_b.jpg  happy     0\n",
       "...                                         ...    ...   ...\n",
       "6074  images/angry/26545086837_d41d494011_b.jpg  angry     3\n",
       "6075   images/angry/4272821119_2fb5bda323_b.jpg  angry     3\n",
       "6076   images/angry/9817465344_73a24fcb7e_b.jpg  angry     3\n",
       "6077   images/angry/7015512467_6bd0e4e3b0_b.jpg  angry     3\n",
       "6078   images/angry/5142499310_c54a82664a_b.jpg  angry     3\n",
       "\n",
       "[6079 rows x 3 columns]"
      ]
     },
     "execution_count": 5,
     "metadata": {},
     "output_type": "execute_result"
    }
   ],
   "source": [
    "dataset"
   ]
  },
  {
   "cell_type": "code",
   "execution_count": 6,
   "id": "df4c9da0-c143-4ea3-a4be-ace157b99a6b",
   "metadata": {},
   "outputs": [],
   "source": [
    "import torch"
   ]
  },
  {
   "cell_type": "code",
   "execution_count": 7,
   "id": "f544b1bb-3b3e-4031-9b23-55813bd7ec08",
   "metadata": {},
   "outputs": [
    {
     "data": {
      "text/plain": [
       "False"
      ]
     },
     "execution_count": 7,
     "metadata": {},
     "output_type": "execute_result"
    }
   ],
   "source": [
    "torch.cuda.is_available()"
   ]
  },
  {
   "cell_type": "code",
   "execution_count": 8,
   "id": "84d27771-7378-4ed0-8e5f-2105658fba26",
   "metadata": {},
   "outputs": [
    {
     "data": {
      "text/plain": [
       "True"
      ]
     },
     "execution_count": 8,
     "metadata": {},
     "output_type": "execute_result"
    }
   ],
   "source": [
    "torch.backends.mps.is_available()"
   ]
  },
  {
   "cell_type": "code",
   "execution_count": 9,
   "id": "23c34c6f-1aa2-453b-8c7a-02802447fee7",
   "metadata": {},
   "outputs": [],
   "source": [
    "device = torch.device(\"mps\")"
   ]
  },
  {
   "cell_type": "code",
   "execution_count": 10,
   "id": "ab30be71-cbf5-439f-8c76-0be314f9eca6",
   "metadata": {},
   "outputs": [],
   "source": [
    "from torchvision.io import read_image\n",
    "from torchvision.transforms import RandomHorizontalFlip, RandomVerticalFlip, RandomRotation\n",
    "from torch.utils.data import Dataset\n",
    "import math\n",
    "\n",
    "class DogDataset(Dataset):\n",
    "    def __init__(self, dataset):\n",
    "        self.dataset = dataset\n",
    "        self.augments = [RandomHorizontalFlip(1), RandomRotation(90), RandomVerticalFlip(1)]\n",
    "\n",
    "    def __len__(self):\n",
    "        return self.dataset.shape[0] * (len(self.augments) + 1)\n",
    "    \n",
    "    def classes(self):\n",
    "        return self.dataset[\"code\"].unique()\n",
    "\n",
    "    def __getitem__(self, idx):\n",
    "        augment = math.floor(idx / self.dataset.shape[0])\n",
    "        idx = idx % self.dataset.shape[0]\n",
    "        \n",
    "        row = self.dataset.iloc[idx,:]\n",
    "            \n",
    "        img_path = row[\"filename\"]\n",
    "        image = read_image(img_path)\n",
    "        \n",
    "        label = row[\"code\"]\n",
    "        \n",
    "        if augment > 0:\n",
    "            image = self.augments[augment - 1].forward(image)\n",
    "\n",
    "        return image, int(label)"
   ]
  },
  {
   "cell_type": "code",
   "execution_count": 11,
   "id": "b6e97845-89e5-4df2-82cf-dde4cd7c116a",
   "metadata": {},
   "outputs": [],
   "source": [
    "data = DogDataset(dataset)"
   ]
  },
  {
   "cell_type": "code",
   "execution_count": 12,
   "id": "4b1ca0bb-ca7f-48d1-a8d9-50f9156cb8b3",
   "metadata": {},
   "outputs": [],
   "source": [
    "train_size = int(0.8 * len(data))\n",
    "test_size = len(data) - train_size\n",
    "train_data, test_data = torch.utils.data.random_split(data, [train_size, test_size], generator=torch.Generator().manual_seed(1))"
   ]
  },
  {
   "cell_type": "code",
   "execution_count": 13,
   "id": "b63da000-6c16-48a4-b800-5b50e649252e",
   "metadata": {},
   "outputs": [],
   "source": [
    "from torch.utils.data import DataLoader\n",
    "\n",
    "BATCH_SIZE = 64\n",
    "EPOCHS = 50\n",
    "\n",
    "train = DataLoader(train_data, batch_size=BATCH_SIZE, shuffle=True)\n",
    "test = DataLoader(test_data, batch_size=BATCH_SIZE, shuffle=True)"
   ]
  },
  {
   "cell_type": "code",
   "execution_count": 14,
   "id": "0a6abd70-8c15-4c37-82cf-bcc2ea89aa84",
   "metadata": {},
   "outputs": [],
   "source": [
    "from torch import nn\n",
    "\n",
    "class NeuralNetwork(nn.Module):\n",
    "    def __init__(self, classes):\n",
    "        super(NeuralNetwork, self).__init__()\n",
    "        \n",
    "        self.cnn = nn.Sequential(\n",
    "            nn.Conv2d(3, 8, 4),\n",
    "            nn.ReLU(True),\n",
    "            nn.MaxPool2d(2, 2),\n",
    "            nn.Conv2d(8, 32, 4),\n",
    "            nn.ReLU(True),\n",
    "            nn.MaxPool2d(2, 2),\n",
    "            nn.Dropout(.1),\n",
    "        )\n",
    "        \n",
    "        self.dense = nn.Sequential(\n",
    "            nn.Linear(32 * 61 * 61, 256),\n",
    "            nn.ReLU(True),\n",
    "            nn.Linear(256, 64),\n",
    "            nn.ReLU(True),\n",
    "            nn.Linear(64, len(classes))\n",
    "        )\n",
    "\n",
    "    def forward(self, x):\n",
    "        x = self.cnn(x)\n",
    "        x = torch.flatten(x, 1) \n",
    "        x = self.dense(x)\n",
    "        return x"
   ]
  },
  {
   "cell_type": "code",
   "execution_count": 15,
   "id": "be5c4143-e10c-4053-af13-235eb783c305",
   "metadata": {},
   "outputs": [],
   "source": [
    "labels = data.classes()"
   ]
  },
  {
   "cell_type": "code",
   "execution_count": 16,
   "id": "0b98b6b4-0604-46a4-bf52-134310278e7f",
   "metadata": {},
   "outputs": [],
   "source": [
    "model = NeuralNetwork(labels).to(device)"
   ]
  },
  {
   "cell_type": "code",
   "execution_count": 17,
   "id": "d878a4bc-6a4f-411a-8a6c-6ca018a0da65",
   "metadata": {},
   "outputs": [
    {
     "data": {
      "text/plain": [
       "NeuralNetwork(\n",
       "  (cnn): Sequential(\n",
       "    (0): Conv2d(3, 8, kernel_size=(4, 4), stride=(1, 1))\n",
       "    (1): ReLU(inplace=True)\n",
       "    (2): MaxPool2d(kernel_size=2, stride=2, padding=0, dilation=1, ceil_mode=False)\n",
       "    (3): Conv2d(8, 32, kernel_size=(4, 4), stride=(1, 1))\n",
       "    (4): ReLU(inplace=True)\n",
       "    (5): MaxPool2d(kernel_size=2, stride=2, padding=0, dilation=1, ceil_mode=False)\n",
       "    (6): Dropout(p=0.1, inplace=False)\n",
       "  )\n",
       "  (dense): Sequential(\n",
       "    (0): Linear(in_features=119072, out_features=256, bias=True)\n",
       "    (1): ReLU(inplace=True)\n",
       "    (2): Linear(in_features=256, out_features=64, bias=True)\n",
       "    (3): ReLU(inplace=True)\n",
       "    (4): Linear(in_features=64, out_features=4, bias=True)\n",
       "  )\n",
       ")"
      ]
     },
     "execution_count": 17,
     "metadata": {},
     "output_type": "execute_result"
    }
   ],
   "source": [
    "model"
   ]
  },
  {
   "cell_type": "code",
   "execution_count": 18,
   "id": "300f305d-40f7-4aab-b927-0ec19aa8bb1e",
   "metadata": {},
   "outputs": [],
   "source": [
    "loss_fn = nn.CrossEntropyLoss()\n",
    "optimizer = torch.optim.SGD(model.parameters(), lr=.001)"
   ]
  },
  {
   "cell_type": "code",
   "execution_count": null,
   "id": "0c967766-4f87-4997-97d5-aa631927949f",
   "metadata": {},
   "outputs": [
    {
     "name": "stdout",
     "output_type": "stream",
     "text": [
      "loss: 1.367949  [0]\n",
      "loss: 1.375600  [1]\n",
      "loss: 1.381673  [2]\n",
      "loss: 1.339631  [3]\n",
      "loss: 1.343381  [4]\n",
      "loss: 1.309834  [5]\n",
      "loss: 1.301780  [6]\n",
      "loss: 1.246748  [7]\n",
      "loss: 1.187173  [8]\n",
      "loss: 1.122270  [9]\n",
      "loss: 1.171266  [10]\n",
      "loss: 1.054570  [11]\n",
      "loss: 0.836899  [12]\n",
      "loss: 0.745445  [13]\n",
      "loss: 0.635964  [14]\n",
      "loss: 0.703498  [15]\n",
      "loss: 1.404646  [16]\n",
      "loss: 0.614036  [17]\n",
      "loss: 0.468430  [18]\n",
      "loss: 0.490676  [19]\n",
      "loss: 0.517192  [20]\n",
      "loss: 0.500605  [21]\n",
      "loss: 0.468837  [22]\n",
      "loss: 0.455015  [23]\n"
     ]
    }
   ],
   "source": [
    "size = len(train.dataset)\n",
    "\n",
    "for epoch in range(EPOCHS):\n",
    "    for batch, (images, labels) in enumerate(train): \n",
    "        optimizer.zero_grad()\n",
    "        \n",
    "        images = images.to(device)\n",
    "        pred = model(images.float())\n",
    "        \n",
    "        labels = labels.to(device)\n",
    "        loss = loss_fn(pred, labels)\n",
    "\n",
    "        loss.backward()\n",
    "        optimizer.step()\n",
    "\n",
    "    loss, current = loss.item(), batch * len(images)\n",
    "    print(f\"loss: {loss:>7f}  [{epoch}]\")"
   ]
  },
  {
   "cell_type": "code",
   "execution_count": null,
   "id": "535ff2b4-ea72-4447-bad4-e8be2d0aeea7",
   "metadata": {},
   "outputs": [],
   "source": [
    "all_preds = list()\n",
    "all_labels = list()\n",
    "\n",
    "with torch.no_grad():\n",
    "    for batch, (images, labels) in enumerate(test):\n",
    "        \n",
    "        images = images.to(device)\n",
    "        outputs = model(images.float())\n",
    "        \n",
    "        _, preds = torch.max(outputs.data, 1)\n",
    "        \n",
    "        all_labels.append(labels)\n",
    "        all_preds.append(preds)"
   ]
  },
  {
   "cell_type": "code",
   "execution_count": null,
   "id": "8ff78ee9-ac16-4cc5-842c-252392adf6d4",
   "metadata": {},
   "outputs": [],
   "source": [
    "import numpy as np\n",
    "\n",
    "preds = np.concatenate([p.cpu().numpy() for p in all_preds])\n",
    "labels = np.concatenate([p.cpu().numpy() for p in all_labels])"
   ]
  },
  {
   "cell_type": "code",
   "execution_count": null,
   "id": "c1f16dff-7eb2-4d5f-bf54-d12783e98ea8",
   "metadata": {},
   "outputs": [],
   "source": [
    "pd.Series(preds).value_counts()"
   ]
  },
  {
   "cell_type": "code",
   "execution_count": null,
   "id": "af6c9232-a9bf-4e88-b1ea-d691b0e99ea8",
   "metadata": {},
   "outputs": [],
   "source": [
    "((preds == labels).sum()) / len(labels)"
   ]
  },
  {
   "cell_type": "code",
   "execution_count": null,
   "id": "34cd1fe9-614f-4bf0-a15b-4d258196f437",
   "metadata": {},
   "outputs": [],
   "source": [
    "labels"
   ]
  },
  {
   "cell_type": "code",
   "execution_count": null,
   "id": "473c1400-ce05-4b24-bd5b-0ae2f0270063",
   "metadata": {},
   "outputs": [],
   "source": [
    "torch.save(model, 'dog_model.pth')"
   ]
  }
 ],
 "metadata": {
  "kernelspec": {
   "display_name": "Python 3 (ipykernel)",
   "language": "python",
   "name": "python3"
  },
  "language_info": {
   "codemirror_mode": {
    "name": "ipython",
    "version": 3
   },
   "file_extension": ".py",
   "mimetype": "text/x-python",
   "name": "python",
   "nbconvert_exporter": "python",
   "pygments_lexer": "ipython3",
   "version": "3.9.13"
  }
 },
 "nbformat": 4,
 "nbformat_minor": 5
}
