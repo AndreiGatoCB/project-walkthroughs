{
 "cells": [
  {
   "cell_type": "code",
   "execution_count": 1,
   "id": "92b8a87a-3e82-46b5-b6d5-a85dd0ca1221",
   "metadata": {},
   "outputs": [],
   "source": [
    "import torch"
   ]
  },
  {
   "cell_type": "code",
   "execution_count": 2,
   "id": "f544b1bb-3b3e-4031-9b23-55813bd7ec08",
   "metadata": {},
   "outputs": [
    {
     "data": {
      "text/plain": [
       "False"
      ]
     },
     "execution_count": 2,
     "metadata": {},
     "output_type": "execute_result"
    }
   ],
   "source": [
    "torch.cuda.is_available()"
   ]
  },
  {
   "cell_type": "code",
   "execution_count": 3,
   "id": "40b608fa-43ae-4cf1-ace3-84a593432525",
   "metadata": {},
   "outputs": [
    {
     "data": {
      "text/plain": [
       "True"
      ]
     },
     "execution_count": 3,
     "metadata": {},
     "output_type": "execute_result"
    }
   ],
   "source": [
    "torch.backends.mps.is_built()"
   ]
  },
  {
   "cell_type": "code",
   "execution_count": 4,
   "id": "84d27771-7378-4ed0-8e5f-2105658fba26",
   "metadata": {},
   "outputs": [
    {
     "data": {
      "text/plain": [
       "True"
      ]
     },
     "execution_count": 4,
     "metadata": {},
     "output_type": "execute_result"
    }
   ],
   "source": [
    "torch.backends.mps.is_available()"
   ]
  },
  {
   "cell_type": "code",
   "execution_count": 5,
   "id": "08dc259d-74b8-4825-945c-b4defe742aea",
   "metadata": {},
   "outputs": [],
   "source": [
    "device = torch.device(\"mps\")"
   ]
  },
  {
   "cell_type": "code",
   "execution_count": 6,
   "id": "ab30be71-cbf5-439f-8c76-0be314f9eca6",
   "metadata": {},
   "outputs": [],
   "source": [
    "import pandas as pd\n",
    "import os\n",
    "from torchvision.io import read_image\n",
    "from torchvision.transforms import RandomHorizontalFlip, RandomVerticalFlip, RandomRotation\n",
    "from torch.utils.data import Dataset\n",
    "import math\n",
    "\n",
    "labels = pd.read_csv(\"labels.csv\", index_col=0)\n",
    "\n",
    "class PlayerDataset(Dataset):\n",
    "    def __init__(self, labels=labels, img_dir=\"NBA Players\"):\n",
    "        self.img_labels = labels\n",
    "        self.img_dir = img_dir\n",
    "        self.img_files = [os.path.join(path, name) for path, subdirs, files in os.walk(\"NBA Players\") for name in files if name.endswith(\"jpg\")]\n",
    "        \n",
    "        self.filter_teams([\"OKC\", \"WAS\", \"LAL\"])\n",
    "        \n",
    "        self.img_labels[\"team_number\"] = self.img_labels[\"team\"].astype(\"category\").cat.codes\n",
    "        self.augments = [RandomHorizontalFlip(1), RandomRotation(90), RandomVerticalFlip(1)]\n",
    "\n",
    "    def __len__(self):\n",
    "        return len(self.img_files) * (len(self.augments) + 1)\n",
    "    \n",
    "    def filter_teams(self, teams):\n",
    "        filtered = self.img_labels[self.img_labels[\"team\"].isin(teams)]\n",
    "        filtered_names = list(filtered[\"folder_name\"])\n",
    "        new_img_files = []\n",
    "        for img_path in self.img_files:\n",
    "            player_name = img_path.split(\"/\")[1]\n",
    "            if player_name in filtered_names:\n",
    "                new_img_files.append(img_path)\n",
    "        self.img_files = new_img_files\n",
    "        self.img_labels = filtered.copy()\n",
    "        \n",
    "    \n",
    "    def teams(self):\n",
    "        return self.img_labels[\"team\"].unique()\n",
    "\n",
    "    def __getitem__(self, idx):\n",
    "        augment = math.floor(idx / len(self.img_files))\n",
    "        idx = idx % len(self.img_files)\n",
    "            \n",
    "        img_path = self.img_files[idx]\n",
    "        image = read_image(img_path)\n",
    "        \n",
    "        player_name = img_path.split(\"/\")[1]\n",
    "        label = self.img_labels[self.img_labels[\"folder_name\"] == player_name][\"team_number\"].iloc[0]\n",
    "        \n",
    "        if augment > 0:\n",
    "            image = self.augments[augment - 1].forward(image)\n",
    "\n",
    "        return image, int(label)"
   ]
  },
  {
   "cell_type": "code",
   "execution_count": 7,
   "id": "b6e97845-89e5-4df2-82cf-dde4cd7c116a",
   "metadata": {},
   "outputs": [],
   "source": [
    "data = PlayerDataset()"
   ]
  },
  {
   "cell_type": "code",
   "execution_count": 8,
   "id": "84ee26c5-6d01-4ab3-9d7a-94dd414cc81a",
   "metadata": {},
   "outputs": [],
   "source": [
    "teams = data.teams()"
   ]
  },
  {
   "cell_type": "code",
   "execution_count": 9,
   "id": "61a7f0cb-d83f-4351-8b43-c7d946e98175",
   "metadata": {},
   "outputs": [
    {
     "data": {
      "text/plain": [
       "7"
      ]
     },
     "execution_count": 9,
     "metadata": {},
     "output_type": "execute_result"
    }
   ],
   "source": [
    "len(teams)"
   ]
  },
  {
   "cell_type": "code",
   "execution_count": 10,
   "id": "4b1ca0bb-ca7f-48d1-a8d9-50f9156cb8b3",
   "metadata": {},
   "outputs": [],
   "source": [
    "train_size = int(0.8 * len(data))\n",
    "test_size = len(data) - train_size\n",
    "train_data, test_data = torch.utils.data.random_split(data, [train_size, test_size])"
   ]
  },
  {
   "cell_type": "code",
   "execution_count": 11,
   "id": "b63da000-6c16-48a4-b800-5b50e649252e",
   "metadata": {},
   "outputs": [],
   "source": [
    "from torch.utils.data import DataLoader\n",
    "\n",
    "BATCH_SIZE = 128\n",
    "EPOCHS = 10\n",
    "\n",
    "train = DataLoader(train_data, batch_size=BATCH_SIZE, shuffle=True)\n",
    "test = DataLoader(test_data, batch_size=BATCH_SIZE, shuffle=True)"
   ]
  },
  {
   "cell_type": "code",
   "execution_count": 12,
   "id": "0a6abd70-8c15-4c37-82cf-bcc2ea89aa84",
   "metadata": {},
   "outputs": [],
   "source": [
    "from torch import nn\n",
    "\n",
    "class NeuralNetwork(nn.Module):\n",
    "    def __init__(self, classes):\n",
    "        super(NeuralNetwork, self).__init__()\n",
    "        \n",
    "        self.cnn = nn.Sequential(\n",
    "            nn.Conv2d(3, 8, 5),\n",
    "            nn.ReLU(),\n",
    "            nn.MaxPool2d(2, 2),\n",
    "            nn.Conv2d(8, 16, 5),\n",
    "            nn.ReLU(),\n",
    "            nn.MaxPool2d(2, 2),\n",
    "            nn.Conv2d(16, 32, 5),\n",
    "            nn.ReLU(),\n",
    "            nn.MaxPool2d(2, 2),\n",
    "            nn.Dropout(.1),\n",
    "        )\n",
    "        \n",
    "        self.dense = nn.Sequential(\n",
    "            nn.Linear(32 * 28 * 28, 256),\n",
    "            nn.ReLU(),\n",
    "            nn.Linear(256, 64),\n",
    "            nn.ReLU(),\n",
    "            nn.Linear(64, len(classes))\n",
    "        )\n",
    "\n",
    "    def forward(self, x):\n",
    "        x = self.cnn(x)\n",
    "        x = torch.flatten(x, 1) \n",
    "        x = self.dense(x)\n",
    "        return x"
   ]
  },
  {
   "cell_type": "code",
   "execution_count": 13,
   "id": "0b98b6b4-0604-46a4-bf52-134310278e7f",
   "metadata": {},
   "outputs": [],
   "source": [
    "model = NeuralNetwork(teams).to(device)"
   ]
  },
  {
   "cell_type": "code",
   "execution_count": 14,
   "id": "d878a4bc-6a4f-411a-8a6c-6ca018a0da65",
   "metadata": {},
   "outputs": [
    {
     "data": {
      "text/plain": [
       "NeuralNetwork(\n",
       "  (cnn): Sequential(\n",
       "    (0): Conv2d(3, 8, kernel_size=(5, 5), stride=(1, 1))\n",
       "    (1): ReLU()\n",
       "    (2): MaxPool2d(kernel_size=2, stride=2, padding=0, dilation=1, ceil_mode=False)\n",
       "    (3): Conv2d(8, 16, kernel_size=(5, 5), stride=(1, 1))\n",
       "    (4): ReLU()\n",
       "    (5): MaxPool2d(kernel_size=2, stride=2, padding=0, dilation=1, ceil_mode=False)\n",
       "    (6): Conv2d(16, 32, kernel_size=(5, 5), stride=(1, 1))\n",
       "    (7): ReLU()\n",
       "    (8): MaxPool2d(kernel_size=2, stride=2, padding=0, dilation=1, ceil_mode=False)\n",
       "    (9): Dropout(p=0.1, inplace=False)\n",
       "  )\n",
       "  (dense): Sequential(\n",
       "    (0): Linear(in_features=25088, out_features=256, bias=True)\n",
       "    (1): ReLU()\n",
       "    (2): Linear(in_features=256, out_features=64, bias=True)\n",
       "    (3): ReLU()\n",
       "    (4): Linear(in_features=64, out_features=7, bias=True)\n",
       "  )\n",
       ")"
      ]
     },
     "execution_count": 14,
     "metadata": {},
     "output_type": "execute_result"
    }
   ],
   "source": [
    "model"
   ]
  },
  {
   "cell_type": "code",
   "execution_count": 15,
   "id": "300f305d-40f7-4aab-b927-0ec19aa8bb1e",
   "metadata": {},
   "outputs": [],
   "source": [
    "loss_fn = nn.CrossEntropyLoss()\n",
    "optimizer = torch.optim.SGD(model.parameters(), lr=.01)"
   ]
  },
  {
   "cell_type": "code",
   "execution_count": null,
   "id": "0c967766-4f87-4997-97d5-aa631927949f",
   "metadata": {},
   "outputs": [
    {
     "name": "stdout",
     "output_type": "stream",
     "text": [
      "loss: 1.898536  [0.000000%]\n",
      "loss: 1.958914  [0.100000%]\n",
      "loss: 1.929461  [0.200000%]\n",
      "loss: 1.873349  [0.300000%]\n",
      "loss: 1.819665  [0.400000%]\n",
      "loss: 1.800894  [0.500000%]\n",
      "loss: 1.810111  [0.600000%]\n",
      "loss: 1.688251  [0.700000%]\n",
      "loss: 1.356767  [0.800000%]\n"
     ]
    }
   ],
   "source": [
    "size = len(train.dataset)\n",
    "\n",
    "for epoch in range(EPOCHS):\n",
    "    for batch, (images, labels) in enumerate(train): \n",
    "        optimizer.zero_grad()\n",
    "        \n",
    "        # Compute prediction and loss\n",
    "        images = images.to(device)\n",
    "        pred = model(images.float())\n",
    "        \n",
    "        labels = labels.to(device)\n",
    "        loss = loss_fn(pred, labels)\n",
    "\n",
    "        # Backpropagation\n",
    "        loss.backward()\n",
    "        optimizer.step()\n",
    "\n",
    "    loss, current = loss.item(), batch * len(images)\n",
    "    print(f\"loss: {loss:>7f}  [{epoch / EPOCHS:>3f}%]\")"
   ]
  },
  {
   "cell_type": "code",
   "execution_count": null,
   "id": "535ff2b4-ea72-4447-bad4-e8be2d0aeea7",
   "metadata": {},
   "outputs": [],
   "source": [
    "all_preds = list()\n",
    "all_labels = list()\n",
    "\n",
    "with torch.no_grad():\n",
    "    for batch, (images, labels) in enumerate(test):\n",
    "        \n",
    "        images = images.to(device)\n",
    "        outputs = model(images.float())\n",
    "        \n",
    "        _, preds = torch.max(outputs.data, 1)\n",
    "        \n",
    "        all_labels.append(labels)\n",
    "        all_preds.append(preds)"
   ]
  },
  {
   "cell_type": "code",
   "execution_count": null,
   "id": "8ff78ee9-ac16-4cc5-842c-252392adf6d4",
   "metadata": {},
   "outputs": [],
   "source": [
    "import numpy as np\n",
    "\n",
    "preds = np.concatenate([p.cpu().numpy() for p in all_preds])\n",
    "labels = np.concatenate([p.cpu().numpy() for p in all_labels])"
   ]
  },
  {
   "cell_type": "code",
   "execution_count": null,
   "id": "af6c9232-a9bf-4e88-b1ea-d691b0e99ea8",
   "metadata": {},
   "outputs": [],
   "source": [
    "((preds == labels).sum()) / len(labels)"
   ]
  },
  {
   "cell_type": "code",
   "execution_count": null,
   "id": "34cd1fe9-614f-4bf0-a15b-4d258196f437",
   "metadata": {},
   "outputs": [],
   "source": [
    "labels"
   ]
  },
  {
   "cell_type": "code",
   "execution_count": null,
   "id": "9a4bf6cd-71f7-4371-b403-5d55caf7effd",
   "metadata": {},
   "outputs": [],
   "source": [
    "train.dataset[2][0].shape"
   ]
  },
  {
   "cell_type": "code",
   "execution_count": null,
   "id": "7315849f-958c-47e2-8c24-4ae56a9b5cc0",
   "metadata": {},
   "outputs": [],
   "source": [
    "[t[0].shape for t in list(train.dataset) if t[0].shape[1] > 256]"
   ]
  },
  {
   "cell_type": "code",
   "execution_count": null,
   "id": "8909f424-26f6-4620-9816-879d1a6f3e95",
   "metadata": {},
   "outputs": [],
   "source": [
    "[os.path.join(path, name) for path, subdirs, files in os.walk(\"NBA Players\") for name in files if name.endswith(\"jpg\")][14]"
   ]
  },
  {
   "cell_type": "code",
   "execution_count": null,
   "id": "473c1400-ce05-4b24-bd5b-0ae2f0270063",
   "metadata": {},
   "outputs": [],
   "source": []
  }
 ],
 "metadata": {
  "kernelspec": {
   "display_name": "Python 3 (ipykernel)",
   "language": "python",
   "name": "python3"
  },
  "language_info": {
   "codemirror_mode": {
    "name": "ipython",
    "version": 3
   },
   "file_extension": ".py",
   "mimetype": "text/x-python",
   "name": "python",
   "nbconvert_exporter": "python",
   "pygments_lexer": "ipython3",
   "version": "3.9.13"
  }
 },
 "nbformat": 4,
 "nbformat_minor": 5
}
