{
 "cells": [
  {
   "cell_type": "code",
   "execution_count": null,
   "id": "fbfd5ca7-767f-4d1e-841d-526c5df38aa5",
   "metadata": {},
   "outputs": [],
   "source": [
    "from playwright.async_api import async_playwright"
   ]
  },
  {
   "cell_type": "code",
   "execution_count": null,
   "id": "145e47e8-a8a5-40d5-a653-651ca511c943",
   "metadata": {},
   "outputs": [],
   "source": [
    "async with async_playwright() as p:\n",
    "    browser = await p.chromium.launch()\n",
    "    page = await browser.new_page()\n",
    "    await page.goto(\"https://www.basketball-reference.com/leagues/NBA_2020_totals.html\")\n",
    "    print(await page.title())\n",
    "    html = await page.inner_html(\"#all_totals_stats\")"
   ]
  },
  {
   "cell_type": "code",
   "execution_count": null,
   "id": "891d72d7-ba47-426a-8d4e-8600f7cd21c9",
   "metadata": {},
   "outputs": [],
   "source": [
    "import pandas as pd\n",
    "\n",
    "stats = pd.read_html(html)"
   ]
  },
  {
   "cell_type": "code",
   "execution_count": null,
   "id": "c16974df-ee55-423f-936e-ff48da062393",
   "metadata": {},
   "outputs": [],
   "source": [
    "players = stats[0]"
   ]
  },
  {
   "cell_type": "code",
   "execution_count": null,
   "id": "26dcd555-462b-4c39-b7da-f93b5bf08942",
   "metadata": {},
   "outputs": [],
   "source": [
    "summary = players[[\"Player\", \"Age\", \"Tm\"]].groupby(\"Player\", group_keys=False).agg(['count', 'min'])"
   ]
  },
  {
   "cell_type": "code",
   "execution_count": null,
   "id": "d51fc6fd-c713-4593-a14e-2c05e3634822",
   "metadata": {},
   "outputs": [],
   "source": [
    "summary.columns = [\"team_count\", \"age\", \"tc\", \"team\"]"
   ]
  },
  {
   "cell_type": "code",
   "execution_count": null,
   "id": "5ae699d9-a8bf-46df-88cc-f544ed77a40b",
   "metadata": {},
   "outputs": [],
   "source": [
    "del summary[\"tc\"]"
   ]
  },
  {
   "cell_type": "code",
   "execution_count": null,
   "id": "bed21e30-ea10-42d6-82de-2687922e0faa",
   "metadata": {},
   "outputs": [],
   "source": [
    "summary[\"age\"] = pd.to_numeric(summary[\"age\"], errors=\"coerce\")\n",
    "summary = summary.dropna()\n",
    "summary = summary[(summary[\"team_count\"] == 1) & (summary[\"age\"] > 25)]"
   ]
  },
  {
   "cell_type": "code",
   "execution_count": null,
   "id": "e1ac381e-2dfe-429b-8ee9-3f882af05c87",
   "metadata": {},
   "outputs": [],
   "source": [
    "valid_players = pd.Series(summary.index)\n",
    "valid_players = list(valid_players.apply(lambda x: \", \".join(reversed(x.split(\" \")))))\n",
    "summary[\"folder_name\"] = valid_players"
   ]
  },
  {
   "cell_type": "code",
   "execution_count": null,
   "id": "3cfcde5c-c6cf-4a27-8756-9f1d6a204311",
   "metadata": {},
   "outputs": [],
   "source": [
    "summary[\"team_number\"] = summary[\"team\"].astype(\"category\").cat.codes"
   ]
  },
  {
   "cell_type": "code",
   "execution_count": null,
   "id": "bb80aea3-3ede-4120-bf6d-373df73002c6",
   "metadata": {},
   "outputs": [],
   "source": [
    "summary.to_csv(\"labels.csv\")"
   ]
  }
 ],
 "metadata": {
  "kernelspec": {
   "display_name": "Python 3 (ipykernel)",
   "language": "python",
   "name": "python3"
  },
  "language_info": {
   "codemirror_mode": {
    "name": "ipython",
    "version": 3
   },
   "file_extension": ".py",
   "mimetype": "text/x-python",
   "name": "python",
   "nbconvert_exporter": "python",
   "pygments_lexer": "ipython3",
   "version": "3.9.13"
  }
 },
 "nbformat": 4,
 "nbformat_minor": 5
}
